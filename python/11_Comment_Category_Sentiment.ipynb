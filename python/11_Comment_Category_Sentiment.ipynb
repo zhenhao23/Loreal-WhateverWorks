{
 "cells": [
  {
   "cell_type": "markdown",
   "id": "8b2e85e0",
   "metadata": {},
   "source": [
    "# Comment Topic and Sentiment : Aspect-Based LDA Topic Modeling\n",
    "\n",
    "This notebook performs aspect-based topic modeling and sentiment analysis on YouTube comments using Latent Dirichlet Allocation (LDA). The workflow includes:\n",
    "\n",
    "- Data loading, cleaning, and merging for comments and video metadata\n",
    "- Exploding aspect and sentiment columns for detailed analysis\n",
    "- Separating comments by sentiment (negative/positive) and aspect (makeup, hair, skin, perfume, body)\n",
    "- Vectorizing text data and training LDA models to discover topics within each sentiment and aspect category\n",
    "- Assigning dominant topics and confidence scores to each comment\n",
    "- Visualizing and summarizing topic distributions for both negative and positive comments\n",
    "- Saving comprehensive topic count results to CSV for further analysis\n",
    "\n",
    "This approach enables a detailed understanding of the main themes and sentiments expressed in comments for each product aspect, supporting actionable insights for content and product strategy."
   ]
  },
  {
   "cell_type": "markdown",
   "id": "7991a7a5",
   "metadata": {},
   "source": [
    "## Import Required Libraries\n",
    "Import the necessary libraries for data manipulation, text vectorization, and topic modeling. This includes pandas, scikit-learn's CountVectorizer and LatentDirichletAllocation, numpy, and ast for data parsing."
   ]
  },
  {
   "cell_type": "code",
   "execution_count": 58,
   "id": "c178a84f",
   "metadata": {},
   "outputs": [],
   "source": [
    "import pandas as pd\n",
    "from sklearn.feature_extraction.text import CountVectorizer\n",
    "from sklearn.decomposition import LatentDirichletAllocation\n",
    "import numpy as np\n",
    "import ast"
   ]
  },
  {
   "cell_type": "markdown",
   "id": "1f7a1ecf",
   "metadata": {},
   "source": [
    "## Load Dataset\n",
    "Read the preprocessed dataset containing comments and KPIs from a CSV file into a pandas DataFrame. Display the first few rows to verify successful loading and inspect the data structure."
   ]
  },
  {
   "cell_type": "code",
   "execution_count": null,
   "id": "132109a4",
   "metadata": {},
   "outputs": [
    {
     "data": {
      "text/html": [
       "<div>\n",
       "<style scoped>\n",
       "    .dataframe tbody tr th:only-of-type {\n",
       "        vertical-align: middle;\n",
       "    }\n",
       "\n",
       "    .dataframe tbody tr th {\n",
       "        vertical-align: top;\n",
       "    }\n",
       "\n",
       "    .dataframe thead th {\n",
       "        text-align: right;\n",
       "    }\n",
       "</style>\n",
       "<table border=\"1\" class=\"dataframe\">\n",
       "  <thead>\n",
       "    <tr style=\"text-align: right;\">\n",
       "      <th></th>\n",
       "      <th>commentId</th>\n",
       "      <th>channelId</th>\n",
       "      <th>videoId</th>\n",
       "      <th>authorId</th>\n",
       "      <th>textOriginal</th>\n",
       "      <th>parentCommentId</th>\n",
       "      <th>likeCount</th>\n",
       "      <th>publishedAt</th>\n",
       "      <th>updatedAt</th>\n",
       "      <th>duplicatedFlag</th>\n",
       "      <th>...</th>\n",
       "      <th>predicted_spam</th>\n",
       "      <th>isSpam</th>\n",
       "      <th>is_english</th>\n",
       "      <th>relevance_score</th>\n",
       "      <th>negative</th>\n",
       "      <th>neutral</th>\n",
       "      <th>positive</th>\n",
       "      <th>aspect</th>\n",
       "      <th>sentiment</th>\n",
       "      <th>KPI</th>\n",
       "    </tr>\n",
       "  </thead>\n",
       "  <tbody>\n",
       "    <tr>\n",
       "      <th>0</th>\n",
       "      <td>732985</td>\n",
       "      <td>50368</td>\n",
       "      <td>21218</td>\n",
       "      <td>440354</td>\n",
       "      <td>This Navratri makeup tutorial is perfect for b...</td>\n",
       "      <td>NaN</td>\n",
       "      <td>1</td>\n",
       "      <td>2024-10-07 14:33:12+00:00</td>\n",
       "      <td>2024-10-07 14:33:12+00:00</td>\n",
       "      <td>0</td>\n",
       "      <td>...</td>\n",
       "      <td>0.0</td>\n",
       "      <td>0</td>\n",
       "      <td>1</td>\n",
       "      <td>0.869423</td>\n",
       "      <td>0.016649</td>\n",
       "      <td>0.052854</td>\n",
       "      <td>0.930497</td>\n",
       "      <td>['makeup tutorial', 'lip']</td>\n",
       "      <td>['Positive', 'Positive']</td>\n",
       "      <td>0.685384</td>\n",
       "    </tr>\n",
       "    <tr>\n",
       "      <th>1</th>\n",
       "      <td>2260379</td>\n",
       "      <td>14429</td>\n",
       "      <td>69445</td>\n",
       "      <td>1025481</td>\n",
       "      <td>That is not what men think no makeup is, that ...</td>\n",
       "      <td>NaN</td>\n",
       "      <td>0</td>\n",
       "      <td>2023-08-05 11:43:47+00:00</td>\n",
       "      <td>2023-08-05 11:43:47+00:00</td>\n",
       "      <td>0</td>\n",
       "      <td>...</td>\n",
       "      <td>0.0</td>\n",
       "      <td>0</td>\n",
       "      <td>1</td>\n",
       "      <td>0.754436</td>\n",
       "      <td>0.945486</td>\n",
       "      <td>0.038934</td>\n",
       "      <td>0.015580</td>\n",
       "      <td>['color']</td>\n",
       "      <td>['Negative']</td>\n",
       "      <td>0.680329</td>\n",
       "    </tr>\n",
       "    <tr>\n",
       "      <th>2</th>\n",
       "      <td>3689418</td>\n",
       "      <td>14429</td>\n",
       "      <td>69445</td>\n",
       "      <td>2321622</td>\n",
       "      <td>No one's gonna like this, but I think the main...</td>\n",
       "      <td>NaN</td>\n",
       "      <td>2</td>\n",
       "      <td>2025-01-02 01:37:59+00:00</td>\n",
       "      <td>2025-01-02 01:37:59+00:00</td>\n",
       "      <td>0</td>\n",
       "      <td>...</td>\n",
       "      <td>0.0</td>\n",
       "      <td>0</td>\n",
       "      <td>1</td>\n",
       "      <td>0.780013</td>\n",
       "      <td>0.853927</td>\n",
       "      <td>0.116936</td>\n",
       "      <td>0.029137</td>\n",
       "      <td>['beauty', 'skin', 'eye', 'lip']</td>\n",
       "      <td>['Negative', 'Negative', 'Negative', 'Negative']</td>\n",
       "      <td>0.663095</td>\n",
       "    </tr>\n",
       "    <tr>\n",
       "      <th>3</th>\n",
       "      <td>3521557</td>\n",
       "      <td>18073</td>\n",
       "      <td>34950</td>\n",
       "      <td>2076266</td>\n",
       "      <td>Indian traditional makeup is just wow it's sim...</td>\n",
       "      <td>NaN</td>\n",
       "      <td>0</td>\n",
       "      <td>2021-07-12 10:44:50+00:00</td>\n",
       "      <td>2021-07-12 10:44:50+00:00</td>\n",
       "      <td>0</td>\n",
       "      <td>...</td>\n",
       "      <td>0.0</td>\n",
       "      <td>0</td>\n",
       "      <td>1</td>\n",
       "      <td>0.857476</td>\n",
       "      <td>0.008585</td>\n",
       "      <td>0.021154</td>\n",
       "      <td>0.970262</td>\n",
       "      <td>['makeup']</td>\n",
       "      <td>['Positive']</td>\n",
       "      <td>0.659377</td>\n",
       "    </tr>\n",
       "    <tr>\n",
       "      <th>4</th>\n",
       "      <td>4341727</td>\n",
       "      <td>32562</td>\n",
       "      <td>11402</td>\n",
       "      <td>1792614</td>\n",
       "      <td>Oh woow Allure, what a great every day 10 minu...</td>\n",
       "      <td>NaN</td>\n",
       "      <td>55</td>\n",
       "      <td>2022-09-28 23:04:20+00:00</td>\n",
       "      <td>2022-10-01 11:33:21+00:00</td>\n",
       "      <td>0</td>\n",
       "      <td>...</td>\n",
       "      <td>0.0</td>\n",
       "      <td>0</td>\n",
       "      <td>1</td>\n",
       "      <td>0.748480</td>\n",
       "      <td>0.010089</td>\n",
       "      <td>0.011792</td>\n",
       "      <td>0.978118</td>\n",
       "      <td>['taste']</td>\n",
       "      <td>['Positive']</td>\n",
       "      <td>0.658192</td>\n",
       "    </tr>\n",
       "  </tbody>\n",
       "</table>\n",
       "<p>5 rows × 23 columns</p>\n",
       "</div>"
      ],
      "text/plain": [
       "   commentId  channelId  videoId  authorId  \\\n",
       "0     732985      50368    21218    440354   \n",
       "1    2260379      14429    69445   1025481   \n",
       "2    3689418      14429    69445   2321622   \n",
       "3    3521557      18073    34950   2076266   \n",
       "4    4341727      32562    11402   1792614   \n",
       "\n",
       "                                        textOriginal  parentCommentId  \\\n",
       "0  This Navratri makeup tutorial is perfect for b...              NaN   \n",
       "1  That is not what men think no makeup is, that ...              NaN   \n",
       "2  No one's gonna like this, but I think the main...              NaN   \n",
       "3  Indian traditional makeup is just wow it's sim...              NaN   \n",
       "4  Oh woow Allure, what a great every day 10 minu...              NaN   \n",
       "\n",
       "   likeCount                publishedAt                  updatedAt  \\\n",
       "0          1  2024-10-07 14:33:12+00:00  2024-10-07 14:33:12+00:00   \n",
       "1          0  2023-08-05 11:43:47+00:00  2023-08-05 11:43:47+00:00   \n",
       "2          2  2025-01-02 01:37:59+00:00  2025-01-02 01:37:59+00:00   \n",
       "3          0  2021-07-12 10:44:50+00:00  2021-07-12 10:44:50+00:00   \n",
       "4         55  2022-09-28 23:04:20+00:00  2022-10-01 11:33:21+00:00   \n",
       "\n",
       "   duplicatedFlag  ... predicted_spam isSpam  is_english  relevance_score  \\\n",
       "0               0  ...            0.0      0           1         0.869423   \n",
       "1               0  ...            0.0      0           1         0.754436   \n",
       "2               0  ...            0.0      0           1         0.780013   \n",
       "3               0  ...            0.0      0           1         0.857476   \n",
       "4               0  ...            0.0      0           1         0.748480   \n",
       "\n",
       "   negative   neutral  positive                            aspect  \\\n",
       "0  0.016649  0.052854  0.930497        ['makeup tutorial', 'lip']   \n",
       "1  0.945486  0.038934  0.015580                         ['color']   \n",
       "2  0.853927  0.116936  0.029137  ['beauty', 'skin', 'eye', 'lip']   \n",
       "3  0.008585  0.021154  0.970262                        ['makeup']   \n",
       "4  0.010089  0.011792  0.978118                         ['taste']   \n",
       "\n",
       "                                          sentiment       KPI  \n",
       "0                          ['Positive', 'Positive']  0.685384  \n",
       "1                                      ['Negative']  0.680329  \n",
       "2  ['Negative', 'Negative', 'Negative', 'Negative']  0.663095  \n",
       "3                                      ['Positive']  0.659377  \n",
       "4                                      ['Positive']  0.658192  \n",
       "\n",
       "[5 rows x 23 columns]"
      ]
     },
     "execution_count": 2,
     "metadata": {},
     "output_type": "execute_result"
    }
   ],
   "source": [
    "# Load the dataset containing comments and KPIs\n",
    "# Display the first few rows to inspect the data structure\n",
    "data = pd.read_csv('dataset/final_dataset_with_kpi.csv')\n",
    "data.head()"
   ]
  },
  {
   "cell_type": "markdown",
   "id": "7a617f66",
   "metadata": {},
   "source": [
    "## Check DataFrame Shape\n",
    "Display the shape of the DataFrame to understand the number of rows and columns in the loaded dataset."
   ]
  },
  {
   "cell_type": "code",
   "execution_count": null,
   "id": "8861780c",
   "metadata": {},
   "outputs": [
    {
     "data": {
      "text/plain": [
       "(2014093, 23)"
      ]
     },
     "execution_count": 3,
     "metadata": {},
     "output_type": "execute_result"
    }
   ],
   "source": [
    "# Display the shape of the DataFrame to check the number of rows and columns\n",
    "data.shape"
   ]
  },
  {
   "cell_type": "markdown",
   "id": "7d9de3cb",
   "metadata": {},
   "source": [
    "## Check for Missing Values\n",
    "Display the number of missing values in each column to assess data quality and identify columns that may require cleaning or imputation."
   ]
  },
  {
   "cell_type": "code",
   "execution_count": 4,
   "id": "c3cda002",
   "metadata": {},
   "outputs": [
    {
     "data": {
      "text/plain": [
       "(1137958, 23)"
      ]
     },
     "execution_count": 4,
     "metadata": {},
     "output_type": "execute_result"
    }
   ],
   "source": [
    "filtered_data = data[data['aspect']!=\"[]\"]\n",
    "filtered_data.shape"
   ]
  },
  {
   "cell_type": "markdown",
   "id": "4c1b8727",
   "metadata": {},
   "source": [
    "## Load Video Engagement Data\n",
    "Read the video-level engagement scores from a CSV file into a pandas DataFrame. Display the first few rows to inspect the structure and verify successful loading."
   ]
  },
  {
   "cell_type": "code",
   "execution_count": 5,
   "id": "e2a64f98",
   "metadata": {},
   "outputs": [
    {
     "data": {
      "text/html": [
       "<div>\n",
       "<style scoped>\n",
       "    .dataframe tbody tr th:only-of-type {\n",
       "        vertical-align: middle;\n",
       "    }\n",
       "\n",
       "    .dataframe tbody tr th {\n",
       "        vertical-align: top;\n",
       "    }\n",
       "\n",
       "    .dataframe thead th {\n",
       "        text-align: right;\n",
       "    }\n",
       "</style>\n",
       "<table border=\"1\" class=\"dataframe\">\n",
       "  <thead>\n",
       "    <tr style=\"text-align: right;\">\n",
       "      <th></th>\n",
       "      <th>videoId</th>\n",
       "      <th>publishedAt</th>\n",
       "      <th>channelId</th>\n",
       "      <th>title</th>\n",
       "      <th>description</th>\n",
       "      <th>tags</th>\n",
       "      <th>defaultLanguage</th>\n",
       "      <th>defaultAudioLanguage</th>\n",
       "      <th>contentDuration</th>\n",
       "      <th>viewCount</th>\n",
       "      <th>...</th>\n",
       "      <th>is_english</th>\n",
       "      <th>translated</th>\n",
       "      <th>extracted_topicCategories</th>\n",
       "      <th>extracted_topicCategories_str</th>\n",
       "      <th>dominant_topic</th>\n",
       "      <th>topic_confidence</th>\n",
       "      <th>topic_label</th>\n",
       "      <th>average_kpi</th>\n",
       "      <th>comment_count</th>\n",
       "      <th>video_engagement_score</th>\n",
       "    </tr>\n",
       "  </thead>\n",
       "  <tbody>\n",
       "    <tr>\n",
       "      <th>0</th>\n",
       "      <td>78245</td>\n",
       "      <td>2023-10-20 16:00:42+00:00</td>\n",
       "      <td>41338</td>\n",
       "      <td>Sydney Sweeney Perfecting the Shot</td>\n",
       "      <td>We're taking you behind the scenes on Sydney S...</td>\n",
       "      <td>NaN</td>\n",
       "      <td>NaN</td>\n",
       "      <td>en-US</td>\n",
       "      <td>PT18S</td>\n",
       "      <td>264368764.0</td>\n",
       "      <td>...</td>\n",
       "      <td>1</td>\n",
       "      <td>sydney sweeney perfecting shot</td>\n",
       "      <td>['Entertainment', 'Physical_attractiveness']</td>\n",
       "      <td>Entertainment, Physical_attractiveness</td>\n",
       "      <td>4.0</td>\n",
       "      <td>0.440306</td>\n",
       "      <td>body</td>\n",
       "      <td>0.255842</td>\n",
       "      <td>1773</td>\n",
       "      <td>1.000000</td>\n",
       "    </tr>\n",
       "    <tr>\n",
       "      <th>1</th>\n",
       "      <td>59850</td>\n",
       "      <td>2024-11-08 21:00:36+00:00</td>\n",
       "      <td>45729</td>\n",
       "      <td>it’s FREAKY FRIDAY!! Her brows are made of GEMS…</td>\n",
       "      <td>NaN</td>\n",
       "      <td>NaN</td>\n",
       "      <td>en-US</td>\n",
       "      <td>en-US</td>\n",
       "      <td>PT47S</td>\n",
       "      <td>252195721.0</td>\n",
       "      <td>...</td>\n",
       "      <td>1</td>\n",
       "      <td>freaky friday brow made gem</td>\n",
       "      <td>['Lifestyle_(sociology)', 'Physical_attractive...</td>\n",
       "      <td>Lifestyle_(sociology), Physical_attractiveness</td>\n",
       "      <td>4.0</td>\n",
       "      <td>0.440917</td>\n",
       "      <td>body</td>\n",
       "      <td>0.284013</td>\n",
       "      <td>2015</td>\n",
       "      <td>0.981042</td>\n",
       "    </tr>\n",
       "    <tr>\n",
       "      <th>2</th>\n",
       "      <td>32656</td>\n",
       "      <td>2023-06-22 21:10:28+00:00</td>\n",
       "      <td>6926</td>\n",
       "      <td>Which is your favortie? #hairstyle #shortvideo...</td>\n",
       "      <td>Brooke Monk Socials:\\nFanfix: https://app.fanf...</td>\n",
       "      <td>NaN</td>\n",
       "      <td>NaN</td>\n",
       "      <td>NaN</td>\n",
       "      <td>PT58S</td>\n",
       "      <td>83582866.0</td>\n",
       "      <td>...</td>\n",
       "      <td>1</td>\n",
       "      <td>favortie hairstyle shortvideo short short</td>\n",
       "      <td>['Lifestyle_(sociology)', 'Physical_attractive...</td>\n",
       "      <td>Lifestyle_(sociology), Physical_attractiveness</td>\n",
       "      <td>3.0</td>\n",
       "      <td>0.865761</td>\n",
       "      <td>hair</td>\n",
       "      <td>0.282932</td>\n",
       "      <td>33137</td>\n",
       "      <td>0.971054</td>\n",
       "    </tr>\n",
       "    <tr>\n",
       "      <th>3</th>\n",
       "      <td>14688</td>\n",
       "      <td>2024-01-08 13:23:58+00:00</td>\n",
       "      <td>26428</td>\n",
       "      <td>Korean Secret Glowing Skin Mask | Beauty Secre...</td>\n",
       "      <td>Korean Secret Glowing Skin Mask | Beauty Secre...</td>\n",
       "      <td>NaN</td>\n",
       "      <td>NaN</td>\n",
       "      <td>NaN</td>\n",
       "      <td>PT27S</td>\n",
       "      <td>405748145.0</td>\n",
       "      <td>...</td>\n",
       "      <td>1</td>\n",
       "      <td>korean secret glowing skin mask | beauty secre...</td>\n",
       "      <td>['Lifestyle_(sociology)', 'Physical_attractive...</td>\n",
       "      <td>Lifestyle_(sociology), Physical_attractiveness</td>\n",
       "      <td>1.0</td>\n",
       "      <td>0.926275</td>\n",
       "      <td>makeup</td>\n",
       "      <td>0.249368</td>\n",
       "      <td>636</td>\n",
       "      <td>0.960695</td>\n",
       "    </tr>\n",
       "    <tr>\n",
       "      <th>4</th>\n",
       "      <td>61512</td>\n",
       "      <td>2021-05-15 11:34:21+00:00</td>\n",
       "      <td>48780</td>\n",
       "      <td>Pakistan cute girls makeup video| very good ma...</td>\n",
       "      <td>Pakistan cute girls makeup video| very good ma...</td>\n",
       "      <td>NaN</td>\n",
       "      <td>NaN</td>\n",
       "      <td>NaN</td>\n",
       "      <td>PT30S</td>\n",
       "      <td>64574323.0</td>\n",
       "      <td>...</td>\n",
       "      <td>1</td>\n",
       "      <td>pakistan cute girl makeup video| good makeup v...</td>\n",
       "      <td>['Lifestyle_(sociology)', 'Physical_attractive...</td>\n",
       "      <td>Lifestyle_(sociology), Physical_attractiveness</td>\n",
       "      <td>3.0</td>\n",
       "      <td>0.557294</td>\n",
       "      <td>hair</td>\n",
       "      <td>0.289186</td>\n",
       "      <td>1781</td>\n",
       "      <td>0.960018</td>\n",
       "    </tr>\n",
       "  </tbody>\n",
       "</table>\n",
       "<p>5 rows × 24 columns</p>\n",
       "</div>"
      ],
      "text/plain": [
       "   videoId                publishedAt  channelId  \\\n",
       "0    78245  2023-10-20 16:00:42+00:00      41338   \n",
       "1    59850  2024-11-08 21:00:36+00:00      45729   \n",
       "2    32656  2023-06-22 21:10:28+00:00       6926   \n",
       "3    14688  2024-01-08 13:23:58+00:00      26428   \n",
       "4    61512  2021-05-15 11:34:21+00:00      48780   \n",
       "\n",
       "                                               title  \\\n",
       "0                 Sydney Sweeney Perfecting the Shot   \n",
       "1   it’s FREAKY FRIDAY!! Her brows are made of GEMS…   \n",
       "2  Which is your favortie? #hairstyle #shortvideo...   \n",
       "3  Korean Secret Glowing Skin Mask | Beauty Secre...   \n",
       "4  Pakistan cute girls makeup video| very good ma...   \n",
       "\n",
       "                                         description tags defaultLanguage  \\\n",
       "0  We're taking you behind the scenes on Sydney S...  NaN             NaN   \n",
       "1                                                NaN  NaN           en-US   \n",
       "2  Brooke Monk Socials:\\nFanfix: https://app.fanf...  NaN             NaN   \n",
       "3  Korean Secret Glowing Skin Mask | Beauty Secre...  NaN             NaN   \n",
       "4  Pakistan cute girls makeup video| very good ma...  NaN             NaN   \n",
       "\n",
       "  defaultAudioLanguage contentDuration    viewCount  ...  is_english  \\\n",
       "0                en-US           PT18S  264368764.0  ...           1   \n",
       "1                en-US           PT47S  252195721.0  ...           1   \n",
       "2                  NaN           PT58S   83582866.0  ...           1   \n",
       "3                  NaN           PT27S  405748145.0  ...           1   \n",
       "4                  NaN           PT30S   64574323.0  ...           1   \n",
       "\n",
       "                                          translated  \\\n",
       "0                     sydney sweeney perfecting shot   \n",
       "1                        freaky friday brow made gem   \n",
       "2          favortie hairstyle shortvideo short short   \n",
       "3  korean secret glowing skin mask | beauty secre...   \n",
       "4  pakistan cute girl makeup video| good makeup v...   \n",
       "\n",
       "                           extracted_topicCategories  \\\n",
       "0       ['Entertainment', 'Physical_attractiveness']   \n",
       "1  ['Lifestyle_(sociology)', 'Physical_attractive...   \n",
       "2  ['Lifestyle_(sociology)', 'Physical_attractive...   \n",
       "3  ['Lifestyle_(sociology)', 'Physical_attractive...   \n",
       "4  ['Lifestyle_(sociology)', 'Physical_attractive...   \n",
       "\n",
       "                    extracted_topicCategories_str  dominant_topic  \\\n",
       "0          Entertainment, Physical_attractiveness             4.0   \n",
       "1  Lifestyle_(sociology), Physical_attractiveness             4.0   \n",
       "2  Lifestyle_(sociology), Physical_attractiveness             3.0   \n",
       "3  Lifestyle_(sociology), Physical_attractiveness             1.0   \n",
       "4  Lifestyle_(sociology), Physical_attractiveness             3.0   \n",
       "\n",
       "  topic_confidence topic_label average_kpi  comment_count  \\\n",
       "0         0.440306        body    0.255842           1773   \n",
       "1         0.440917        body    0.284013           2015   \n",
       "2         0.865761        hair    0.282932          33137   \n",
       "3         0.926275      makeup    0.249368            636   \n",
       "4         0.557294        hair    0.289186           1781   \n",
       "\n",
       "   video_engagement_score  \n",
       "0                1.000000  \n",
       "1                0.981042  \n",
       "2                0.971054  \n",
       "3                0.960695  \n",
       "4                0.960018  \n",
       "\n",
       "[5 rows x 24 columns]"
      ]
     },
     "execution_count": 5,
     "metadata": {},
     "output_type": "execute_result"
    }
   ],
   "source": [
    "video=pd.read_csv('video_with_engagement_score.csv')\n",
    "video.head()"
   ]
  },
  {
   "cell_type": "markdown",
   "id": "fadd3381",
   "metadata": {},
   "source": [
    "## Merge Comment and Video Topic Data\n",
    "Combine the filtered comment data with video-level topic labels by merging on the 'videoId' column. This enables analysis of comment aspects in the context of each video's dominant topic."
   ]
  },
  {
   "cell_type": "code",
   "execution_count": 6,
   "id": "2d20b0d1",
   "metadata": {},
   "outputs": [],
   "source": [
    "merged_data = filtered_data.merge(video[['videoId','topic_label']], on='videoId', how='left')"
   ]
  },
  {
   "cell_type": "markdown",
   "id": "836cf55a",
   "metadata": {},
   "source": [
    "## Preview Merged Data\n",
    "Display the first few rows of the merged DataFrame to verify the merge operation and inspect the combined comment and video topic information."
   ]
  },
  {
   "cell_type": "code",
   "execution_count": null,
   "id": "62836e65",
   "metadata": {},
   "outputs": [
    {
     "data": {
      "text/html": [
       "<div>\n",
       "<style scoped>\n",
       "    .dataframe tbody tr th:only-of-type {\n",
       "        vertical-align: middle;\n",
       "    }\n",
       "\n",
       "    .dataframe tbody tr th {\n",
       "        vertical-align: top;\n",
       "    }\n",
       "\n",
       "    .dataframe thead th {\n",
       "        text-align: right;\n",
       "    }\n",
       "</style>\n",
       "<table border=\"1\" class=\"dataframe\">\n",
       "  <thead>\n",
       "    <tr style=\"text-align: right;\">\n",
       "      <th></th>\n",
       "      <th>commentId</th>\n",
       "      <th>channelId</th>\n",
       "      <th>videoId</th>\n",
       "      <th>authorId</th>\n",
       "      <th>textOriginal</th>\n",
       "      <th>parentCommentId</th>\n",
       "      <th>likeCount</th>\n",
       "      <th>publishedAt</th>\n",
       "      <th>updatedAt</th>\n",
       "      <th>duplicatedFlag</th>\n",
       "      <th>...</th>\n",
       "      <th>isSpam</th>\n",
       "      <th>is_english</th>\n",
       "      <th>relevance_score</th>\n",
       "      <th>negative</th>\n",
       "      <th>neutral</th>\n",
       "      <th>positive</th>\n",
       "      <th>aspect</th>\n",
       "      <th>sentiment</th>\n",
       "      <th>KPI</th>\n",
       "      <th>topic_label</th>\n",
       "    </tr>\n",
       "  </thead>\n",
       "  <tbody>\n",
       "    <tr>\n",
       "      <th>0</th>\n",
       "      <td>732985</td>\n",
       "      <td>50368</td>\n",
       "      <td>21218</td>\n",
       "      <td>440354</td>\n",
       "      <td>This Navratri makeup tutorial is perfect for b...</td>\n",
       "      <td>NaN</td>\n",
       "      <td>1</td>\n",
       "      <td>2024-10-07 14:33:12+00:00</td>\n",
       "      <td>2024-10-07 14:33:12+00:00</td>\n",
       "      <td>0</td>\n",
       "      <td>...</td>\n",
       "      <td>0</td>\n",
       "      <td>1</td>\n",
       "      <td>0.869423</td>\n",
       "      <td>0.016649</td>\n",
       "      <td>0.052854</td>\n",
       "      <td>0.930497</td>\n",
       "      <td>['makeup tutorial', 'lip']</td>\n",
       "      <td>['Positive', 'Positive']</td>\n",
       "      <td>0.685384</td>\n",
       "      <td>makeup</td>\n",
       "    </tr>\n",
       "    <tr>\n",
       "      <th>1</th>\n",
       "      <td>2260379</td>\n",
       "      <td>14429</td>\n",
       "      <td>69445</td>\n",
       "      <td>1025481</td>\n",
       "      <td>That is not what men think no makeup is, that ...</td>\n",
       "      <td>NaN</td>\n",
       "      <td>0</td>\n",
       "      <td>2023-08-05 11:43:47+00:00</td>\n",
       "      <td>2023-08-05 11:43:47+00:00</td>\n",
       "      <td>0</td>\n",
       "      <td>...</td>\n",
       "      <td>0</td>\n",
       "      <td>1</td>\n",
       "      <td>0.754436</td>\n",
       "      <td>0.945486</td>\n",
       "      <td>0.038934</td>\n",
       "      <td>0.015580</td>\n",
       "      <td>['color']</td>\n",
       "      <td>['Negative']</td>\n",
       "      <td>0.680329</td>\n",
       "      <td>makeup</td>\n",
       "    </tr>\n",
       "    <tr>\n",
       "      <th>2</th>\n",
       "      <td>3689418</td>\n",
       "      <td>14429</td>\n",
       "      <td>69445</td>\n",
       "      <td>2321622</td>\n",
       "      <td>No one's gonna like this, but I think the main...</td>\n",
       "      <td>NaN</td>\n",
       "      <td>2</td>\n",
       "      <td>2025-01-02 01:37:59+00:00</td>\n",
       "      <td>2025-01-02 01:37:59+00:00</td>\n",
       "      <td>0</td>\n",
       "      <td>...</td>\n",
       "      <td>0</td>\n",
       "      <td>1</td>\n",
       "      <td>0.780013</td>\n",
       "      <td>0.853927</td>\n",
       "      <td>0.116936</td>\n",
       "      <td>0.029137</td>\n",
       "      <td>['beauty', 'skin', 'eye', 'lip']</td>\n",
       "      <td>['Negative', 'Negative', 'Negative', 'Negative']</td>\n",
       "      <td>0.663095</td>\n",
       "      <td>makeup</td>\n",
       "    </tr>\n",
       "    <tr>\n",
       "      <th>3</th>\n",
       "      <td>3521557</td>\n",
       "      <td>18073</td>\n",
       "      <td>34950</td>\n",
       "      <td>2076266</td>\n",
       "      <td>Indian traditional makeup is just wow it's sim...</td>\n",
       "      <td>NaN</td>\n",
       "      <td>0</td>\n",
       "      <td>2021-07-12 10:44:50+00:00</td>\n",
       "      <td>2021-07-12 10:44:50+00:00</td>\n",
       "      <td>0</td>\n",
       "      <td>...</td>\n",
       "      <td>0</td>\n",
       "      <td>1</td>\n",
       "      <td>0.857476</td>\n",
       "      <td>0.008585</td>\n",
       "      <td>0.021154</td>\n",
       "      <td>0.970262</td>\n",
       "      <td>['makeup']</td>\n",
       "      <td>['Positive']</td>\n",
       "      <td>0.659377</td>\n",
       "      <td>makeup</td>\n",
       "    </tr>\n",
       "    <tr>\n",
       "      <th>4</th>\n",
       "      <td>4341727</td>\n",
       "      <td>32562</td>\n",
       "      <td>11402</td>\n",
       "      <td>1792614</td>\n",
       "      <td>Oh woow Allure, what a great every day 10 minu...</td>\n",
       "      <td>NaN</td>\n",
       "      <td>55</td>\n",
       "      <td>2022-09-28 23:04:20+00:00</td>\n",
       "      <td>2022-10-01 11:33:21+00:00</td>\n",
       "      <td>0</td>\n",
       "      <td>...</td>\n",
       "      <td>0</td>\n",
       "      <td>1</td>\n",
       "      <td>0.748480</td>\n",
       "      <td>0.010089</td>\n",
       "      <td>0.011792</td>\n",
       "      <td>0.978118</td>\n",
       "      <td>['taste']</td>\n",
       "      <td>['Positive']</td>\n",
       "      <td>0.658192</td>\n",
       "      <td>makeup</td>\n",
       "    </tr>\n",
       "  </tbody>\n",
       "</table>\n",
       "<p>5 rows × 24 columns</p>\n",
       "</div>"
      ],
      "text/plain": [
       "   commentId  channelId  videoId  authorId  \\\n",
       "0     732985      50368    21218    440354   \n",
       "1    2260379      14429    69445   1025481   \n",
       "2    3689418      14429    69445   2321622   \n",
       "3    3521557      18073    34950   2076266   \n",
       "4    4341727      32562    11402   1792614   \n",
       "\n",
       "                                        textOriginal  parentCommentId  \\\n",
       "0  This Navratri makeup tutorial is perfect for b...              NaN   \n",
       "1  That is not what men think no makeup is, that ...              NaN   \n",
       "2  No one's gonna like this, but I think the main...              NaN   \n",
       "3  Indian traditional makeup is just wow it's sim...              NaN   \n",
       "4  Oh woow Allure, what a great every day 10 minu...              NaN   \n",
       "\n",
       "   likeCount                publishedAt                  updatedAt  \\\n",
       "0          1  2024-10-07 14:33:12+00:00  2024-10-07 14:33:12+00:00   \n",
       "1          0  2023-08-05 11:43:47+00:00  2023-08-05 11:43:47+00:00   \n",
       "2          2  2025-01-02 01:37:59+00:00  2025-01-02 01:37:59+00:00   \n",
       "3          0  2021-07-12 10:44:50+00:00  2021-07-12 10:44:50+00:00   \n",
       "4         55  2022-09-28 23:04:20+00:00  2022-10-01 11:33:21+00:00   \n",
       "\n",
       "   duplicatedFlag  ... isSpam is_english  relevance_score  negative   neutral  \\\n",
       "0               0  ...      0          1         0.869423  0.016649  0.052854   \n",
       "1               0  ...      0          1         0.754436  0.945486  0.038934   \n",
       "2               0  ...      0          1         0.780013  0.853927  0.116936   \n",
       "3               0  ...      0          1         0.857476  0.008585  0.021154   \n",
       "4               0  ...      0          1         0.748480  0.010089  0.011792   \n",
       "\n",
       "   positive                            aspect  \\\n",
       "0  0.930497        ['makeup tutorial', 'lip']   \n",
       "1  0.015580                         ['color']   \n",
       "2  0.029137  ['beauty', 'skin', 'eye', 'lip']   \n",
       "3  0.970262                        ['makeup']   \n",
       "4  0.978118                         ['taste']   \n",
       "\n",
       "                                          sentiment       KPI  topic_label  \n",
       "0                          ['Positive', 'Positive']  0.685384       makeup  \n",
       "1                                      ['Negative']  0.680329       makeup  \n",
       "2  ['Negative', 'Negative', 'Negative', 'Negative']  0.663095       makeup  \n",
       "3                                      ['Positive']  0.659377       makeup  \n",
       "4                                      ['Positive']  0.658192       makeup  \n",
       "\n",
       "[5 rows x 24 columns]"
      ]
     },
     "execution_count": 7,
     "metadata": {},
     "output_type": "execute_result"
    }
   ],
   "source": [
    "merged_data.head()"
   ]
  },
  {
   "cell_type": "markdown",
   "id": "c963a8e8",
   "metadata": {},
   "source": [
    "## Analyze Topic Label Distribution\n",
    "Count the occurrences of each topic label in the merged DataFrame to understand the distribution of topics across all comments and videos."
   ]
  },
  {
   "cell_type": "code",
   "execution_count": 9,
   "id": "2627e914",
   "metadata": {},
   "outputs": [
    {
     "data": {
      "text/plain": [
       "topic_label\n",
       "makeup     513922\n",
       "hair       314909\n",
       "skin       126166\n",
       "perfume     75835\n",
       "body        61929\n",
       "Name: count, dtype: int64"
      ]
     },
     "execution_count": 9,
     "metadata": {},
     "output_type": "execute_result"
    }
   ],
   "source": [
    "merged_data['topic_label'].value_counts()"
   ]
  },
  {
   "cell_type": "markdown",
   "id": "c4a391a9",
   "metadata": {},
   "source": [
    "## Prepare Data for Aspect-Based Analysis (Overall Comments)\n",
    "Convert the 'aspect' and 'sentiment' columns from string representations to Python lists using `ast.literal_eval`, then explode these columns so each row represents a single aspect-sentiment pair for overall comments. This transformation enables detailed aspect-level sentiment analysis."
   ]
  },
  {
   "cell_type": "code",
   "execution_count": 132,
   "id": "8bd1a03a",
   "metadata": {},
   "outputs": [],
   "source": [
    "merged_data['aspect'] = merged_data['aspect'].apply(ast.literal_eval)\n",
    "merged_data['sentiment'] = merged_data['sentiment'].apply(ast.literal_eval)\n",
    "exploded = merged_data.explode(['aspect', 'sentiment'])"
   ]
  },
  {
   "cell_type": "markdown",
   "id": "f22d1f6f",
   "metadata": {},
   "source": [
    "### Separate the exploded data into negative and positive sentiment subsets\n",
    "This step filters the exploded DataFrame to create two new DataFrames: one containing only the rows with 'Negative' sentiment and another with 'Positive' sentiment. This allows for separate analysis of comments based on their sentiment polarity."
   ]
  },
  {
   "cell_type": "code",
   "execution_count": 133,
   "id": "1b8c0513",
   "metadata": {},
   "outputs": [],
   "source": [
    "negative_data = exploded[exploded['sentiment'] == 'Negative']\n",
    "positive_data = exploded[exploded['sentiment'] == 'Positive']"
   ]
  },
  {
   "cell_type": "markdown",
   "id": "c6d4a0f0",
   "metadata": {},
   "source": [
    "### Convert negative aspect comments to a list and vectorize\n",
    "This step prepares the negative sentiment aspect comments for topic modeling. It converts the 'aspect' column of the negative sentiment data into a list of strings, then uses a CountVectorizer to transform the text data into a document-term matrix suitable for LDA or other topic modeling techniques."
   ]
  },
  {
   "cell_type": "code",
   "execution_count": null,
   "id": "69911359",
   "metadata": {},
   "outputs": [],
   "source": [
    "# === 1. Convert Comments to List ===\n",
    "corpus = negative_data['aspect'].dropna().astype(str).tolist()\n",
    "count_vectorizer = CountVectorizer(stop_words='english', lowercase=True)\n",
    "count_data_vectorized = count_vectorizer.fit_transform(corpus)\n"
   ]
  },
  {
   "cell_type": "markdown",
   "id": "51082c52",
   "metadata": {},
   "source": [
    "### Retrain LDA model with best parameters and evaluate\n",
    "This section retrains the Latent Dirichlet Allocation (LDA) model using the best hyperparameters found previously. The model is fit on the full vectorized dataset of negative aspect comments. After training, the model's performance is evaluated using log likelihood and perplexity metrics, and the shape of the resulting document-topic matrix is displayed."
   ]
  },
  {
   "cell_type": "code",
   "execution_count": 135,
   "id": "c5b94706",
   "metadata": {},
   "outputs": [
    {
     "name": "stdout",
     "output_type": "stream",
     "text": [
      "iteration: 1 of max_iter: 15\n",
      "iteration: 2 of max_iter: 15\n",
      "iteration: 3 of max_iter: 15\n",
      "iteration: 4 of max_iter: 15\n",
      "iteration: 5 of max_iter: 15\n",
      "iteration: 6 of max_iter: 15\n",
      "iteration: 7 of max_iter: 15\n",
      "iteration: 8 of max_iter: 15\n",
      "iteration: 9 of max_iter: 15\n",
      "iteration: 10 of max_iter: 15\n",
      "iteration: 11 of max_iter: 15\n",
      "iteration: 12 of max_iter: 15\n",
      "iteration: 13 of max_iter: 15\n",
      "iteration: 14 of max_iter: 15\n",
      "iteration: 15 of max_iter: 15\n",
      "Final LDA trained on full dataset!\n",
      "Log Likelihood: -2201296.072027368\n",
      "Perplexity: 653.5926192525907\n",
      "Shape of document-topic matrix: (323266, 5)\n"
     ]
    }
   ],
   "source": [
    "# === 5. Final Retrain with Best Params ===\n",
    "final_lda = LatentDirichletAllocation(\n",
    "    n_components=5,\n",
    "    learning_decay=0.7,\n",
    "    random_state=42,\n",
    "    learning_method=\"online\",\n",
    "    batch_size=1024,\n",
    "    max_iter=15,\n",
    "    verbose=1\n",
    ")\n",
    "\n",
    "# Fit final model on full dataset ===\n",
    "lda_topics_neg = final_lda.fit_transform(count_data_vectorized)\n",
    "\n",
    "# Evaluate the model ===\n",
    "log_likelihood = final_lda.score(count_data_vectorized)\n",
    "perplexity = final_lda.perplexity(count_data_vectorized)\n",
    "\n",
    "print(\"Final LDA trained on full dataset!\")\n",
    "print(f\"Log Likelihood: {log_likelihood}\")\n",
    "print(f\"Perplexity: {perplexity}\")\n",
    "\n",
    "# lda_topics_v2 contains document-topic distributions ===\n",
    "print(\"Shape of document-topic matrix:\", lda_topics_neg.shape)"
   ]
  },
  {
   "cell_type": "markdown",
   "id": "d424080e",
   "metadata": {},
   "source": [
    "### Define a function to print LDA topics and top words\n",
    "This cell defines a utility function to display the top words for each topic discovered by the LDA model. It normalizes the topic-word matrix to probabilities, retrieves the top words for each topic, and prints them along with their probabilities or raw weights. The function also returns a dictionary of keywords per topic for further analysis."
   ]
  },
  {
   "cell_type": "code",
   "execution_count": null,
   "id": "12d964ef",
   "metadata": {},
   "outputs": [],
   "source": [
    "def print_topics(model, vectorizer, top_n=10, show_probs=True):\n",
    "    keywords_per_topic = {}\n",
    "    feature_names = vectorizer.get_feature_names_out()\n",
    "    \n",
    "    # Normalize components_ to probabilities (P(word | topic))\n",
    "    topic_word_prob = model.components_ / model.components_.sum(axis=1)[:, np.newaxis]\n",
    "    \n",
    "    for idx, topic in enumerate(topic_word_prob):\n",
    "        top_features = topic.argsort()[:-top_n - 1:-1]\n",
    "        \n",
    "        if show_probs:\n",
    "            top_words = [(feature_names[i], round(topic[i], 4)) for i in top_features]\n",
    "        else:\n",
    "            # fallback to raw weights\n",
    "            top_words = [(feature_names[i], round(model.components_[idx, i], 2)) for i in top_features]\n",
    "        \n",
    "        keywords_per_topic[f\"Topic {idx+1}\"] = top_words\n",
    "        print(f\"\\nTopic {idx+1}: {top_words}\")\n",
    "    \n",
    "    return keywords_per_topic"
   ]
  },
  {
   "cell_type": "markdown",
   "id": "4711707f",
   "metadata": {},
   "source": [
    "### Print the top words for each LDA topic\n",
    "This cell prints the top words for each topic discovered by the trained LDA model, along with their probabilities. The results help interpret the main themes present in the negative aspect comments."
   ]
  },
  {
   "cell_type": "code",
   "execution_count": null,
   "id": "9b472cfd",
   "metadata": {},
   "outputs": [
    {
     "name": "stdout",
     "output_type": "stream",
     "text": [
      "LDA Topics (with probabilities):\n",
      "\n",
      "Topic 1: [('lip', np.float64(0.062)), ('wig', np.float64(0.0497)), ('video', np.float64(0.0495)), ('filter', np.float64(0.0393)), ('eyeliner', np.float64(0.0244)), ('hairstyle', np.float64(0.0213)), ('price', np.float64(0.0193)), ('voice', np.float64(0.0189)), ('neck', np.float64(0.016)), ('comment', np.float64(0.0154))]\n",
      "\n",
      "Topic 2: [('color', np.float64(0.0808)), ('look', np.float64(0.0422)), ('eye', np.float64(0.0405)), ('colour', np.float64(0.0351)), ('nose', np.float64(0.0301)), ('dress', np.float64(0.0216)), ('sound', np.float64(0.0185)), ('tip', np.float64(0.0181)), ('boy', np.float64(0.0149)), ('trend', np.float64(0.0146))]\n",
      "\n",
      "Topic 3: [('skin', np.float64(0.0766)), ('face', np.float64(0.0418)), ('style', np.float64(0.0356)), ('girl', np.float64(0.0319)), ('lipstick', np.float64(0.0301)), ('nail', np.float64(0.0226)), ('woman', np.float64(0.0217)), ('water', np.float64(0.0176)), ('haircut', np.float64(0.016)), ('curl', np.float64(0.0152))]\n",
      "\n",
      "Topic 4: [('makeup', np.float64(0.3433)), ('hair', np.float64(0.3426)), ('guy', np.float64(0.0478)), ('eyebrow', np.float64(0.0278)), ('man', np.float64(0.012)), ('skincare', np.float64(0.0114)), ('mascara', np.float64(0.0095)), ('waiting', np.float64(0.0094)), ('concealer', np.float64(0.0091)), ('sun', np.float64(0.0062))]\n",
      "\n",
      "Topic 5: [('foundation', np.float64(0.0771)), ('beauty', np.float64(0.0319)), ('product', np.float64(0.027)), ('shade', np.float64(0.02)), ('weight', np.float64(0.0156)), ('lady', np.float64(0.0131)), ('fat', np.float64(0.0127)), ('chin', np.float64(0.0124)), ('men', np.float64(0.011)), ('trust', np.float64(0.0101))]\n"
     ]
    }
   ],
   "source": [
    "print(\"LDA Topics (with probabilities):\")\n",
    "lda_keywords = print_topics(final_lda, count_vectorizer, top_n=10, show_probs=True)\n"
   ]
  },
  {
   "cell_type": "markdown",
   "id": "8931bcef",
   "metadata": {},
   "source": [
    "### Assign human-readable labels to LDA topics\n",
    "This cell assigns a representative keyword to each LDA topic by selecting the most probable word for each topic. These labels help interpret and summarize the discovered topics, making it easier to understand the main themes in the data."
   ]
  },
  {
   "cell_type": "code",
   "execution_count": 138,
   "id": "2988d234",
   "metadata": {},
   "outputs": [
    {
     "name": "stdout",
     "output_type": "stream",
     "text": [
      "Topic Labels: {0: 'lip', 1: 'color', 2: 'skin', 3: 'makeup', 4: 'foundation'}\n"
     ]
    }
   ],
   "source": [
    "# Assume lda_model and count_vectorizer are already fitted\n",
    "feature_names = count_vectorizer.get_feature_names_out()\n",
    "\n",
    "topic_labels = {}\n",
    "for idx, topic in enumerate(final_lda.components_):\n",
    "    top_keyword_index = topic.argmax()  # index of the top word\n",
    "    top_keyword = feature_names[top_keyword_index]\n",
    "    topic_labels[idx] = top_keyword\n",
    "\n",
    "print(\"Topic Labels:\", topic_labels)"
   ]
  },
  {
   "cell_type": "markdown",
   "id": "50cc1150",
   "metadata": {},
   "source": [
    "### Assign dominant topic and confidence to each comment\n",
    "This cell assigns the most likely topic (dominant topic), the confidence score, and the topic label to each negative aspect comment. It updates the DataFrame with these values for further analysis and interpretation of topic assignments at the comment level."
   ]
  },
  {
   "cell_type": "code",
   "execution_count": 139,
   "id": "dc43e48e",
   "metadata": {},
   "outputs": [
    {
     "name": "stderr",
     "output_type": "stream",
     "text": [
      "C:\\Users\\user\\AppData\\Local\\Temp\\ipykernel_1964\\902309733.py:2: SettingWithCopyWarning: \n",
      "A value is trying to be set on a copy of a slice from a DataFrame.\n",
      "Try using .loc[row_indexer,col_indexer] = value instead\n",
      "\n",
      "See the caveats in the documentation: https://pandas.pydata.org/pandas-docs/stable/user_guide/indexing.html#returning-a-view-versus-a-copy\n",
      "  negative_data['dominant_topic_comment'] = np.nan\n",
      "C:\\Users\\user\\AppData\\Local\\Temp\\ipykernel_1964\\902309733.py:3: SettingWithCopyWarning: \n",
      "A value is trying to be set on a copy of a slice from a DataFrame.\n",
      "Try using .loc[row_indexer,col_indexer] = value instead\n",
      "\n",
      "See the caveats in the documentation: https://pandas.pydata.org/pandas-docs/stable/user_guide/indexing.html#returning-a-view-versus-a-copy\n",
      "  negative_data['topic_confidence_comment'] = np.nan\n",
      "C:\\Users\\user\\AppData\\Local\\Temp\\ipykernel_1964\\902309733.py:4: SettingWithCopyWarning: \n",
      "A value is trying to be set on a copy of a slice from a DataFrame.\n",
      "Try using .loc[row_indexer,col_indexer] = value instead\n",
      "\n",
      "See the caveats in the documentation: https://pandas.pydata.org/pandas-docs/stable/user_guide/indexing.html#returning-a-view-versus-a-copy\n",
      "  negative_data['topic_label_comment'] = np.nan\n",
      "C:\\Users\\user\\AppData\\Local\\Temp\\ipykernel_1964\\902309733.py:16: FutureWarning: Setting an item of incompatible dtype is deprecated and will raise an error in a future version of pandas. Value '['color' 'foundation' 'skin' ... 'skin' 'color' 'color']' has dtype incompatible with float64, please explicitly cast to a compatible dtype first.\n",
      "  negative_data.loc[mask, 'topic_label_comment'] = negative_data.loc[mask, 'dominant_topic_comment'].map(topic_labels)\n"
     ]
    }
   ],
   "source": [
    "# Initialize columns with NaN\n",
    "negative_data['dominant_topic_comment'] = np.nan\n",
    "negative_data['topic_confidence_comment'] = np.nan\n",
    "negative_data['topic_label_comment'] = np.nan\n",
    "\n",
    "# Mask for non-null rows\n",
    "mask = negative_data['aspect'].notnull()\n",
    "\n",
    "# Compute only on rows that were vectorized\n",
    "dominant_topic = np.argmax(lda_topics_neg, axis=1)\n",
    "topic_confidence = lda_topics_neg.max(axis=1)\n",
    "\n",
    "# Assign back to the non-null rows\n",
    "negative_data.loc[mask, 'dominant_topic_comment'] = dominant_topic\n",
    "negative_data.loc[mask, 'topic_confidence_comment'] = topic_confidence\n",
    "negative_data.loc[mask, 'topic_label_comment'] = negative_data.loc[mask, 'dominant_topic_comment'].map(topic_labels)\n"
   ]
  },
  {
   "cell_type": "markdown",
   "id": "31a56c2d",
   "metadata": {},
   "source": [
    "### Count the number of comments per topic label\n",
    "This cell calculates and displays the frequency of each topic label assigned to the negative aspect comments. It helps to understand the distribution of topics within the negative sentiment data."
   ]
  },
  {
   "cell_type": "code",
   "execution_count": 140,
   "id": "b335c00f",
   "metadata": {},
   "outputs": [
    {
     "data": {
      "text/plain": [
       "topic_label_comment\n",
       "makeup        91309\n",
       "lip           60058\n",
       "color         57965\n",
       "foundation    57817\n",
       "skin          56117\n",
       "Name: count, dtype: int64"
      ]
     },
     "execution_count": 140,
     "metadata": {},
     "output_type": "execute_result"
    }
   ],
   "source": [
    "topic_counts_neg = negative_data['topic_label_comment'].value_counts()\n",
    "topic_counts_neg"
   ]
  },
  {
   "cell_type": "markdown",
   "id": "7dc3da97",
   "metadata": {},
   "source": [
    "### Visualize the distribution of topic counts\n",
    "This cell creates a bar plot to visualize the number of negative aspect comments assigned to each topic label. The plot helps to quickly identify which topics are most prevalent in the negative sentiment data."
   ]
  },
  {
   "cell_type": "code",
   "execution_count": 141,
   "id": "bf9c2bf8",
   "metadata": {},
   "outputs": [
    {
     "data": {
      "image/png": "[encoded data removed]",
      "text/plain": [
       "<Figure size 1000x600 with 1 Axes>"
      ]
     },
     "metadata": {},
     "output_type": "display_data"
    }
   ],
   "source": [
    "import matplotlib.pyplot as plt\n",
    "plt.figure(figsize=(10,6))\n",
    "topic_counts_neg.plot(kind='bar', color='skyblue')\n",
    "plt.xlabel('Topic Label')\n",
    "plt.ylabel('Count')\n",
    "plt.title('Topic Count Distribution')\n",
    "plt.xticks(rotation=45)\n",
    "plt.tight_layout()\n",
    "plt.show()"
   ]
  },
  {
   "cell_type": "markdown",
   "id": "18304514",
   "metadata": {},
   "source": [
    "### Repeat the same process for positive comments\n",
    "The same topic modeling and analysis steps are applied to the positive aspect comments. This ensures that both negative and positive comment categories are analyzed consistently, allowing for a comprehensive comparison of topics across sentiment categories."
   ]
  },
  {
   "cell_type": "code",
   "execution_count": 142,
   "id": "a3754ec9",
   "metadata": {},
   "outputs": [],
   "source": [
    "# === 1. Convert Comments to List ===\n",
    "corpus = positive_data['aspect'].dropna().astype(str).tolist()\n",
    "count_vectorizer = CountVectorizer(stop_words='english', lowercase=True)\n",
    "count_data_vectorized = count_vectorizer.fit_transform(corpus)\n"
   ]
  },
  {
   "cell_type": "code",
   "execution_count": 143,
   "id": "9a70f775",
   "metadata": {},
   "outputs": [
    {
     "name": "stdout",
     "output_type": "stream",
     "text": [
      "iteration: 1 of max_iter: 15\n",
      "iteration: 2 of max_iter: 15\n",
      "iteration: 3 of max_iter: 15\n",
      "iteration: 4 of max_iter: 15\n",
      "iteration: 5 of max_iter: 15\n",
      "iteration: 6 of max_iter: 15\n",
      "iteration: 7 of max_iter: 15\n",
      "iteration: 8 of max_iter: 15\n",
      "iteration: 9 of max_iter: 15\n",
      "iteration: 10 of max_iter: 15\n",
      "iteration: 11 of max_iter: 15\n",
      "iteration: 12 of max_iter: 15\n",
      "iteration: 13 of max_iter: 15\n",
      "iteration: 14 of max_iter: 15\n",
      "iteration: 15 of max_iter: 15\n",
      "Final LDA trained on full dataset!\n",
      "Log Likelihood: -2538630.4280547206\n",
      "Perplexity: 541.3763129468442\n",
      "Shape of document-topic matrix: (388663, 5)\n"
     ]
    }
   ],
   "source": [
    "# === 5. Final Retrain with Best Params ===\n",
    "final_lda = LatentDirichletAllocation(\n",
    "    n_components=5,\n",
    "    learning_decay=0.7,\n",
    "    random_state=42,\n",
    "    learning_method=\"online\",\n",
    "    batch_size=1024,\n",
    "    max_iter=15,\n",
    "    verbose=1\n",
    ")\n",
    "\n",
    "# Fit final model on full dataset ===\n",
    "lda_topics_pos = final_lda.fit_transform(count_data_vectorized)\n",
    "\n",
    "# Evaluate the model ===\n",
    "log_likelihood = final_lda.score(count_data_vectorized)\n",
    "perplexity = final_lda.perplexity(count_data_vectorized)\n",
    "\n",
    "print(\"Final LDA trained on full dataset!\")\n",
    "print(f\"Log Likelihood: {log_likelihood}\")\n",
    "print(f\"Perplexity: {perplexity}\")\n",
    "\n",
    "# lda_topics_v2 contains document-topic distributions ===\n",
    "print(\"Shape of document-topic matrix:\", lda_topics_pos.shape)"
   ]
  },
  {
   "cell_type": "code",
   "execution_count": 144,
   "id": "2f98ce27",
   "metadata": {},
   "outputs": [
    {
     "name": "stdout",
     "output_type": "stream",
     "text": [
      "LDA Topics (with probabilities):\n",
      "\n",
      "Topic 1: [('video', np.float64(0.1453)), ('beauty', np.float64(0.1043)), ('india', np.float64(0.0579)), ('wig', np.float64(0.0439)), ('face', np.float64(0.0386)), ('hairstyle', np.float64(0.0354)), ('foundation', np.float64(0.0202)), ('body', np.float64(0.0137)), ('feature', np.float64(0.0123)), ('trend', np.float64(0.0122))]\n",
      "\n",
      "Topic 2: [('lip', np.float64(0.0331)), ('ginger', np.float64(0.0266)), ('fit', np.float64(0.023)), ('accent', np.float64(0.0176)), ('make', np.float64(0.0167)), ('day', np.float64(0.0162)), ('boy', np.float64(0.0144)), ('suit', np.float64(0.0119)), ('selena', np.float64(0.0098)), ('woman', np.float64(0.0097))]\n",
      "\n",
      "Topic 3: [('looking', np.float64(0.0847)), ('color', np.float64(0.0824)), ('voice', np.float64(0.0315)), ('smile', np.float64(0.0267)), ('guy', np.float64(0.0258)), ('god', np.float64(0.024)), ('content', np.float64(0.0225)), ('vibe', np.float64(0.0202)), ('love', np.float64(0.0191)), ('tutorial', np.float64(0.0179))]\n",
      "\n",
      "Topic 4: [('look', np.float64(0.2777)), ('makeup', np.float64(0.2247)), ('hair', np.float64(0.1743)), ('skin', np.float64(0.0627)), ('style', np.float64(0.0331)), ('eye', np.float64(0.0307)), ('tip', np.float64(0.0179)), ('sharing', np.float64(0.0167)), ('dress', np.float64(0.0125)), ('outfit', np.float64(0.01))]\n",
      "\n",
      "Topic 5: [('night', np.float64(0.0468)), ('colour', np.float64(0.0403)), ('girl', np.float64(0.0336)), ('indian', np.float64(0.0223)), ('song', np.float64(0.0214)), ('baby', np.float64(0.0205)), ('looked', np.float64(0.0162)), ('music', np.float64(0.0161)), ('lipstick', np.float64(0.0148)), ('mam', np.float64(0.0146))]\n"
     ]
    }
   ],
   "source": [
    "print(\"LDA Topics (with probabilities):\")\n",
    "lda_keywords = print_topics(final_lda, count_vectorizer, top_n=10, show_probs=True)\n"
   ]
  },
  {
   "cell_type": "code",
   "execution_count": 145,
   "id": "2a02bd5d",
   "metadata": {},
   "outputs": [
    {
     "name": "stderr",
     "output_type": "stream",
     "text": [
      "C:\\Users\\user\\AppData\\Local\\Temp\\ipykernel_1964\\613642139.py:2: SettingWithCopyWarning: \n",
      "A value is trying to be set on a copy of a slice from a DataFrame.\n",
      "Try using .loc[row_indexer,col_indexer] = value instead\n",
      "\n",
      "See the caveats in the documentation: https://pandas.pydata.org/pandas-docs/stable/user_guide/indexing.html#returning-a-view-versus-a-copy\n",
      "  positive_data['dominant_topic_comment'] = np.nan\n",
      "C:\\Users\\user\\AppData\\Local\\Temp\\ipykernel_1964\\613642139.py:3: SettingWithCopyWarning: \n",
      "A value is trying to be set on a copy of a slice from a DataFrame.\n",
      "Try using .loc[row_indexer,col_indexer] = value instead\n",
      "\n",
      "See the caveats in the documentation: https://pandas.pydata.org/pandas-docs/stable/user_guide/indexing.html#returning-a-view-versus-a-copy\n",
      "  positive_data['topic_confidence_comment'] = np.nan\n",
      "C:\\Users\\user\\AppData\\Local\\Temp\\ipykernel_1964\\613642139.py:4: SettingWithCopyWarning: \n",
      "A value is trying to be set on a copy of a slice from a DataFrame.\n",
      "Try using .loc[row_indexer,col_indexer] = value instead\n",
      "\n",
      "See the caveats in the documentation: https://pandas.pydata.org/pandas-docs/stable/user_guide/indexing.html#returning-a-view-versus-a-copy\n",
      "  positive_data['topic_label_comment'] = np.nan\n",
      "C:\\Users\\user\\AppData\\Local\\Temp\\ipykernel_1964\\613642139.py:16: FutureWarning: Setting an item of incompatible dtype is deprecated and will raise an error in a future version of pandas. Value '['makeup' 'color' 'makeup' ... 'lip' 'color' 'color']' has dtype incompatible with float64, please explicitly cast to a compatible dtype first.\n",
      "  positive_data.loc[mask, 'topic_label_comment'] = positive_data.loc[mask, 'dominant_topic_comment'].map(topic_labels)\n"
     ]
    }
   ],
   "source": [
    "# Initialize columns with NaN\n",
    "positive_data['dominant_topic_comment'] = np.nan\n",
    "positive_data['topic_confidence_comment'] = np.nan\n",
    "positive_data['topic_label_comment'] = np.nan\n",
    "\n",
    "# Mask for non-null rows\n",
    "mask = positive_data['aspect'].notnull()\n",
    "\n",
    "# Compute only on rows that were vectorized\n",
    "dominant_topic = np.argmax(lda_topics_pos, axis=1)\n",
    "topic_confidence = lda_topics_pos.max(axis=1)\n",
    "\n",
    "# Assign back to the non-null rows\n",
    "positive_data.loc[mask, 'dominant_topic_comment'] = dominant_topic\n",
    "positive_data.loc[mask, 'topic_confidence_comment'] = topic_confidence\n",
    "positive_data.loc[mask, 'topic_label_comment'] = positive_data.loc[mask, 'dominant_topic_comment'].map(topic_labels)\n"
   ]
  },
  {
   "cell_type": "code",
   "execution_count": 146,
   "id": "aab04551",
   "metadata": {},
   "outputs": [
    {
     "name": "stdout",
     "output_type": "stream",
     "text": [
      "Topic Labels: {0: 'video', 1: 'lip', 2: 'looking', 3: 'look', 4: 'night'}\n"
     ]
    }
   ],
   "source": [
    "# Assume lda_model and count_vectorizer are already fitted\n",
    "feature_names = count_vectorizer.get_feature_names_out()\n",
    "\n",
    "topic_labels = {}\n",
    "for idx, topic in enumerate(final_lda.components_):\n",
    "    top_keyword_index = topic.argmax()  # index of the top word\n",
    "    top_keyword = feature_names[top_keyword_index]\n",
    "    topic_labels[idx] = top_keyword\n",
    "\n",
    "print(\"Topic Labels:\", topic_labels)"
   ]
  },
  {
   "cell_type": "code",
   "execution_count": 147,
   "id": "85d5a7e4",
   "metadata": {},
   "outputs": [
    {
     "data": {
      "text/plain": [
       "topic_label_comment\n",
       "makeup        136391\n",
       "skin           66937\n",
       "foundation     65232\n",
       "lip            61057\n",
       "color          59046\n",
       "Name: count, dtype: int64"
      ]
     },
     "execution_count": 147,
     "metadata": {},
     "output_type": "execute_result"
    }
   ],
   "source": [
    "topic_counts_pos = positive_data['topic_label_comment'].value_counts()\n",
    "topic_counts_pos"
   ]
  },
  {
   "cell_type": "code",
   "execution_count": 148,
   "id": "7717c3ac",
   "metadata": {},
   "outputs": [
    {
     "data": {
      "image/png": "[encoded data removed]",
      "text/plain": [
       "<Figure size 1000x600 with 1 Axes>"
      ]
     },
     "metadata": {},
     "output_type": "display_data"
    }
   ],
   "source": [
    "import matplotlib.pyplot as plt\n",
    "plt.figure(figsize=(10,6))\n",
    "topic_counts_neg.plot(kind='bar', color='skyblue')\n",
    "plt.xlabel('Topic Label')\n",
    "plt.ylabel('Count')\n",
    "plt.title('Topic Count Distribution')\n",
    "plt.xticks(rotation=45)\n",
    "plt.tight_layout()\n",
    "plt.show()"
   ]
  },
  {
   "cell_type": "markdown",
   "id": "8c5e6993",
   "metadata": {},
   "source": [
    "### Filter merged data by topic label\n",
    "This cell creates separate DataFrames for each main topic (makeup, hair, skin, perfume, body) by filtering the merged data according to the assigned topic label. This allows for targeted analysis of comments related to each specific aspect."
   ]
  },
  {
   "cell_type": "code",
   "execution_count": 62,
   "id": "5f207a8f",
   "metadata": {},
   "outputs": [],
   "source": [
    "makeup=merged_data[merged_data['topic_label']=='makeup']\n",
    "hair=merged_data[merged_data['topic_label']=='hair']\n",
    "skin=merged_data[merged_data['topic_label']=='skin']\n",
    "perfume=merged_data[merged_data['topic_label']=='perfume']\n",
    "body=merged_data[merged_data['topic_label']=='body']\n"
   ]
  },
  {
   "cell_type": "markdown",
   "id": "546c34e5",
   "metadata": {},
   "source": [
    "### Explode aspect and sentiment columns for each topic\n",
    "This cell processes each main topic DataFrame (makeup, hair, skin, perfume, body) by converting the 'aspect' and 'sentiment' columns from string representations of lists to actual lists, then explodes them so each row represents a single (aspect, sentiment) pair. This prepares the data for further aspect-based sentiment analysis within each topic."
   ]
  },
  {
   "cell_type": "code",
   "execution_count": 63,
   "id": "0d16e87e",
   "metadata": {},
   "outputs": [
    {
     "name": "stderr",
     "output_type": "stream",
     "text": [
      "C:\\Users\\user\\AppData\\Local\\Temp\\ipykernel_1964\\3608268105.py:2: SettingWithCopyWarning: \n",
      "A value is trying to be set on a copy of a slice from a DataFrame.\n",
      "Try using .loc[row_indexer,col_indexer] = value instead\n",
      "\n",
      "See the caveats in the documentation: https://pandas.pydata.org/pandas-docs/stable/user_guide/indexing.html#returning-a-view-versus-a-copy\n",
      "  makeup['aspect'] = makeup['aspect'].apply(ast.literal_eval)\n",
      "C:\\Users\\user\\AppData\\Local\\Temp\\ipykernel_1964\\3608268105.py:3: SettingWithCopyWarning: \n",
      "A value is trying to be set on a copy of a slice from a DataFrame.\n",
      "Try using .loc[row_indexer,col_indexer] = value instead\n",
      "\n",
      "See the caveats in the documentation: https://pandas.pydata.org/pandas-docs/stable/user_guide/indexing.html#returning-a-view-versus-a-copy\n",
      "  makeup['sentiment'] = makeup['sentiment'].apply(ast.literal_eval)\n",
      "C:\\Users\\user\\AppData\\Local\\Temp\\ipykernel_1964\\3608268105.py:3: SettingWithCopyWarning: \n",
      "A value is trying to be set on a copy of a slice from a DataFrame.\n",
      "Try using .loc[row_indexer,col_indexer] = value instead\n",
      "\n",
      "See the caveats in the documentation: https://pandas.pydata.org/pandas-docs/stable/user_guide/indexing.html#returning-a-view-versus-a-copy\n",
      "  makeup['sentiment'] = makeup['sentiment'].apply(ast.literal_eval)\n",
      "C:\\Users\\user\\AppData\\Local\\Temp\\ipykernel_1964\\3608268105.py:8: SettingWithCopyWarning: \n",
      "A value is trying to be set on a copy of a slice from a DataFrame.\n",
      "Try using .loc[row_indexer,col_indexer] = value instead\n",
      "\n",
      "See the caveats in the documentation: https://pandas.pydata.org/pandas-docs/stable/user_guide/indexing.html#returning-a-view-versus-a-copy\n",
      "  hair['aspect'] = hair['aspect'].apply(ast.literal_eval)\n",
      "C:\\Users\\user\\AppData\\Local\\Temp\\ipykernel_1964\\3608268105.py:8: SettingWithCopyWarning: \n",
      "A value is trying to be set on a copy of a slice from a DataFrame.\n",
      "Try using .loc[row_indexer,col_indexer] = value instead\n",
      "\n",
      "See the caveats in the documentation: https://pandas.pydata.org/pandas-docs/stable/user_guide/indexing.html#returning-a-view-versus-a-copy\n",
      "  hair['aspect'] = hair['aspect'].apply(ast.literal_eval)\n",
      "C:\\Users\\user\\AppData\\Local\\Temp\\ipykernel_1964\\3608268105.py:9: SettingWithCopyWarning: \n",
      "A value is trying to be set on a copy of a slice from a DataFrame.\n",
      "Try using .loc[row_indexer,col_indexer] = value instead\n",
      "\n",
      "See the caveats in the documentation: https://pandas.pydata.org/pandas-docs/stable/user_guide/indexing.html#returning-a-view-versus-a-copy\n",
      "  hair['sentiment'] = hair['sentiment'].apply(ast.literal_eval)\n",
      "C:\\Users\\user\\AppData\\Local\\Temp\\ipykernel_1964\\3608268105.py:9: SettingWithCopyWarning: \n",
      "A value is trying to be set on a copy of a slice from a DataFrame.\n",
      "Try using .loc[row_indexer,col_indexer] = value instead\n",
      "\n",
      "See the caveats in the documentation: https://pandas.pydata.org/pandas-docs/stable/user_guide/indexing.html#returning-a-view-versus-a-copy\n",
      "  hair['sentiment'] = hair['sentiment'].apply(ast.literal_eval)\n",
      "C:\\Users\\user\\AppData\\Local\\Temp\\ipykernel_1964\\3608268105.py:13: SettingWithCopyWarning: \n",
      "A value is trying to be set on a copy of a slice from a DataFrame.\n",
      "Try using .loc[row_indexer,col_indexer] = value instead\n",
      "\n",
      "See the caveats in the documentation: https://pandas.pydata.org/pandas-docs/stable/user_guide/indexing.html#returning-a-view-versus-a-copy\n",
      "  skin['aspect'] = skin['aspect'].apply(ast.literal_eval)\n",
      "C:\\Users\\user\\AppData\\Local\\Temp\\ipykernel_1964\\3608268105.py:13: SettingWithCopyWarning: \n",
      "A value is trying to be set on a copy of a slice from a DataFrame.\n",
      "Try using .loc[row_indexer,col_indexer] = value instead\n",
      "\n",
      "See the caveats in the documentation: https://pandas.pydata.org/pandas-docs/stable/user_guide/indexing.html#returning-a-view-versus-a-copy\n",
      "  skin['aspect'] = skin['aspect'].apply(ast.literal_eval)\n",
      "C:\\Users\\user\\AppData\\Local\\Temp\\ipykernel_1964\\3608268105.py:14: SettingWithCopyWarning: \n",
      "A value is trying to be set on a copy of a slice from a DataFrame.\n",
      "Try using .loc[row_indexer,col_indexer] = value instead\n",
      "\n",
      "See the caveats in the documentation: https://pandas.pydata.org/pandas-docs/stable/user_guide/indexing.html#returning-a-view-versus-a-copy\n",
      "  skin['sentiment'] = skin['sentiment'].apply(ast.literal_eval)\n",
      "C:\\Users\\user\\AppData\\Local\\Temp\\ipykernel_1964\\3608268105.py:14: SettingWithCopyWarning: \n",
      "A value is trying to be set on a copy of a slice from a DataFrame.\n",
      "Try using .loc[row_indexer,col_indexer] = value instead\n",
      "\n",
      "See the caveats in the documentation: https://pandas.pydata.org/pandas-docs/stable/user_guide/indexing.html#returning-a-view-versus-a-copy\n",
      "  skin['sentiment'] = skin['sentiment'].apply(ast.literal_eval)\n",
      "C:\\Users\\user\\AppData\\Local\\Temp\\ipykernel_1964\\3608268105.py:18: SettingWithCopyWarning: \n",
      "A value is trying to be set on a copy of a slice from a DataFrame.\n",
      "Try using .loc[row_indexer,col_indexer] = value instead\n",
      "\n",
      "See the caveats in the documentation: https://pandas.pydata.org/pandas-docs/stable/user_guide/indexing.html#returning-a-view-versus-a-copy\n",
      "  perfume['aspect'] = perfume['aspect'].apply(ast.literal_eval)\n",
      "C:\\Users\\user\\AppData\\Local\\Temp\\ipykernel_1964\\3608268105.py:18: SettingWithCopyWarning: \n",
      "A value is trying to be set on a copy of a slice from a DataFrame.\n",
      "Try using .loc[row_indexer,col_indexer] = value instead\n",
      "\n",
      "See the caveats in the documentation: https://pandas.pydata.org/pandas-docs/stable/user_guide/indexing.html#returning-a-view-versus-a-copy\n",
      "  perfume['aspect'] = perfume['aspect'].apply(ast.literal_eval)\n",
      "C:\\Users\\user\\AppData\\Local\\Temp\\ipykernel_1964\\3608268105.py:19: SettingWithCopyWarning: \n",
      "A value is trying to be set on a copy of a slice from a DataFrame.\n",
      "Try using .loc[row_indexer,col_indexer] = value instead\n",
      "\n",
      "See the caveats in the documentation: https://pandas.pydata.org/pandas-docs/stable/user_guide/indexing.html#returning-a-view-versus-a-copy\n",
      "  perfume['sentiment'] = perfume['sentiment'].apply(ast.literal_eval)\n",
      "C:\\Users\\user\\AppData\\Local\\Temp\\ipykernel_1964\\3608268105.py:19: SettingWithCopyWarning: \n",
      "A value is trying to be set on a copy of a slice from a DataFrame.\n",
      "Try using .loc[row_indexer,col_indexer] = value instead\n",
      "\n",
      "See the caveats in the documentation: https://pandas.pydata.org/pandas-docs/stable/user_guide/indexing.html#returning-a-view-versus-a-copy\n",
      "  perfume['sentiment'] = perfume['sentiment'].apply(ast.literal_eval)\n",
      "C:\\Users\\user\\AppData\\Local\\Temp\\ipykernel_1964\\3608268105.py:24: SettingWithCopyWarning: \n",
      "A value is trying to be set on a copy of a slice from a DataFrame.\n",
      "Try using .loc[row_indexer,col_indexer] = value instead\n",
      "\n",
      "See the caveats in the documentation: https://pandas.pydata.org/pandas-docs/stable/user_guide/indexing.html#returning-a-view-versus-a-copy\n",
      "  body['aspect'] = body['aspect'].apply(ast.literal_eval)\n",
      "C:\\Users\\user\\AppData\\Local\\Temp\\ipykernel_1964\\3608268105.py:24: SettingWithCopyWarning: \n",
      "A value is trying to be set on a copy of a slice from a DataFrame.\n",
      "Try using .loc[row_indexer,col_indexer] = value instead\n",
      "\n",
      "See the caveats in the documentation: https://pandas.pydata.org/pandas-docs/stable/user_guide/indexing.html#returning-a-view-versus-a-copy\n",
      "  body['aspect'] = body['aspect'].apply(ast.literal_eval)\n",
      "C:\\Users\\user\\AppData\\Local\\Temp\\ipykernel_1964\\3608268105.py:25: SettingWithCopyWarning: \n",
      "A value is trying to be set on a copy of a slice from a DataFrame.\n",
      "Try using .loc[row_indexer,col_indexer] = value instead\n",
      "\n",
      "See the caveats in the documentation: https://pandas.pydata.org/pandas-docs/stable/user_guide/indexing.html#returning-a-view-versus-a-copy\n",
      "  body['sentiment'] = body['sentiment'].apply(ast.literal_eval)\n",
      "C:\\Users\\user\\AppData\\Local\\Temp\\ipykernel_1964\\3608268105.py:25: SettingWithCopyWarning: \n",
      "A value is trying to be set on a copy of a slice from a DataFrame.\n",
      "Try using .loc[row_indexer,col_indexer] = value instead\n",
      "\n",
      "See the caveats in the documentation: https://pandas.pydata.org/pandas-docs/stable/user_guide/indexing.html#returning-a-view-versus-a-copy\n",
      "  body['sentiment'] = body['sentiment'].apply(ast.literal_eval)\n"
     ]
    }
   ],
   "source": [
    "#Makeup\n",
    "makeup['aspect'] = makeup['aspect'].apply(ast.literal_eval)\n",
    "makeup['sentiment'] = makeup['sentiment'].apply(ast.literal_eval)\n",
    "# Create a DataFrame where each row is a (aspect, sentiment) pair\n",
    "exploded_makeup = makeup.explode(['aspect', 'sentiment'])\n",
    "\n",
    "#Hair\n",
    "hair['aspect'] = hair['aspect'].apply(ast.literal_eval)\n",
    "hair['sentiment'] = hair['sentiment'].apply(ast.literal_eval)\n",
    "exploded_hair = hair.explode(['aspect', 'sentiment'])\n",
    "\n",
    "#Skin\n",
    "skin['aspect'] = skin['aspect'].apply(ast.literal_eval)\n",
    "skin['sentiment'] = skin['sentiment'].apply(ast.literal_eval)\n",
    "exploded_skin = skin.explode(['aspect', 'sentiment'])\n",
    "\n",
    "#Perfume\n",
    "perfume['aspect'] = perfume['aspect'].apply(ast.literal_eval)\n",
    "perfume['sentiment'] = perfume['sentiment'].apply(ast.literal_eval)\n",
    "exploded_perfume = perfume.explode(['aspect', 'sentiment'])\n",
    "\n",
    "\n",
    "#Body\n",
    "body['aspect'] = body['aspect'].apply(ast.literal_eval)\n",
    "body['sentiment'] = body['sentiment'].apply(ast.literal_eval)\n",
    "exploded_body = body.explode(['aspect', 'sentiment'])"
   ]
  },
  {
   "cell_type": "markdown",
   "id": "57314e61",
   "metadata": {},
   "source": [
    "### Split exploded topic data by sentiment\n",
    "This cell separates the exploded DataFrames for each topic (makeup, hair, skin, perfume, body) into negative and positive sentiment subsets. This enables independent analysis of positive and negative comments for each product aspect."
   ]
  },
  {
   "cell_type": "code",
   "execution_count": 64,
   "id": "15413da9",
   "metadata": {},
   "outputs": [],
   "source": [
    "negative_data_makeup = exploded_makeup[exploded_makeup['sentiment'] == 'Negative']\n",
    "positive_data_makeup = exploded_makeup[exploded_makeup['sentiment'] == 'Positive']\n",
    "\n",
    "negative_data_hair = exploded_hair[exploded_hair['sentiment'] == 'Negative']\n",
    "positive_data_hair = exploded_hair[exploded_hair['sentiment'] == 'Positive']\n",
    "\n",
    "negative_data_skin = exploded_skin[exploded_skin['sentiment'] == 'Negative']\n",
    "positive_data_skin = exploded_skin[exploded_skin['sentiment'] == 'Positive']\n",
    "\n",
    "negative_data_perfume = exploded_perfume[exploded_perfume['sentiment'] == 'Negative']\n",
    "positive_data_perfume = exploded_perfume[exploded_perfume['sentiment'] == 'Positive']\n",
    "\n",
    "negative_data_body = exploded_body[exploded_body['sentiment'] == 'Negative']\n",
    "positive_data_body = exploded_body[exploded_body['sentiment'] == 'Positive']\n"
   ]
  },
  {
   "cell_type": "markdown",
   "id": "b89bc772",
   "metadata": {},
   "source": [
    "### Repeat the same process for makeup category\n",
    "The same topic modeling and analysis steps are applied to the makeup aspect comments. Both negative and positive comments related to makeup are analyzed using the same workflow, enabling a detailed comparison of topics and sentiments within this product category."
   ]
  },
  {
   "cell_type": "code",
   "execution_count": null,
   "id": "b6f23870",
   "metadata": {},
   "outputs": [],
   "source": [
    "# === 1. Convert Comments to List ===\n",
    "corpus_neg_makeup = negative_data_makeup['aspect'].dropna().astype(str).tolist()\n",
    "count_vectorizer = CountVectorizer(stop_words='english', lowercase=True)\n",
    "count_data_vectorized = count_vectorizer.fit_transform(corpus_neg_makeup)"
   ]
  },
  {
   "cell_type": "code",
   "execution_count": 37,
   "id": "a6b1f1fa",
   "metadata": {},
   "outputs": [
    {
     "name": "stdout",
     "output_type": "stream",
     "text": [
      "iteration: 1 of max_iter: 15\n",
      "iteration: 2 of max_iter: 15\n",
      "iteration: 3 of max_iter: 15\n",
      "iteration: 4 of max_iter: 15\n",
      "iteration: 5 of max_iter: 15\n",
      "iteration: 6 of max_iter: 15\n",
      "iteration: 7 of max_iter: 15\n",
      "iteration: 8 of max_iter: 15\n",
      "iteration: 9 of max_iter: 15\n",
      "iteration: 10 of max_iter: 15\n",
      "iteration: 11 of max_iter: 15\n",
      "iteration: 12 of max_iter: 15\n",
      "iteration: 13 of max_iter: 15\n",
      "iteration: 14 of max_iter: 15\n",
      "iteration: 15 of max_iter: 15\n",
      "Final LDA trained on full dataset!\n",
      "Log Likelihood: -983051.8672210341\n",
      "Perplexity: 582.5717525351107\n",
      "Shape of document-topic matrix: (146817, 5)\n"
     ]
    }
   ],
   "source": [
    "# === 5. Final Retrain with Best Params ===\n",
    "final_lda = LatentDirichletAllocation(\n",
    "    n_components=5,\n",
    "    learning_decay=0.7,\n",
    "    random_state=42,\n",
    "    learning_method=\"online\",\n",
    "    batch_size=1024,\n",
    "    max_iter=15,\n",
    "    verbose=1\n",
    ")\n",
    "\n",
    "# Fit final model on full dataset ===\n",
    "lda_topics_neg_makeup = final_lda.fit_transform(count_data_vectorized)\n",
    "\n",
    "# Evaluate the model ===\n",
    "log_likelihood = final_lda.score(count_data_vectorized)\n",
    "perplexity = final_lda.perplexity(count_data_vectorized)\n",
    "\n",
    "print(\"Final LDA trained on full dataset!\")\n",
    "print(f\"Log Likelihood: {log_likelihood}\")\n",
    "print(f\"Perplexity: {perplexity}\")\n",
    "\n",
    "# lda_topics_v2 contains document-topic distributions ===\n",
    "print(\"Shape of document-topic matrix:\", lda_topics_neg_makeup.shape)"
   ]
  },
  {
   "cell_type": "code",
   "execution_count": 40,
   "id": "f0f6b900",
   "metadata": {},
   "outputs": [
    {
     "name": "stdout",
     "output_type": "stream",
     "text": [
      "LDA Topics (with probabilities):\n",
      "\n",
      "Topic 1: [('face', np.float64(0.0443)), ('eyebrow', np.float64(0.031)), ('shade', np.float64(0.0277)), ('colour', np.float64(0.0276)), ('product', np.float64(0.0274)), ('filter', np.float64(0.0224)), ('tip', np.float64(0.0197)), ('style', np.float64(0.0196)), ('neck', np.float64(0.0153)), ('comment', np.float64(0.0145))]\n",
      "\n",
      "Topic 2: [('skin', np.float64(0.0755)), ('nose', np.float64(0.0509)), ('eyeliner', np.float64(0.0376)), ('beauty', np.float64(0.0354)), ('acrylic', np.float64(0.0289)), ('concealer', np.float64(0.0186)), ('mascara', np.float64(0.0186)), ('liner', np.float64(0.0158)), ('hairstyle', np.float64(0.0147)), ('paint', np.float64(0.0136))]\n",
      "\n",
      "Topic 3: [('hair', np.float64(0.188)), ('video', np.float64(0.0591)), ('eye', np.float64(0.0564)), ('girl', np.float64(0.0336)), ('boy', np.float64(0.0212)), ('water', np.float64(0.0209)), ('dress', np.float64(0.019)), ('food', np.float64(0.0186)), ('weight', np.float64(0.0176)), ('sound', np.float64(0.0165))]\n",
      "\n",
      "Topic 4: [('makeup', np.float64(0.5391)), ('lip', np.float64(0.0687)), ('guy', np.float64(0.0552)), ('look', np.float64(0.0347)), ('nail', np.float64(0.0265)), ('wig', np.float64(0.0185)), ('woman', np.float64(0.0149)), ('fat', np.float64(0.0127)), ('tutorial', np.float64(0.011)), ('sunscreen', np.float64(0.0106))]\n",
      "\n",
      "Topic 5: [('foundation', np.float64(0.1199)), ('color', np.float64(0.0691)), ('lipstick', np.float64(0.0492)), ('blush', np.float64(0.0183)), ('kylie', np.float64(0.0172)), ('ingredient', np.float64(0.0155)), ('mirror', np.float64(0.0153)), ('eyeshadow', np.float64(0.0148)), ('men', np.float64(0.0122)), ('fit', np.float64(0.0104))]\n"
     ]
    }
   ],
   "source": [
    "print(\"LDA Topics (with probabilities):\")\n",
    "lda_keywords = print_topics(final_lda, count_vectorizer, top_n=10, show_probs=True)\n"
   ]
  },
  {
   "cell_type": "code",
   "execution_count": 41,
   "id": "f04af56f",
   "metadata": {},
   "outputs": [
    {
     "name": "stdout",
     "output_type": "stream",
     "text": [
      "Topic Labels: {0: 'face', 1: 'skin', 2: 'hair', 3: 'makeup', 4: 'foundation'}\n"
     ]
    }
   ],
   "source": [
    "# Assume lda_model and count_vectorizer are already fitted\n",
    "feature_names = count_vectorizer.get_feature_names_out()\n",
    "\n",
    "topic_labels = {}\n",
    "for idx, topic in enumerate(final_lda.components_):\n",
    "    top_keyword_index = topic.argmax()  # index of the top word\n",
    "    top_keyword = feature_names[top_keyword_index]\n",
    "    topic_labels[idx] = top_keyword\n",
    "\n",
    "print(\"Topic Labels:\", topic_labels)"
   ]
  },
  {
   "cell_type": "code",
   "execution_count": null,
   "id": "c0fc121c",
   "metadata": {},
   "outputs": [
    {
     "name": "stderr",
     "output_type": "stream",
     "text": [
      "C:\\Users\\user\\AppData\\Local\\Temp\\ipykernel_1964\\3644473140.py:4: SettingWithCopyWarning: \n",
      "A value is trying to be set on a copy of a slice from a DataFrame.\n",
      "Try using .loc[row_indexer,col_indexer] = value instead\n",
      "\n",
      "See the caveats in the documentation: https://pandas.pydata.org/pandas-docs/stable/user_guide/indexing.html#returning-a-view-versus-a-copy\n",
      "  negative_data_makeup['dominant_topic_comment'] = np.nan\n",
      "C:\\Users\\user\\AppData\\Local\\Temp\\ipykernel_1964\\3644473140.py:5: SettingWithCopyWarning: \n",
      "A value is trying to be set on a copy of a slice from a DataFrame.\n",
      "Try using .loc[row_indexer,col_indexer] = value instead\n",
      "\n",
      "See the caveats in the documentation: https://pandas.pydata.org/pandas-docs/stable/user_guide/indexing.html#returning-a-view-versus-a-copy\n",
      "  negative_data_makeup['topic_confidence_comment'] = np.nan\n",
      "C:\\Users\\user\\AppData\\Local\\Temp\\ipykernel_1964\\3644473140.py:6: SettingWithCopyWarning: \n",
      "A value is trying to be set on a copy of a slice from a DataFrame.\n",
      "Try using .loc[row_indexer,col_indexer] = value instead\n",
      "\n",
      "See the caveats in the documentation: https://pandas.pydata.org/pandas-docs/stable/user_guide/indexing.html#returning-a-view-versus-a-copy\n",
      "  negative_data_makeup['topic_label_comment'] = np.nan\n",
      "C:\\Users\\user\\AppData\\Local\\Temp\\ipykernel_1964\\3644473140.py:18: FutureWarning: Setting an item of incompatible dtype is deprecated and will raise an error in a future version of pandas. Value '['foundation' 'skin' 'skin' ... 'skin' 'makeup' 'hair']' has dtype incompatible with float64, please explicitly cast to a compatible dtype first.\n",
      "  negative_data_makeup.loc[mask, 'topic_label_comment'] = negative_data_makeup.loc[mask, 'dominant_topic_comment'].map(topic_labels)\n"
     ]
    }
   ],
   "source": [
    "# Initialize columns with NaN\n",
    "negative_data_makeup['dominant_topic_comment'] = np.nan\n",
    "negative_data_makeup['topic_confidence_comment'] = np.nan\n",
    "negative_data_makeup['topic_label_comment'] = np.nan\n",
    "\n",
    "# Mask for non-null rows\n",
    "mask = negative_data_makeup['aspect'].notnull()\n",
    "\n",
    "# Compute only on rows that were vectorized\n",
    "dominant_topic = np.argmax(lda_topics_neg_makeup, axis=1)\n",
    "topic_confidence = lda_topics_neg_makeup.max(axis=1)\n",
    "\n",
    "# Assign back to the non-null rows\n",
    "negative_data_makeup.loc[mask, 'dominant_topic_comment'] = dominant_topic\n",
    "negative_data_makeup.loc[mask, 'topic_confidence_comment'] = topic_confidence\n",
    "negative_data_makeup.loc[mask, 'topic_label_comment'] = negative_data_makeup.loc[mask, 'dominant_topic_comment'].map(topic_labels)\n"
   ]
  },
  {
   "cell_type": "code",
   "execution_count": 55,
   "id": "02e220eb",
   "metadata": {},
   "outputs": [
    {
     "data": {
      "text/plain": [
       "topic_label_comment\n",
       "makeup        38586\n",
       "face          30304\n",
       "hair          26419\n",
       "skin          25948\n",
       "foundation    25560\n",
       "Name: count, dtype: int64"
      ]
     },
     "execution_count": 55,
     "metadata": {},
     "output_type": "execute_result"
    }
   ],
   "source": [
    "topic_counts_neg_makeup = negative_data_makeup['topic_label_comment'].value_counts()\n",
    "topic_counts_neg_makeup"
   ]
  },
  {
   "cell_type": "code",
   "execution_count": 65,
   "id": "8e6ebb44",
   "metadata": {},
   "outputs": [
    {
     "data": {
      "image/png": "[encoded data removed]",
      "text/plain": [
       "<Figure size 1000x600 with 1 Axes>"
      ]
     },
     "metadata": {},
     "output_type": "display_data"
    }
   ],
   "source": [
    "import matplotlib.pyplot as plt\n",
    "plt.figure(figsize=(10,6))\n",
    "topic_counts_neg_makeup.plot(kind='bar', color='skyblue')\n",
    "plt.xlabel('Topic Label')\n",
    "plt.ylabel('Count')\n",
    "plt.title('Topic Count Distribution')\n",
    "plt.xticks(rotation=45)\n",
    "plt.tight_layout()\n",
    "plt.show()"
   ]
  },
  {
   "cell_type": "code",
   "execution_count": 44,
   "id": "197141d2",
   "metadata": {},
   "outputs": [
    {
     "data": {
      "text/html": [
       "<div>\n",
       "<style scoped>\n",
       "    .dataframe tbody tr th:only-of-type {\n",
       "        vertical-align: middle;\n",
       "    }\n",
       "\n",
       "    .dataframe tbody tr th {\n",
       "        vertical-align: top;\n",
       "    }\n",
       "\n",
       "    .dataframe thead th {\n",
       "        text-align: right;\n",
       "    }\n",
       "</style>\n",
       "<table border=\"1\" class=\"dataframe\">\n",
       "  <thead>\n",
       "    <tr style=\"text-align: right;\">\n",
       "      <th></th>\n",
       "      <th>aspect</th>\n",
       "      <th>dominant_topic_comment</th>\n",
       "      <th>topic_label_comment</th>\n",
       "      <th>topic_confidence_comment</th>\n",
       "    </tr>\n",
       "  </thead>\n",
       "  <tbody>\n",
       "    <tr>\n",
       "      <th>561052</th>\n",
       "      <td>mom</td>\n",
       "      <td>1.0</td>\n",
       "      <td>skin</td>\n",
       "      <td>0.600000</td>\n",
       "    </tr>\n",
       "    <tr>\n",
       "      <th>578222</th>\n",
       "      <td>video</td>\n",
       "      <td>2.0</td>\n",
       "      <td>hair</td>\n",
       "      <td>0.600000</td>\n",
       "    </tr>\n",
       "    <tr>\n",
       "      <th>361625</th>\n",
       "      <td>perfume</td>\n",
       "      <td>2.0</td>\n",
       "      <td>hair</td>\n",
       "      <td>0.600000</td>\n",
       "    </tr>\n",
       "    <tr>\n",
       "      <th>437757</th>\n",
       "      <td>girl</td>\n",
       "      <td>2.0</td>\n",
       "      <td>hair</td>\n",
       "      <td>0.600000</td>\n",
       "    </tr>\n",
       "    <tr>\n",
       "      <th>91483</th>\n",
       "      <td>fat</td>\n",
       "      <td>3.0</td>\n",
       "      <td>makeup</td>\n",
       "      <td>0.600000</td>\n",
       "    </tr>\n",
       "    <tr>\n",
       "      <th>64076</th>\n",
       "      <td>style</td>\n",
       "      <td>0.0</td>\n",
       "      <td>face</td>\n",
       "      <td>0.600000</td>\n",
       "    </tr>\n",
       "    <tr>\n",
       "      <th>33557</th>\n",
       "      <td>makeup</td>\n",
       "      <td>3.0</td>\n",
       "      <td>makeup</td>\n",
       "      <td>0.600000</td>\n",
       "    </tr>\n",
       "    <tr>\n",
       "      <th>9068</th>\n",
       "      <td>makeup</td>\n",
       "      <td>3.0</td>\n",
       "      <td>makeup</td>\n",
       "      <td>0.600000</td>\n",
       "    </tr>\n",
       "    <tr>\n",
       "      <th>368393</th>\n",
       "      <td>makeup</td>\n",
       "      <td>3.0</td>\n",
       "      <td>makeup</td>\n",
       "      <td>0.600000</td>\n",
       "    </tr>\n",
       "    <tr>\n",
       "      <th>120218</th>\n",
       "      <td>hindash</td>\n",
       "      <td>0.0</td>\n",
       "      <td>face</td>\n",
       "      <td>0.599866</td>\n",
       "    </tr>\n",
       "  </tbody>\n",
       "</table>\n",
       "</div>"
      ],
      "text/plain": [
       "         aspect  dominant_topic_comment topic_label_comment  \\\n",
       "561052      mom                     1.0                skin   \n",
       "578222    video                     2.0                hair   \n",
       "361625  perfume                     2.0                hair   \n",
       "437757     girl                     2.0                hair   \n",
       "91483       fat                     3.0              makeup   \n",
       "64076     style                     0.0                face   \n",
       "33557    makeup                     3.0              makeup   \n",
       "9068     makeup                     3.0              makeup   \n",
       "368393   makeup                     3.0              makeup   \n",
       "120218  hindash                     0.0                face   \n",
       "\n",
       "        topic_confidence_comment  \n",
       "561052                  0.600000  \n",
       "578222                  0.600000  \n",
       "361625                  0.600000  \n",
       "437757                  0.600000  \n",
       "91483                   0.600000  \n",
       "64076                   0.600000  \n",
       "33557                   0.600000  \n",
       "9068                    0.600000  \n",
       "368393                  0.600000  \n",
       "120218                  0.599866  "
      ]
     },
     "execution_count": 44,
     "metadata": {},
     "output_type": "execute_result"
    }
   ],
   "source": [
    "negative_data_makeup[['aspect', 'dominant_topic_comment', 'topic_label_comment', 'topic_confidence_comment']].sample(10)"
   ]
  },
  {
   "cell_type": "code",
   "execution_count": null,
   "id": "e93816d3",
   "metadata": {},
   "outputs": [],
   "source": [
    "# === 1. Convert Comments to List ===\n",
    "corpus_pov_makeup = positive_data_makeup['aspect'].dropna().astype(str).tolist()\n",
    "count_vectorizer = CountVectorizer(stop_words='english', lowercase=True)\n",
    "count_data_vectorized = count_vectorizer.fit_transform(corpus_pov_makeup)"
   ]
  },
  {
   "cell_type": "code",
   "execution_count": 27,
   "id": "4365086d",
   "metadata": {},
   "outputs": [
    {
     "name": "stdout",
     "output_type": "stream",
     "text": [
      "iteration: 1 of max_iter: 15\n",
      "iteration: 2 of max_iter: 15\n",
      "iteration: 3 of max_iter: 15\n",
      "iteration: 4 of max_iter: 15\n",
      "iteration: 5 of max_iter: 15\n",
      "iteration: 6 of max_iter: 15\n",
      "iteration: 7 of max_iter: 15\n",
      "iteration: 8 of max_iter: 15\n",
      "iteration: 9 of max_iter: 15\n",
      "iteration: 10 of max_iter: 15\n",
      "iteration: 11 of max_iter: 15\n",
      "iteration: 12 of max_iter: 15\n",
      "iteration: 13 of max_iter: 15\n",
      "iteration: 14 of max_iter: 15\n",
      "iteration: 15 of max_iter: 15\n",
      "Final LDA trained on full dataset!\n",
      "Log Likelihood: -1126919.2095934795\n",
      "Perplexity: 465.17825558708995\n",
      "Shape of document-topic matrix: (176847, 5)\n"
     ]
    }
   ],
   "source": [
    "# === 5. Final Retrain with Best Params ===\n",
    "final_lda = LatentDirichletAllocation(\n",
    "    n_components=5,\n",
    "    learning_decay=0.7,\n",
    "    random_state=42,\n",
    "    learning_method=\"online\",\n",
    "    batch_size=1024,\n",
    "    max_iter=15,\n",
    "    verbose=1\n",
    ")\n",
    "\n",
    "# Fit final model on full dataset ===\n",
    "lda_topics = final_lda.fit_transform(count_data_vectorized)\n",
    "\n",
    "# Evaluate the model ===\n",
    "log_likelihood = final_lda.score(count_data_vectorized)\n",
    "perplexity = final_lda.perplexity(count_data_vectorized)\n",
    "\n",
    "print(\"Final LDA trained on full dataset!\")\n",
    "print(f\"Log Likelihood: {log_likelihood}\")\n",
    "print(f\"Perplexity: {perplexity}\")\n",
    "\n",
    "# lda_topics_v2 contains document-topic distributions ===\n",
    "print(\"Shape of document-topic matrix:\", lda_topics.shape)"
   ]
  },
  {
   "cell_type": "code",
   "execution_count": 29,
   "id": "7a4d7d60",
   "metadata": {},
   "outputs": [
    {
     "name": "stdout",
     "output_type": "stream",
     "text": [
      "LDA Topics (with probabilities):\n",
      "\n",
      "Topic 1: [('look', np.float64(0.3946)), ('colour', np.float64(0.0281)), ('pakistan', np.float64(0.0234)), ('day', np.float64(0.0218)), ('guy', np.float64(0.0209)), ('boy', np.float64(0.02)), ('didi', np.float64(0.0177)), ('wig', np.float64(0.016)), ('lady', np.float64(0.0155)), ('mashallah', np.float64(0.0114))]\n",
      "\n",
      "Topic 2: [('looking', np.float64(0.1141)), ('beauty', np.float64(0.0889)), ('lip', np.float64(0.0358)), ('style', np.float64(0.0333)), ('tutorial', np.float64(0.0263)), ('content', np.float64(0.0263)), ('foundation', np.float64(0.0257)), ('dress', np.float64(0.0207)), ('lipstick', np.float64(0.0204)), ('vibe', np.float64(0.017))]\n",
      "\n",
      "Topic 3: [('hair', np.float64(0.0906)), ('tip', np.float64(0.0444)), ('color', np.float64(0.0421)), ('indian', np.float64(0.0406)), ('personality', np.float64(0.0155)), ('birthday', np.float64(0.0129)), ('work', np.float64(0.0122)), ('looked', np.float64(0.0107)), ('eyeliner', np.float64(0.0103)), ('exercise', np.float64(0.0097))]\n",
      "\n",
      "Topic 4: [('makeup', np.float64(0.469)), ('skin', np.float64(0.0879)), ('india', np.float64(0.0843)), ('smile', np.float64(0.0227)), ('god', np.float64(0.0173)), ('outfit', np.float64(0.0144)), ('korean', np.float64(0.0087)), ('eyeshadow', np.float64(0.0069)), ('artist', np.float64(0.0066)), ('woman', np.float64(0.0061))]\n",
      "\n",
      "Topic 5: [('video', np.float64(0.1347)), ('night', np.float64(0.0936)), ('eye', np.float64(0.0546)), ('sharing', np.float64(0.0338)), ('face', np.float64(0.0326)), ('girl', np.float64(0.0301)), ('make', np.float64(0.0191)), ('baby', np.float64(0.0166)), ('shade', np.float64(0.0166)), ('mam', np.float64(0.016))]\n"
     ]
    }
   ],
   "source": [
    "print(\"LDA Topics (with probabilities):\")\n",
    "lda_keywords = print_topics(final_lda, count_vectorizer, top_n=10, show_probs=True)\n"
   ]
  },
  {
   "cell_type": "code",
   "execution_count": 30,
   "id": "7a05f95a",
   "metadata": {},
   "outputs": [
    {
     "name": "stdout",
     "output_type": "stream",
     "text": [
      "Topic Labels: {0: 'look', 1: 'looking', 2: 'hair', 3: 'makeup', 4: 'video'}\n"
     ]
    }
   ],
   "source": [
    "# Assume lda_model and count_vectorizer are already fitted\n",
    "feature_names = count_vectorizer.get_feature_names_out()\n",
    "\n",
    "topic_labels = {}\n",
    "for idx, topic in enumerate(final_lda.components_):\n",
    "    top_keyword_index = topic.argmax()  # index of the top word\n",
    "    top_keyword = feature_names[top_keyword_index]\n",
    "    topic_labels[idx] = top_keyword\n",
    "\n",
    "print(\"Topic Labels:\", topic_labels)"
   ]
  },
  {
   "cell_type": "code",
   "execution_count": 32,
   "id": "27bc538d",
   "metadata": {},
   "outputs": [
    {
     "name": "stderr",
     "output_type": "stream",
     "text": [
      "C:\\Users\\user\\AppData\\Local\\Temp\\ipykernel_1964\\3406151726.py:4: SettingWithCopyWarning: \n",
      "A value is trying to be set on a copy of a slice from a DataFrame.\n",
      "Try using .loc[row_indexer,col_indexer] = value instead\n",
      "\n",
      "See the caveats in the documentation: https://pandas.pydata.org/pandas-docs/stable/user_guide/indexing.html#returning-a-view-versus-a-copy\n",
      "  positive_data_makeup['dominant_topic_comment'] = np.nan\n",
      "C:\\Users\\user\\AppData\\Local\\Temp\\ipykernel_1964\\3406151726.py:5: SettingWithCopyWarning: \n",
      "A value is trying to be set on a copy of a slice from a DataFrame.\n",
      "Try using .loc[row_indexer,col_indexer] = value instead\n",
      "\n",
      "See the caveats in the documentation: https://pandas.pydata.org/pandas-docs/stable/user_guide/indexing.html#returning-a-view-versus-a-copy\n",
      "  positive_data_makeup['topic_confidence_comment'] = np.nan\n",
      "C:\\Users\\user\\AppData\\Local\\Temp\\ipykernel_1964\\3406151726.py:6: SettingWithCopyWarning: \n",
      "A value is trying to be set on a copy of a slice from a DataFrame.\n",
      "Try using .loc[row_indexer,col_indexer] = value instead\n",
      "\n",
      "See the caveats in the documentation: https://pandas.pydata.org/pandas-docs/stable/user_guide/indexing.html#returning-a-view-versus-a-copy\n",
      "  positive_data_makeup['topic_label_comment'] = np.nan\n",
      "C:\\Users\\user\\AppData\\Local\\Temp\\ipykernel_1964\\3406151726.py:18: FutureWarning: Setting an item of incompatible dtype is deprecated and will raise an error in a future version of pandas. Value '['makeup' 'looking' 'makeup' ... 'makeup' 'hair' 'look']' has dtype incompatible with float64, please explicitly cast to a compatible dtype first.\n",
      "  positive_data_makeup.loc[mask, 'topic_label_comment'] = positive_data_makeup.loc[mask, 'dominant_topic_comment'].map(topic_labels)\n"
     ]
    }
   ],
   "source": [
    "import numpy as np\n",
    "\n",
    "# Initialize columns with NaN\n",
    "positive_data_makeup['dominant_topic_comment'] = np.nan\n",
    "positive_data_makeup['topic_confidence_comment'] = np.nan\n",
    "positive_data_makeup['topic_label_comment'] = np.nan\n",
    "\n",
    "# Mask for non-null rows\n",
    "mask = positive_data_makeup['aspect'].notnull()\n",
    "\n",
    "# Compute only on rows that were vectorized\n",
    "dominant_topic = np.argmax(lda_topics, axis=1)\n",
    "topic_confidence = lda_topics.max(axis=1)\n",
    "\n",
    "# Assign back to the non-null rows\n",
    "positive_data_makeup.loc[mask, 'dominant_topic_comment'] = dominant_topic\n",
    "positive_data_makeup.loc[mask, 'topic_confidence_comment'] = topic_confidence\n",
    "positive_data_makeup.loc[mask, 'topic_label_comment'] = positive_data_makeup.loc[mask, 'dominant_topic_comment'].map(topic_labels)\n"
   ]
  },
  {
   "cell_type": "code",
   "execution_count": null,
   "id": "34c0afce",
   "metadata": {},
   "outputs": [],
   "source": [
    "topic_counts = positive_data_makeup['topic_label_comment'].value_counts()"
   ]
  },
  {
   "cell_type": "code",
   "execution_count": null,
   "id": "75ae96ce",
   "metadata": {},
   "outputs": [
    {
     "data": {
      "image/png": "[encoded data removed]",
      "text/plain": [
       "<Figure size 1000x600 with 1 Axes>"
      ]
     },
     "metadata": {},
     "output_type": "display_data"
    }
   ],
   "source": [
    "import matplotlib.pyplot as plt\n",
    "plt.figure(figsize=(10,6))\n",
    "topic_counts.plot(kind='bar', color='skyblue')\n",
    "plt.xlabel('Topic Label')\n",
    "plt.ylabel('Count')\n",
    "plt.title('Topic Count Distribution')\n",
    "plt.xticks(rotation=45)\n",
    "plt.tight_layout()\n",
    "plt.show()"
   ]
  },
  {
   "cell_type": "markdown",
   "id": "6c7bf3bb",
   "metadata": {},
   "source": [
    "### Repeat the same process for hair category\n",
    "The same topic modeling and analysis steps are applied to the makeup aspect comments. Both negative and positive comments related to makeup are analyzed using the same workflow, enabling a detailed comparison of topics and sentiments within this product category."
   ]
  },
  {
   "cell_type": "code",
   "execution_count": null,
   "id": "c688a5e2",
   "metadata": {},
   "outputs": [
    {
     "name": "stdout",
     "output_type": "stream",
     "text": [
      "iteration: 1 of max_iter: 15\n",
      "iteration: 2 of max_iter: 15\n",
      "iteration: 3 of max_iter: 15\n",
      "iteration: 4 of max_iter: 15\n",
      "iteration: 5 of max_iter: 15\n",
      "iteration: 6 of max_iter: 15\n",
      "iteration: 7 of max_iter: 15\n",
      "iteration: 8 of max_iter: 15\n",
      "iteration: 9 of max_iter: 15\n",
      "iteration: 10 of max_iter: 15\n",
      "iteration: 11 of max_iter: 15\n",
      "iteration: 12 of max_iter: 15\n",
      "iteration: 13 of max_iter: 15\n",
      "iteration: 14 of max_iter: 15\n",
      "iteration: 15 of max_iter: 15\n",
      "Final LDA trained on full dataset!\n",
      "Log Likelihood: -546364.4091724865\n",
      "Perplexity: 373.1361186185554\n",
      "Shape of document-topic matrix: (87639, 5)\n"
     ]
    }
   ],
   "source": [
    "corpus_neg_hair = negative_data_hair['aspect'].dropna().astype(str).tolist()\n",
    "count_vectorizer = CountVectorizer(stop_words='english', lowercase=True)\n",
    "count_data_vectorized = count_vectorizer.fit_transform(corpus_neg_hair)\n",
    "final_lda = LatentDirichletAllocation(\n",
    "    n_components=5,\n",
    "    learning_decay=0.7,\n",
    "    random_state=42,\n",
    "    learning_method=\"online\",\n",
    "    batch_size=1024,\n",
    "    max_iter=15,\n",
    "    verbose=1\n",
    ")\n",
    "\n",
    "# Fit final model on full dataset ===\n",
    "lda_topics_neg_hair = final_lda.fit_transform(count_data_vectorized)\n",
    "\n",
    "# Evaluate the model ===\n",
    "log_likelihood = final_lda.score(count_data_vectorized)\n",
    "perplexity = final_lda.perplexity(count_data_vectorized)\n",
    "\n",
    "print(\"Final LDA trained on full dataset!\")\n",
    "print(f\"Log Likelihood: {log_likelihood}\")\n",
    "print(f\"Perplexity: {perplexity}\")\n",
    "\n",
    "print(\"Shape of document-topic matrix:\", lda_topics_neg_hair.shape)"
   ]
  },
  {
   "cell_type": "code",
   "execution_count": null,
   "id": "50ef5a33",
   "metadata": {},
   "outputs": [
    {
     "name": "stderr",
     "output_type": "stream",
     "text": [
      "C:\\Users\\user\\AppData\\Local\\Temp\\ipykernel_1964\\1764261696.py:4: SettingWithCopyWarning: \n",
      "A value is trying to be set on a copy of a slice from a DataFrame.\n",
      "Try using .loc[row_indexer,col_indexer] = value instead\n",
      "\n",
      "See the caveats in the documentation: https://pandas.pydata.org/pandas-docs/stable/user_guide/indexing.html#returning-a-view-versus-a-copy\n",
      "  negative_data_hair['dominant_topic_comment'] = np.nan\n",
      "C:\\Users\\user\\AppData\\Local\\Temp\\ipykernel_1964\\1764261696.py:5: SettingWithCopyWarning: \n",
      "A value is trying to be set on a copy of a slice from a DataFrame.\n",
      "Try using .loc[row_indexer,col_indexer] = value instead\n",
      "\n",
      "See the caveats in the documentation: https://pandas.pydata.org/pandas-docs/stable/user_guide/indexing.html#returning-a-view-versus-a-copy\n",
      "  negative_data_hair['topic_confidence_comment'] = np.nan\n",
      "C:\\Users\\user\\AppData\\Local\\Temp\\ipykernel_1964\\1764261696.py:6: SettingWithCopyWarning: \n",
      "A value is trying to be set on a copy of a slice from a DataFrame.\n",
      "Try using .loc[row_indexer,col_indexer] = value instead\n",
      "\n",
      "See the caveats in the documentation: https://pandas.pydata.org/pandas-docs/stable/user_guide/indexing.html#returning-a-view-versus-a-copy\n",
      "  negative_data_hair['topic_label_comment'] = np.nan\n",
      "C:\\Users\\user\\AppData\\Local\\Temp\\ipykernel_1964\\1764261696.py:18: FutureWarning: Setting an item of incompatible dtype is deprecated and will raise an error in a future version of pandas. Value '['cut' 'haircut' 'hair' ... 'cut' 'hair' 'colour']' has dtype incompatible with float64, please explicitly cast to a compatible dtype first.\n",
      "  negative_data_hair.loc[mask, 'topic_label_comment'] = negative_data_hair.loc[mask, 'dominant_topic_comment'].map(topic_labels)\n"
     ]
    }
   ],
   "source": [
    "# Initialize columns with NaN\n",
    "negative_data_hair['dominant_topic_comment'] = np.nan\n",
    "negative_data_hair['topic_confidence_comment'] = np.nan\n",
    "negative_data_hair['topic_label_comment'] = np.nan\n",
    "\n",
    "# Mask for non-null rows\n",
    "mask = negative_data_hair['aspect'].notnull()\n",
    "\n",
    "# Compute only on rows that were vectorized\n",
    "dominant_topic = np.argmax(lda_topics_neg_hair, axis=1)\n",
    "topic_confidence = lda_topics_neg_hair.max(axis=1)\n",
    "\n",
    "# Assign back to the non-null rows\n",
    "negative_data_hair.loc[mask, 'dominant_topic_comment'] = dominant_topic\n",
    "negative_data_hair.loc[mask, 'topic_confidence_comment'] = topic_confidence\n",
    "negative_data_hair.loc[mask, 'topic_label_comment'] = negative_data_hair.loc[mask, 'dominant_topic_comment'].map(topic_labels)\n"
   ]
  },
  {
   "cell_type": "code",
   "execution_count": null,
   "id": "6e8afcd3",
   "metadata": {},
   "outputs": [
    {
     "name": "stdout",
     "output_type": "stream",
     "text": [
      "LDA Topics (with probabilities):\n",
      "\n",
      "Topic 1: [('makeup', np.float64(0.1806)), ('color', np.float64(0.1431)), ('style', np.float64(0.0764)), ('cost', np.float64(0.0202)), ('woman', np.float64(0.0186)), ('sound', np.float64(0.0179)), ('beauty', np.float64(0.0172)), ('filter', np.float64(0.0162)), ('song', np.float64(0.0159)), ('blonde', np.float64(0.0157))]\n",
      "\n",
      "Topic 2: [('cut', np.float64(0.0496)), ('skin', np.float64(0.0344)), ('face', np.float64(0.0245)), ('length', np.float64(0.0242)), ('shampoo', np.float64(0.0227)), ('eye', np.float64(0.021)), ('lady', np.float64(0.0203)), ('braid', np.float64(0.0192)), ('ginger', np.float64(0.0163)), ('fit', np.float64(0.014))]\n",
      "\n",
      "Topic 3: [('hair', np.float64(0.6948)), ('wig', np.float64(0.0669)), ('hairstyle', np.float64(0.0321)), ('guy', np.float64(0.0304)), ('dress', np.float64(0.0242)), ('eyebrow', np.float64(0.0175)), ('code', np.float64(0.0104)), ('texture', np.float64(0.0095)), ('root', np.float64(0.008)), ('beard', np.float64(0.0075))]\n",
      "\n",
      "Topic 4: [('haircut', np.float64(0.0497)), ('look', np.float64(0.0442)), ('curl', np.float64(0.0274)), ('lip', np.float64(0.0247)), ('trend', np.float64(0.0206)), ('dye', np.float64(0.0204)), ('music', np.float64(0.0189)), ('brad', np.float64(0.0185)), ('rain', np.float64(0.0165)), ('tip', np.float64(0.0151))]\n",
      "\n",
      "Topic 5: [('colour', np.float64(0.0519)), ('video', np.float64(0.0342)), ('girl', np.float64(0.0287)), ('price', np.float64(0.022)), ('foundation', np.float64(0.0206)), ('oil', np.float64(0.0176)), ('volume', np.float64(0.0141)), ('stylist', np.float64(0.014)), ('wait', np.float64(0.0119)), ('water', np.float64(0.0118))]\n"
     ]
    }
   ],
   "source": [
    "print(\"LDA Topics (with probabilities):\")\n",
    "lda_keywords = print_topics(final_lda, count_vectorizer, top_n=10, show_probs=True)\n"
   ]
  },
  {
   "cell_type": "code",
   "execution_count": null,
   "id": "6b9ce05e",
   "metadata": {},
   "outputs": [
    {
     "name": "stdout",
     "output_type": "stream",
     "text": [
      "Topic Labels: {0: 'makeup', 1: 'cut', 2: 'hair', 3: 'haircut', 4: 'colour'}\n"
     ]
    }
   ],
   "source": [
    "# Assume lda_model and count_vectorizer are already fitted\n",
    "feature_names = count_vectorizer.get_feature_names_out()\n",
    "\n",
    "topic_labels = {}\n",
    "for idx, topic in enumerate(final_lda.components_):\n",
    "    top_keyword_index = topic.argmax()  # index of the top word\n",
    "    top_keyword = feature_names[top_keyword_index]\n",
    "    topic_labels[idx] = top_keyword\n",
    "\n",
    "print(\"Topic Labels:\", topic_labels)"
   ]
  },
  {
   "cell_type": "code",
   "execution_count": null,
   "id": "121b42a6",
   "metadata": {},
   "outputs": [],
   "source": [
    "topic_counts_neg_hair = negative_data_hair['topic_label_comment'].value_counts()"
   ]
  },
  {
   "cell_type": "code",
   "execution_count": null,
   "id": "f95efbfe",
   "metadata": {},
   "outputs": [
    {
     "data": {
      "image/png": "[encoded data removed]",
      "text/plain": [
       "<Figure size 1000x600 with 1 Axes>"
      ]
     },
     "metadata": {},
     "output_type": "display_data"
    }
   ],
   "source": [
    "import matplotlib.pyplot as plt\n",
    "plt.figure(figsize=(10,6))\n",
    "topic_counts_neg_hair.plot(kind='bar', color='skyblue')\n",
    "plt.xlabel('Topic Label')\n",
    "plt.ylabel('Count')\n",
    "plt.title('Topic Count Distribution')\n",
    "plt.xticks(rotation=45)\n",
    "plt.tight_layout()\n",
    "plt.show()"
   ]
  },
  {
   "cell_type": "code",
   "execution_count": null,
   "id": "20f67acd",
   "metadata": {},
   "outputs": [
    {
     "name": "stdout",
     "output_type": "stream",
     "text": [
      "iteration: 1 of max_iter: 15\n",
      "iteration: 2 of max_iter: 15\n",
      "iteration: 3 of max_iter: 15\n",
      "iteration: 4 of max_iter: 15\n",
      "iteration: 5 of max_iter: 15\n",
      "iteration: 6 of max_iter: 15\n",
      "iteration: 7 of max_iter: 15\n",
      "iteration: 8 of max_iter: 15\n",
      "iteration: 9 of max_iter: 15\n",
      "iteration: 10 of max_iter: 15\n",
      "iteration: 11 of max_iter: 15\n",
      "iteration: 12 of max_iter: 15\n",
      "iteration: 13 of max_iter: 15\n",
      "iteration: 14 of max_iter: 15\n",
      "iteration: 15 of max_iter: 15\n",
      "Final LDA trained on full dataset!\n",
      "Log Likelihood: -650071.6666115603\n",
      "Perplexity: 283.4545632311132\n",
      "Shape of document-topic matrix: (110374, 5)\n"
     ]
    }
   ],
   "source": [
    "corpus_pos_hair = positive_data_hair['aspect'].dropna().astype(str).tolist()\n",
    "count_vectorizer = CountVectorizer(stop_words='english', lowercase=True)\n",
    "count_data_vectorized = count_vectorizer.fit_transform(corpus_pos_hair)\n",
    "final_lda = LatentDirichletAllocation(\n",
    "    n_components=5,\n",
    "    learning_decay=0.7,\n",
    "    random_state=42,\n",
    "    learning_method=\"online\",\n",
    "    batch_size=1024,\n",
    "    max_iter=15,\n",
    "    verbose=1\n",
    ")\n",
    "\n",
    "# Fit final model on full dataset ===\n",
    "lda_topics_pos_hair = final_lda.fit_transform(count_data_vectorized)\n",
    "\n",
    "# Evaluate the model ===\n",
    "log_likelihood = final_lda.score(count_data_vectorized)\n",
    "perplexity = final_lda.perplexity(count_data_vectorized)\n",
    "\n",
    "print(\"Final LDA trained on full dataset!\")\n",
    "print(f\"Log Likelihood: {log_likelihood}\")\n",
    "print(f\"Perplexity: {perplexity}\")\n",
    "\n",
    "print(\"Shape of document-topic matrix:\", lda_topics_pos_hair.shape)"
   ]
  },
  {
   "cell_type": "code",
   "execution_count": null,
   "id": "c23e3f68",
   "metadata": {},
   "outputs": [
    {
     "name": "stdout",
     "output_type": "stream",
     "text": [
      "LDA Topics (with probabilities):\n",
      "\n",
      "Topic 1: [('makeup', np.float64(0.1681)), ('haircut', np.float64(0.041)), ('transformation', np.float64(0.0348)), ('dress', np.float64(0.0331)), ('smile', np.float64(0.0329)), ('looked', np.float64(0.031)), ('god', np.float64(0.0278)), ('outfit', np.float64(0.0246)), ('love', np.float64(0.0245)), ('brad', np.float64(0.0232))]\n",
      "\n",
      "Topic 2: [('wig', np.float64(0.1038)), ('face', np.float64(0.0305)), ('girl', np.float64(0.0305)), ('pink', np.float64(0.0297)), ('suit', np.float64(0.0259)), ('lady', np.float64(0.0228)), ('red', np.float64(0.0206)), ('baby', np.float64(0.0187)), ('content', np.float64(0.0141)), ('confidence', np.float64(0.0105))]\n",
      "\n",
      "Topic 3: [('hair', np.float64(0.415)), ('look', np.float64(0.3571)), ('hairstyle', np.float64(0.0462)), ('colour', np.float64(0.0289)), ('eye', np.float64(0.0212)), ('guy', np.float64(0.0142)), ('vibe', np.float64(0.0114)), ('stylist', np.float64(0.0078)), ('natural', np.float64(0.0064)), ('personality', np.float64(0.0061))]\n",
      "\n",
      "Topic 4: [('color', np.float64(0.1632)), ('style', np.float64(0.1273)), ('ginger', np.float64(0.1006)), ('video', np.float64(0.0746)), ('cut', np.float64(0.039)), ('skin', np.float64(0.0306)), ('bald', np.float64(0.0206)), ('anushka', np.float64(0.0097)), ('wear', np.float64(0.0074)), ('texture', np.float64(0.0071))]\n",
      "\n",
      "Topic 5: [('beauty', np.float64(0.0742)), ('looking', np.float64(0.056)), ('fit', np.float64(0.0373)), ('music', np.float64(0.0197)), ('song', np.float64(0.0181)), ('work', np.float64(0.0134)), ('purple', np.float64(0.0109)), ('blonde', np.float64(0.0104)), ('job', np.float64(0.0101)), ('trend', np.float64(0.0099))]\n"
     ]
    }
   ],
   "source": [
    "print(\"LDA Topics (with probabilities):\")\n",
    "lda_keywords = print_topics(final_lda, count_vectorizer, top_n=10, show_probs=True)\n"
   ]
  },
  {
   "cell_type": "code",
   "execution_count": null,
   "id": "9f609597",
   "metadata": {},
   "outputs": [
    {
     "name": "stdout",
     "output_type": "stream",
     "text": [
      "Topic Labels: {0: 'makeup', 1: 'wig', 2: 'hair', 3: 'color', 4: 'beauty'}\n"
     ]
    }
   ],
   "source": [
    "# Assume lda_model and count_vectorizer are already fitted\n",
    "feature_names = count_vectorizer.get_feature_names_out()\n",
    "\n",
    "topic_labels = {}\n",
    "for idx, topic in enumerate(final_lda.components_):\n",
    "    top_keyword_index = topic.argmax()  # index of the top word\n",
    "    top_keyword = feature_names[top_keyword_index]\n",
    "    topic_labels[idx] = top_keyword\n",
    "\n",
    "print(\"Topic Labels:\", topic_labels)"
   ]
  },
  {
   "cell_type": "code",
   "execution_count": null,
   "id": "eb46ed4f",
   "metadata": {},
   "outputs": [
    {
     "name": "stderr",
     "output_type": "stream",
     "text": [
      "C:\\Users\\user\\AppData\\Local\\Temp\\ipykernel_1964\\911777314.py:2: SettingWithCopyWarning: \n",
      "A value is trying to be set on a copy of a slice from a DataFrame.\n",
      "Try using .loc[row_indexer,col_indexer] = value instead\n",
      "\n",
      "See the caveats in the documentation: https://pandas.pydata.org/pandas-docs/stable/user_guide/indexing.html#returning-a-view-versus-a-copy\n",
      "  positive_data_hair['dominant_topic_comment'] = np.nan\n",
      "C:\\Users\\user\\AppData\\Local\\Temp\\ipykernel_1964\\911777314.py:3: SettingWithCopyWarning: \n",
      "A value is trying to be set on a copy of a slice from a DataFrame.\n",
      "Try using .loc[row_indexer,col_indexer] = value instead\n",
      "\n",
      "See the caveats in the documentation: https://pandas.pydata.org/pandas-docs/stable/user_guide/indexing.html#returning-a-view-versus-a-copy\n",
      "  positive_data_hair['topic_confidence_comment'] = np.nan\n",
      "C:\\Users\\user\\AppData\\Local\\Temp\\ipykernel_1964\\911777314.py:4: SettingWithCopyWarning: \n",
      "A value is trying to be set on a copy of a slice from a DataFrame.\n",
      "Try using .loc[row_indexer,col_indexer] = value instead\n",
      "\n",
      "See the caveats in the documentation: https://pandas.pydata.org/pandas-docs/stable/user_guide/indexing.html#returning-a-view-versus-a-copy\n",
      "  positive_data_hair['topic_label_comment'] = np.nan\n",
      "C:\\Users\\user\\AppData\\Local\\Temp\\ipykernel_1964\\911777314.py:16: FutureWarning: Setting an item of incompatible dtype is deprecated and will raise an error in a future version of pandas. Value '['hair' 'beauty' 'hair' ... 'beauty' 'hair' 'beauty']' has dtype incompatible with float64, please explicitly cast to a compatible dtype first.\n",
      "  positive_data_hair.loc[mask, 'topic_label_comment'] = positive_data_hair.loc[mask, 'dominant_topic_comment'].map(topic_labels)\n"
     ]
    }
   ],
   "source": [
    "# Initialize columns with NaN\n",
    "positive_data_hair['dominant_topic_comment'] = np.nan\n",
    "positive_data_hair['topic_confidence_comment'] = np.nan\n",
    "positive_data_hair['topic_label_comment'] = np.nan\n",
    "\n",
    "# Mask for non-null rows\n",
    "mask = positive_data_hair['aspect'].notnull()\n",
    "\n",
    "# Compute only on rows that were vectorized\n",
    "dominant_topic = np.argmax(lda_topics_pos_hair, axis=1)\n",
    "topic_confidence = lda_topics_pos_hair.max(axis=1)\n",
    "\n",
    "# Assign back to the non-null rows\n",
    "positive_data_hair.loc[mask, 'dominant_topic_comment'] = dominant_topic\n",
    "positive_data_hair.loc[mask, 'topic_confidence_comment'] = topic_confidence\n",
    "positive_data_hair.loc[mask, 'topic_label_comment'] = positive_data_hair.loc[mask, 'dominant_topic_comment'].map(topic_labels)\n"
   ]
  },
  {
   "cell_type": "code",
   "execution_count": null,
   "id": "3c7b3e98",
   "metadata": {},
   "outputs": [],
   "source": [
    "topic_counts_pos_hair = positive_data_hair['topic_label_comment'].value_counts()"
   ]
  },
  {
   "cell_type": "code",
   "execution_count": null,
   "id": "a7fd1530",
   "metadata": {},
   "outputs": [
    {
     "data": {
      "image/png": "[encoded data removed]",
      "text/plain": [
       "<Figure size 1000x600 with 1 Axes>"
      ]
     },
     "metadata": {},
     "output_type": "display_data"
    }
   ],
   "source": [
    "import matplotlib.pyplot as plt\n",
    "plt.figure(figsize=(10,6))\n",
    "topic_counts_pos_hair.plot(kind='bar', color='skyblue')\n",
    "plt.xlabel('Topic Label')\n",
    "plt.ylabel('Count')\n",
    "plt.title('Topic Count Distribution')\n",
    "plt.xticks(rotation=45)\n",
    "plt.tight_layout()\n",
    "plt.show()"
   ]
  },
  {
   "cell_type": "markdown",
   "id": "13936a90",
   "metadata": {},
   "source": [
    "### Repeat the same process for skin category\n",
    "The same topic modeling and analysis steps are applied to the makeup aspect comments. Both negative and positive comments related to makeup are analyzed using the same workflow, enabling a detailed comparison of topics and sentiments within this product category."
   ]
  },
  {
   "cell_type": "code",
   "execution_count": 86,
   "id": "803533b6",
   "metadata": {},
   "outputs": [
    {
     "name": "stdout",
     "output_type": "stream",
     "text": [
      "iteration: 1 of max_iter: 15\n",
      "iteration: 2 of max_iter: 15\n",
      "iteration: 3 of max_iter: 15\n",
      "iteration: 4 of max_iter: 15\n",
      "iteration: 5 of max_iter: 15\n",
      "iteration: 6 of max_iter: 15\n",
      "iteration: 7 of max_iter: 15\n",
      "iteration: 8 of max_iter: 15\n",
      "iteration: 9 of max_iter: 15\n",
      "iteration: 10 of max_iter: 15\n",
      "iteration: 11 of max_iter: 15\n",
      "iteration: 12 of max_iter: 15\n",
      "iteration: 13 of max_iter: 15\n",
      "iteration: 14 of max_iter: 15\n",
      "iteration: 15 of max_iter: 15\n",
      "Final LDA trained on full dataset!\n",
      "Log Likelihood: -252671.03049367352\n",
      "Perplexity: 1004.1427218845587\n",
      "Shape of document-topic matrix: (34862, 5)\n"
     ]
    }
   ],
   "source": [
    "corpus_neg_skin = negative_data_skin['aspect'].dropna().astype(str).tolist()\n",
    "count_vectorizer = CountVectorizer(stop_words='english', lowercase=True)\n",
    "count_data_vectorized = count_vectorizer.fit_transform(corpus_neg_skin)\n",
    "final_lda = LatentDirichletAllocation(\n",
    "    n_components=5,\n",
    "    learning_decay=0.7,\n",
    "    random_state=42,\n",
    "    learning_method=\"online\",\n",
    "    batch_size=1024,\n",
    "    max_iter=15,\n",
    "    verbose=1\n",
    ")\n",
    "\n",
    "# Fit final model on full dataset ===\n",
    "lda_topics_neg_skin = final_lda.fit_transform(count_data_vectorized)\n",
    "\n",
    "# Evaluate the model ===\n",
    "log_likelihood = final_lda.score(count_data_vectorized)\n",
    "perplexity = final_lda.perplexity(count_data_vectorized)\n",
    "\n",
    "print(\"Final LDA trained on full dataset!\")\n",
    "print(f\"Log Likelihood: {log_likelihood}\")\n",
    "print(f\"Perplexity: {perplexity}\")\n",
    "\n",
    "print(\"Shape of document-topic matrix:\", lda_topics_neg_skin.shape)"
   ]
  },
  {
   "cell_type": "code",
   "execution_count": 89,
   "id": "55376e1c",
   "metadata": {},
   "outputs": [
    {
     "name": "stdout",
     "output_type": "stream",
     "text": [
      "LDA Topics (with probabilities):\n",
      "\n",
      "Topic 1: [('face', np.float64(0.0404)), ('look', np.float64(0.0351)), ('eyeliner', np.float64(0.0296)), ('voice', np.float64(0.0289)), ('food', np.float64(0.026)), ('water', np.float64(0.022)), ('hygiene', np.float64(0.0199)), ('elephant', np.float64(0.0185)), ('mirror', np.float64(0.0151)), ('heel', np.float64(0.0131))]\n",
      "\n",
      "Topic 2: [('skin', np.float64(0.1194)), ('foundation', np.float64(0.0755)), ('color', np.float64(0.0487)), ('skincare', np.float64(0.0449)), ('cost', np.float64(0.0236)), ('colour', np.float64(0.0227)), ('eyebrow', np.float64(0.0196)), ('song', np.float64(0.0177)), ('shade', np.float64(0.0148)), ('boy', np.float64(0.0122))]\n",
      "\n",
      "Topic 3: [('lip', np.float64(0.0535)), ('guy', np.float64(0.044)), ('filter', np.float64(0.0412)), ('product', np.float64(0.0352)), ('weight', np.float64(0.0247)), ('body', np.float64(0.0209)), ('sunscreen', np.float64(0.0176)), ('soap', np.float64(0.0141)), ('tutorial', np.float64(0.0129)), ('tip', np.float64(0.0129))]\n",
      "\n",
      "Topic 4: [('hair', np.float64(0.1903)), ('video', np.float64(0.0439)), ('beauty', np.float64(0.0422)), ('chin', np.float64(0.0351)), ('eye', np.float64(0.0302)), ('trend', np.float64(0.0207)), ('money', np.float64(0.0193)), ('nose', np.float64(0.0168)), ('music', np.float64(0.0158)), ('crumb', np.float64(0.0157))]\n",
      "\n",
      "Topic 5: [('makeup', np.float64(0.3075)), ('wig', np.float64(0.0313)), ('fat', np.float64(0.0249)), ('neck', np.float64(0.0237)), ('sound', np.float64(0.0215)), ('price', np.float64(0.0208)), ('girl', np.float64(0.019)), ('oil', np.float64(0.016)), ('lipstick', np.float64(0.0152)), ('comment', np.float64(0.0142))]\n"
     ]
    }
   ],
   "source": [
    "print(\"LDA Topics (with probabilities):\")\n",
    "lda_keywords = print_topics(final_lda, count_vectorizer, top_n=10, show_probs=True)\n"
   ]
  },
  {
   "cell_type": "code",
   "execution_count": 87,
   "id": "cb933c4b",
   "metadata": {},
   "outputs": [
    {
     "name": "stdout",
     "output_type": "stream",
     "text": [
      "Topic Labels: {0: 'face', 1: 'skin', 2: 'lip', 3: 'hair', 4: 'makeup'}\n"
     ]
    }
   ],
   "source": [
    "# Assume lda_model and count_vectorizer are already fitted\n",
    "feature_names = count_vectorizer.get_feature_names_out()\n",
    "\n",
    "topic_labels = {}\n",
    "for idx, topic in enumerate(final_lda.components_):\n",
    "    top_keyword_index = topic.argmax()  # index of the top word\n",
    "    top_keyword = feature_names[top_keyword_index]\n",
    "    topic_labels[idx] = top_keyword\n",
    "\n",
    "print(\"Topic Labels:\", topic_labels)"
   ]
  },
  {
   "cell_type": "code",
   "execution_count": 88,
   "id": "c2e1be1f",
   "metadata": {},
   "outputs": [
    {
     "name": "stderr",
     "output_type": "stream",
     "text": [
      "C:\\Users\\user\\AppData\\Local\\Temp\\ipykernel_1964\\3600316834.py:2: SettingWithCopyWarning: \n",
      "A value is trying to be set on a copy of a slice from a DataFrame.\n",
      "Try using .loc[row_indexer,col_indexer] = value instead\n",
      "\n",
      "See the caveats in the documentation: https://pandas.pydata.org/pandas-docs/stable/user_guide/indexing.html#returning-a-view-versus-a-copy\n",
      "  negative_data_skin['dominant_topic_comment'] = np.nan\n",
      "C:\\Users\\user\\AppData\\Local\\Temp\\ipykernel_1964\\3600316834.py:3: SettingWithCopyWarning: \n",
      "A value is trying to be set on a copy of a slice from a DataFrame.\n",
      "Try using .loc[row_indexer,col_indexer] = value instead\n",
      "\n",
      "See the caveats in the documentation: https://pandas.pydata.org/pandas-docs/stable/user_guide/indexing.html#returning-a-view-versus-a-copy\n",
      "  negative_data_skin['topic_confidence_comment'] = np.nan\n",
      "C:\\Users\\user\\AppData\\Local\\Temp\\ipykernel_1964\\3600316834.py:4: SettingWithCopyWarning: \n",
      "A value is trying to be set on a copy of a slice from a DataFrame.\n",
      "Try using .loc[row_indexer,col_indexer] = value instead\n",
      "\n",
      "See the caveats in the documentation: https://pandas.pydata.org/pandas-docs/stable/user_guide/indexing.html#returning-a-view-versus-a-copy\n",
      "  negative_data_skin['topic_label_comment'] = np.nan\n",
      "C:\\Users\\user\\AppData\\Local\\Temp\\ipykernel_1964\\3600316834.py:16: FutureWarning: Setting an item of incompatible dtype is deprecated and will raise an error in a future version of pandas. Value '['lip' 'hair' 'makeup' ... 'skin' 'face' 'face']' has dtype incompatible with float64, please explicitly cast to a compatible dtype first.\n",
      "  negative_data_skin.loc[mask, 'topic_label_comment'] = negative_data_skin.loc[mask, 'dominant_topic_comment'].map(topic_labels)\n"
     ]
    }
   ],
   "source": [
    "# Initialize columns with NaN\n",
    "negative_data_skin['dominant_topic_comment'] = np.nan\n",
    "negative_data_skin['topic_confidence_comment'] = np.nan\n",
    "negative_data_skin['topic_label_comment'] = np.nan\n",
    "\n",
    "# Mask for non-null rows\n",
    "mask = negative_data_skin['aspect'].notnull()\n",
    "\n",
    "# Compute only on rows that were vectorized\n",
    "dominant_topic = np.argmax(lda_topics_neg_skin, axis=1)\n",
    "topic_confidence = lda_topics_neg_skin.max(axis=1)\n",
    "\n",
    "# Assign back to the non-null rows\n",
    "negative_data_skin.loc[mask, 'dominant_topic_comment'] = dominant_topic\n",
    "negative_data_skin.loc[mask, 'topic_confidence_comment'] = topic_confidence\n",
    "negative_data_skin.loc[mask, 'topic_label_comment'] = negative_data_skin.loc[mask, 'dominant_topic_comment'].map(topic_labels)\n"
   ]
  },
  {
   "cell_type": "code",
   "execution_count": 90,
   "id": "dd2d201a",
   "metadata": {},
   "outputs": [],
   "source": [
    "topic_counts_neg_skin = negative_data_skin['topic_label_comment'].value_counts()"
   ]
  },
  {
   "cell_type": "code",
   "execution_count": 91,
   "id": "2f131139",
   "metadata": {},
   "outputs": [
    {
     "data": {
      "image/png": "[encoded data removed]",
      "text/plain": [
       "<Figure size 1000x600 with 1 Axes>"
      ]
     },
     "metadata": {},
     "output_type": "display_data"
    }
   ],
   "source": [
    "import matplotlib.pyplot as plt\n",
    "plt.figure(figsize=(10,6))\n",
    "topic_counts_neg_skin.plot(kind='bar', color='skyblue')\n",
    "plt.xlabel('Topic Label')\n",
    "plt.ylabel('Count')\n",
    "plt.title('Topic Count Distribution')\n",
    "plt.xticks(rotation=45)\n",
    "plt.tight_layout()\n",
    "plt.show()"
   ]
  },
  {
   "cell_type": "code",
   "execution_count": 92,
   "id": "251c713b",
   "metadata": {},
   "outputs": [
    {
     "name": "stdout",
     "output_type": "stream",
     "text": [
      "iteration: 1 of max_iter: 15\n",
      "iteration: 2 of max_iter: 15\n",
      "iteration: 3 of max_iter: 15\n",
      "iteration: 4 of max_iter: 15\n",
      "iteration: 5 of max_iter: 15\n",
      "iteration: 6 of max_iter: 15\n",
      "iteration: 7 of max_iter: 15\n",
      "iteration: 8 of max_iter: 15\n",
      "iteration: 9 of max_iter: 15\n",
      "iteration: 10 of max_iter: 15\n",
      "iteration: 11 of max_iter: 15\n",
      "iteration: 12 of max_iter: 15\n",
      "iteration: 13 of max_iter: 15\n",
      "iteration: 14 of max_iter: 15\n",
      "iteration: 15 of max_iter: 15\n",
      "Final LDA trained on full dataset!\n",
      "Log Likelihood: -300850.24174827366\n",
      "Perplexity: 648.7515749974162\n",
      "Shape of document-topic matrix: (44847, 5)\n"
     ]
    }
   ],
   "source": [
    "corpus_pos_skin = positive_data_skin['aspect'].dropna().astype(str).tolist()\n",
    "count_vectorizer = CountVectorizer(stop_words='english', lowercase=True)\n",
    "count_data_vectorized = count_vectorizer.fit_transform(corpus_pos_skin)\n",
    "final_lda = LatentDirichletAllocation(\n",
    "    n_components=5,\n",
    "    learning_decay=0.7,\n",
    "    random_state=42,\n",
    "    learning_method=\"online\",\n",
    "    batch_size=1024,\n",
    "    max_iter=15,\n",
    "    verbose=1\n",
    ")\n",
    "\n",
    "# Fit final model on full dataset ===\n",
    "lda_topics_pos_skin = final_lda.fit_transform(count_data_vectorized)\n",
    "\n",
    "# Evaluate the model ===\n",
    "log_likelihood = final_lda.score(count_data_vectorized)\n",
    "perplexity = final_lda.perplexity(count_data_vectorized)\n",
    "\n",
    "print(\"Final LDA trained on full dataset!\")\n",
    "print(f\"Log Likelihood: {log_likelihood}\")\n",
    "print(f\"Perplexity: {perplexity}\")\n",
    "\n",
    "print(\"Shape of document-topic matrix:\", lda_topics_pos_skin.shape)"
   ]
  },
  {
   "cell_type": "code",
   "execution_count": 93,
   "id": "ad5d3244",
   "metadata": {},
   "outputs": [
    {
     "name": "stdout",
     "output_type": "stream",
     "text": [
      "LDA Topics (with probabilities):\n",
      "\n",
      "Topic 1: [('song', np.float64(0.0345)), ('looking', np.float64(0.0311)), ('brad', np.float64(0.0221)), ('body', np.float64(0.0214)), ('content', np.float64(0.021)), ('vibe', np.float64(0.019)), ('freckle', np.float64(0.0172)), ('talent', np.float64(0.0155)), ('work', np.float64(0.0148)), ('music', np.float64(0.0146))]\n",
      "\n",
      "Topic 2: [('skin', np.float64(0.2306)), ('hair', np.float64(0.142)), ('beauty', np.float64(0.1376)), ('day', np.float64(0.0195)), ('foundation', np.float64(0.0191)), ('guy', np.float64(0.0176)), ('baby', np.float64(0.0146)), ('olivia', np.float64(0.0137)), ('make', np.float64(0.0136)), ('smell', np.float64(0.0127))]\n",
      "\n",
      "Topic 3: [('makeup', np.float64(0.3503)), ('look', np.float64(0.241)), ('selena', np.float64(0.0634)), ('voice', np.float64(0.0426)), ('god', np.float64(0.0302)), ('sharing', np.float64(0.0204)), ('colour', np.float64(0.0157)), ('eyeliner', np.float64(0.0082)), ('vogue', np.float64(0.008)), ('cover', np.float64(0.0062))]\n",
      "\n",
      "Topic 4: [('eye', np.float64(0.052)), ('color', np.float64(0.0426)), ('face', np.float64(0.033)), ('girl', np.float64(0.0284)), ('love', np.float64(0.0259)), ('style', np.float64(0.0216)), ('hailey', np.float64(0.0141)), ('message', np.float64(0.0134)), ('sound', np.float64(0.0126)), ('shade', np.float64(0.0123))]\n",
      "\n",
      "Topic 5: [('video', np.float64(0.124)), ('lip', np.float64(0.0396)), ('accent', np.float64(0.0357)), ('personality', np.float64(0.0259)), ('smile', np.float64(0.0211)), ('skincare', np.float64(0.0177)), ('wig', np.float64(0.0162)), ('tip', np.float64(0.0136)), ('transition', np.float64(0.0126)), ('trend', np.float64(0.0113))]\n"
     ]
    }
   ],
   "source": [
    "print(\"LDA Topics (with probabilities):\")\n",
    "lda_keywords = print_topics(final_lda, count_vectorizer, top_n=10, show_probs=True)\n"
   ]
  },
  {
   "cell_type": "code",
   "execution_count": 94,
   "id": "7c9f7c76",
   "metadata": {},
   "outputs": [
    {
     "name": "stdout",
     "output_type": "stream",
     "text": [
      "Topic Labels: {0: 'song', 1: 'skin', 2: 'makeup', 3: 'eye', 4: 'video'}\n"
     ]
    }
   ],
   "source": [
    "# Assume lda_model and count_vectorizer are already fitted\n",
    "feature_names = count_vectorizer.get_feature_names_out()\n",
    "\n",
    "topic_labels = {}\n",
    "for idx, topic in enumerate(final_lda.components_):\n",
    "    top_keyword_index = topic.argmax()  # index of the top word\n",
    "    top_keyword = feature_names[top_keyword_index]\n",
    "    topic_labels[idx] = top_keyword\n",
    "\n",
    "print(\"Topic Labels:\", topic_labels)"
   ]
  },
  {
   "cell_type": "code",
   "execution_count": 95,
   "id": "980a01f0",
   "metadata": {},
   "outputs": [
    {
     "name": "stderr",
     "output_type": "stream",
     "text": [
      "C:\\Users\\user\\AppData\\Local\\Temp\\ipykernel_1964\\2351053705.py:2: SettingWithCopyWarning: \n",
      "A value is trying to be set on a copy of a slice from a DataFrame.\n",
      "Try using .loc[row_indexer,col_indexer] = value instead\n",
      "\n",
      "See the caveats in the documentation: https://pandas.pydata.org/pandas-docs/stable/user_guide/indexing.html#returning-a-view-versus-a-copy\n",
      "  positive_data_skin['dominant_topic_comment'] = np.nan\n",
      "C:\\Users\\user\\AppData\\Local\\Temp\\ipykernel_1964\\2351053705.py:3: SettingWithCopyWarning: \n",
      "A value is trying to be set on a copy of a slice from a DataFrame.\n",
      "Try using .loc[row_indexer,col_indexer] = value instead\n",
      "\n",
      "See the caveats in the documentation: https://pandas.pydata.org/pandas-docs/stable/user_guide/indexing.html#returning-a-view-versus-a-copy\n",
      "  positive_data_skin['topic_confidence_comment'] = np.nan\n",
      "C:\\Users\\user\\AppData\\Local\\Temp\\ipykernel_1964\\2351053705.py:4: SettingWithCopyWarning: \n",
      "A value is trying to be set on a copy of a slice from a DataFrame.\n",
      "Try using .loc[row_indexer,col_indexer] = value instead\n",
      "\n",
      "See the caveats in the documentation: https://pandas.pydata.org/pandas-docs/stable/user_guide/indexing.html#returning-a-view-versus-a-copy\n",
      "  positive_data_skin['topic_label_comment'] = np.nan\n",
      "C:\\Users\\user\\AppData\\Local\\Temp\\ipykernel_1964\\2351053705.py:16: FutureWarning: Setting an item of incompatible dtype is deprecated and will raise an error in a future version of pandas. Value '['skin' 'skin' 'eye' ... 'song' 'skin' 'song']' has dtype incompatible with float64, please explicitly cast to a compatible dtype first.\n",
      "  positive_data_skin.loc[mask, 'topic_label_comment'] = positive_data_skin.loc[mask, 'dominant_topic_comment'].map(topic_labels)\n"
     ]
    }
   ],
   "source": [
    "# Initialize columns with NaN\n",
    "positive_data_skin['dominant_topic_comment'] = np.nan\n",
    "positive_data_skin['topic_confidence_comment'] = np.nan\n",
    "positive_data_skin['topic_label_comment'] = np.nan\n",
    "\n",
    "# Mask for non-null rows\n",
    "mask = positive_data_skin['aspect'].notnull()\n",
    "\n",
    "# Compute only on rows that were vectorized\n",
    "dominant_topic = np.argmax(lda_topics_pos_skin, axis=1)\n",
    "topic_confidence = lda_topics_pos_skin.max(axis=1)\n",
    "\n",
    "# Assign back to the non-null rows\n",
    "positive_data_skin.loc[mask, 'dominant_topic_comment'] = dominant_topic\n",
    "positive_data_skin.loc[mask, 'topic_confidence_comment'] = topic_confidence\n",
    "positive_data_skin.loc[mask, 'topic_label_comment'] = positive_data_skin.loc[mask, 'dominant_topic_comment'].map(topic_labels)\n"
   ]
  },
  {
   "cell_type": "code",
   "execution_count": 96,
   "id": "9fde82d0",
   "metadata": {},
   "outputs": [],
   "source": [
    "topic_counts_pos_skin = positive_data_skin['topic_label_comment'].value_counts()"
   ]
  },
  {
   "cell_type": "code",
   "execution_count": 97,
   "id": "2397989a",
   "metadata": {},
   "outputs": [
    {
     "data": {
      "image/png": "[encoded data removed]",
      "text/plain": [
       "<Figure size 1000x600 with 1 Axes>"
      ]
     },
     "metadata": {},
     "output_type": "display_data"
    }
   ],
   "source": [
    "import matplotlib.pyplot as plt\n",
    "plt.figure(figsize=(10,6))\n",
    "topic_counts_pos_skin.plot(kind='bar', color='skyblue')\n",
    "plt.xlabel('Topic Label')\n",
    "plt.ylabel('Count')\n",
    "plt.title('Topic Count Distribution')\n",
    "plt.xticks(rotation=45)\n",
    "plt.tight_layout()\n",
    "plt.show()"
   ]
  },
  {
   "cell_type": "markdown",
   "id": "4cbc0fa7",
   "metadata": {},
   "source": [
    "### Repeat the same process for perfume category\n",
    "The same topic modeling and analysis steps are applied to the makeup aspect comments. Both negative and positive comments related to makeup are analyzed using the same workflow, enabling a detailed comparison of topics and sentiments within this product category."
   ]
  },
  {
   "cell_type": "code",
   "execution_count": 100,
   "id": "359c3c46",
   "metadata": {},
   "outputs": [
    {
     "name": "stdout",
     "output_type": "stream",
     "text": [
      "iteration: 1 of max_iter: 15\n",
      "iteration: 2 of max_iter: 15\n",
      "iteration: 3 of max_iter: 15\n",
      "iteration: 4 of max_iter: 15\n",
      "iteration: 5 of max_iter: 15\n",
      "iteration: 6 of max_iter: 15\n",
      "iteration: 7 of max_iter: 15\n",
      "iteration: 8 of max_iter: 15\n",
      "iteration: 9 of max_iter: 15\n",
      "iteration: 10 of max_iter: 15\n",
      "iteration: 11 of max_iter: 15\n",
      "iteration: 12 of max_iter: 15\n",
      "iteration: 13 of max_iter: 15\n",
      "iteration: 14 of max_iter: 15\n",
      "iteration: 15 of max_iter: 15\n",
      "Final LDA trained on full dataset!\n",
      "Log Likelihood: -159947.94270539924\n",
      "Perplexity: 730.6160346831022\n",
      "Shape of document-topic matrix: (23130, 5)\n"
     ]
    }
   ],
   "source": [
    "corpus_neg_perfume = negative_data_perfume['aspect'].dropna().astype(str).tolist()\n",
    "count_vectorizer = CountVectorizer(stop_words='english', lowercase=True)\n",
    "count_data_vectorized = count_vectorizer.fit_transform(corpus_neg_perfume)\n",
    "final_lda = LatentDirichletAllocation(\n",
    "    n_components=5,\n",
    "    learning_decay=0.7,\n",
    "    random_state=42,\n",
    "    learning_method=\"online\",\n",
    "    batch_size=1024,\n",
    "    max_iter=15,\n",
    "    verbose=1\n",
    ")\n",
    "\n",
    "# Fit final model on full dataset ===\n",
    "lda_topics_neg_perfume = final_lda.fit_transform(count_data_vectorized)\n",
    "\n",
    "# Evaluate the model ===\n",
    "log_likelihood = final_lda.score(count_data_vectorized)\n",
    "perplexity = final_lda.perplexity(count_data_vectorized)\n",
    "\n",
    "print(\"Final LDA trained on full dataset!\")\n",
    "print(f\"Log Likelihood: {log_likelihood}\")\n",
    "print(f\"Perplexity: {perplexity}\")\n",
    "\n",
    "print(\"Shape of document-topic matrix:\", lda_topics_neg_perfume.shape)"
   ]
  },
  {
   "cell_type": "code",
   "execution_count": 101,
   "id": "d7059206",
   "metadata": {},
   "outputs": [
    {
     "name": "stdout",
     "output_type": "stream",
     "text": [
      "LDA Topics (with probabilities):\n",
      "\n",
      "Topic 1: [('makeup', np.float64(0.2534)), ('lip', np.float64(0.0731)), ('eye', np.float64(0.04)), ('sun', np.float64(0.0286)), ('nose', np.float64(0.0229)), ('sunscreen', np.float64(0.0218)), ('woman', np.float64(0.0187)), ('lady', np.float64(0.0127)), ('weight', np.float64(0.0125)), ('picture', np.float64(0.0097))]\n",
      "\n",
      "Topic 2: [('hair', np.float64(0.2946)), ('eyebrow', np.float64(0.0969)), ('face', np.float64(0.0465)), ('video', np.float64(0.0373)), ('lash', np.float64(0.0133)), ('waiting', np.float64(0.0117)), ('acne', np.float64(0.0115)), ('food', np.float64(0.0109)), ('towel', np.float64(0.0104)), ('mime', np.float64(0.0094))]\n",
      "\n",
      "Topic 3: [('filter', np.float64(0.1498)), ('color', np.float64(0.0437)), ('trust', np.float64(0.0345)), ('guy', np.float64(0.031)), ('girl', np.float64(0.0183)), ('fit', np.float64(0.017)), ('curl', np.float64(0.0138)), ('advertising', np.float64(0.0106)), ('leg', np.float64(0.0102)), ('skinny', np.float64(0.0094))]\n",
      "\n",
      "Topic 4: [('skin', np.float64(0.1245)), ('foundation', np.float64(0.071)), ('jean', np.float64(0.037)), ('style', np.float64(0.0283)), ('fiona', np.float64(0.0235)), ('wig', np.float64(0.0221)), ('colour', np.float64(0.0215)), ('price', np.float64(0.0203)), ('product', np.float64(0.0116)), ('tutorial', np.float64(0.0109))]\n",
      "\n",
      "Topic 5: [('tape', np.float64(0.1169)), ('beauty', np.float64(0.065)), ('look', np.float64(0.0361)), ('lipstick', np.float64(0.0258)), ('paint', np.float64(0.0203)), ('sound', np.float64(0.0152)), ('neck', np.float64(0.0144)), ('eyelash', np.float64(0.0144)), ('eyeliner', np.float64(0.0128)), ('ear', np.float64(0.0123))]\n"
     ]
    }
   ],
   "source": [
    "print(\"LDA Topics (with probabilities):\")\n",
    "lda_keywords = print_topics(final_lda, count_vectorizer, top_n=10, show_probs=True)\n"
   ]
  },
  {
   "cell_type": "code",
   "execution_count": 102,
   "id": "84d2f944",
   "metadata": {},
   "outputs": [
    {
     "name": "stdout",
     "output_type": "stream",
     "text": [
      "Topic Labels: {0: 'makeup', 1: 'hair', 2: 'filter', 3: 'skin', 4: 'tape'}\n"
     ]
    }
   ],
   "source": [
    "# Assume lda_model and count_vectorizer are already fitted\n",
    "feature_names = count_vectorizer.get_feature_names_out()\n",
    "\n",
    "topic_labels = {}\n",
    "for idx, topic in enumerate(final_lda.components_):\n",
    "    top_keyword_index = topic.argmax()  # index of the top word\n",
    "    top_keyword = feature_names[top_keyword_index]\n",
    "    topic_labels[idx] = top_keyword\n",
    "\n",
    "print(\"Topic Labels:\", topic_labels)"
   ]
  },
  {
   "cell_type": "code",
   "execution_count": 103,
   "id": "5ccb6fa7",
   "metadata": {},
   "outputs": [
    {
     "name": "stderr",
     "output_type": "stream",
     "text": [
      "C:\\Users\\user\\AppData\\Local\\Temp\\ipykernel_1964\\3285952989.py:2: SettingWithCopyWarning: \n",
      "A value is trying to be set on a copy of a slice from a DataFrame.\n",
      "Try using .loc[row_indexer,col_indexer] = value instead\n",
      "\n",
      "See the caveats in the documentation: https://pandas.pydata.org/pandas-docs/stable/user_guide/indexing.html#returning-a-view-versus-a-copy\n",
      "  negative_data_perfume['dominant_topic_comment'] = np.nan\n",
      "C:\\Users\\user\\AppData\\Local\\Temp\\ipykernel_1964\\3285952989.py:3: SettingWithCopyWarning: \n",
      "A value is trying to be set on a copy of a slice from a DataFrame.\n",
      "Try using .loc[row_indexer,col_indexer] = value instead\n",
      "\n",
      "See the caveats in the documentation: https://pandas.pydata.org/pandas-docs/stable/user_guide/indexing.html#returning-a-view-versus-a-copy\n",
      "  negative_data_perfume['topic_confidence_comment'] = np.nan\n",
      "C:\\Users\\user\\AppData\\Local\\Temp\\ipykernel_1964\\3285952989.py:4: SettingWithCopyWarning: \n",
      "A value is trying to be set on a copy of a slice from a DataFrame.\n",
      "Try using .loc[row_indexer,col_indexer] = value instead\n",
      "\n",
      "See the caveats in the documentation: https://pandas.pydata.org/pandas-docs/stable/user_guide/indexing.html#returning-a-view-versus-a-copy\n",
      "  negative_data_perfume['topic_label_comment'] = np.nan\n",
      "C:\\Users\\user\\AppData\\Local\\Temp\\ipykernel_1964\\3285952989.py:16: FutureWarning: Setting an item of incompatible dtype is deprecated and will raise an error in a future version of pandas. Value '['tape' 'tape' 'filter' ... 'filter' 'skin' 'skin']' has dtype incompatible with float64, please explicitly cast to a compatible dtype first.\n",
      "  negative_data_perfume.loc[mask, 'topic_label_comment'] = negative_data_perfume.loc[mask, 'dominant_topic_comment'].map(topic_labels)\n"
     ]
    }
   ],
   "source": [
    "# Initialize columns with NaN\n",
    "negative_data_perfume['dominant_topic_comment'] = np.nan\n",
    "negative_data_perfume['topic_confidence_comment'] = np.nan\n",
    "negative_data_perfume['topic_label_comment'] = np.nan\n",
    "\n",
    "# Mask for non-null rows\n",
    "mask = negative_data_perfume['aspect'].notnull()\n",
    "\n",
    "# Compute only on rows that were vectorized\n",
    "dominant_topic = np.argmax(lda_topics_neg_perfume, axis=1)\n",
    "topic_confidence = lda_topics_neg_perfume.max(axis=1)\n",
    "\n",
    "# Assign back to the non-null rows\n",
    "negative_data_perfume.loc[mask, 'dominant_topic_comment'] = dominant_topic\n",
    "negative_data_perfume.loc[mask, 'topic_confidence_comment'] = topic_confidence\n",
    "negative_data_perfume.loc[mask, 'topic_label_comment'] = negative_data_perfume.loc[mask, 'dominant_topic_comment'].map(topic_labels)\n"
   ]
  },
  {
   "cell_type": "code",
   "execution_count": 104,
   "id": "4ec9d01e",
   "metadata": {},
   "outputs": [],
   "source": [
    "topic_counts_neg_perfume = negative_data_perfume['topic_label_comment'].value_counts()"
   ]
  },
  {
   "cell_type": "code",
   "execution_count": 105,
   "id": "f120f0d0",
   "metadata": {},
   "outputs": [
    {
     "data": {
      "image/png": "[encoded data removed]",
      "text/plain": [
       "<Figure size 1000x600 with 1 Axes>"
      ]
     },
     "metadata": {},
     "output_type": "display_data"
    }
   ],
   "source": [
    "import matplotlib.pyplot as plt\n",
    "plt.figure(figsize=(10,6))\n",
    "topic_counts_neg_perfume.plot(kind='bar', color='skyblue')\n",
    "plt.xlabel('Topic Label')\n",
    "plt.ylabel('Count')\n",
    "plt.title('Topic Count Distribution')\n",
    "plt.xticks(rotation=45)\n",
    "plt.tight_layout()\n",
    "plt.show()"
   ]
  },
  {
   "cell_type": "code",
   "execution_count": 106,
   "id": "42c9782d",
   "metadata": {},
   "outputs": [
    {
     "name": "stdout",
     "output_type": "stream",
     "text": [
      "iteration: 1 of max_iter: 15\n",
      "iteration: 2 of max_iter: 15\n",
      "iteration: 3 of max_iter: 15\n",
      "iteration: 4 of max_iter: 15\n",
      "iteration: 5 of max_iter: 15\n",
      "iteration: 6 of max_iter: 15\n",
      "iteration: 7 of max_iter: 15\n",
      "iteration: 8 of max_iter: 15\n",
      "iteration: 9 of max_iter: 15\n",
      "iteration: 10 of max_iter: 15\n",
      "iteration: 11 of max_iter: 15\n",
      "iteration: 12 of max_iter: 15\n",
      "iteration: 13 of max_iter: 15\n",
      "iteration: 14 of max_iter: 15\n",
      "iteration: 15 of max_iter: 15\n",
      "Final LDA trained on full dataset!\n",
      "Log Likelihood: -155104.48463584017\n",
      "Perplexity: 682.1299759594115\n",
      "Shape of document-topic matrix: (23275, 5)\n"
     ]
    }
   ],
   "source": [
    "corpus_pos_perfume = positive_data_perfume['aspect'].dropna().astype(str).tolist()\n",
    "count_vectorizer = CountVectorizer(stop_words='english', lowercase=True)\n",
    "count_data_vectorized = count_vectorizer.fit_transform(corpus_pos_perfume)\n",
    "final_lda = LatentDirichletAllocation(\n",
    "    n_components=5,\n",
    "    learning_decay=0.7,\n",
    "    random_state=42,\n",
    "    learning_method=\"online\",\n",
    "    batch_size=1024,\n",
    "    max_iter=15,\n",
    "    verbose=1\n",
    ")\n",
    "\n",
    "# Fit final model on full dataset ===\n",
    "lda_topics_pos_perfume = final_lda.fit_transform(count_data_vectorized)\n",
    "\n",
    "# Evaluate the model ===\n",
    "log_likelihood = final_lda.score(count_data_vectorized)\n",
    "perplexity = final_lda.perplexity(count_data_vectorized)\n",
    "\n",
    "print(\"Final LDA trained on full dataset!\")\n",
    "print(f\"Log Likelihood: {log_likelihood}\")\n",
    "print(f\"Perplexity: {perplexity}\")\n",
    "\n",
    "print(\"Shape of document-topic matrix:\", lda_topics_pos_perfume.shape)"
   ]
  },
  {
   "cell_type": "code",
   "execution_count": 107,
   "id": "8b3b0c73",
   "metadata": {},
   "outputs": [
    {
     "name": "stdout",
     "output_type": "stream",
     "text": [
      "LDA Topics (with probabilities):\n",
      "\n",
      "Topic 1: [('makeup', np.float64(0.2804)), ('thai', np.float64(0.0245)), ('feature', np.float64(0.0193)), ('perfume', np.float64(0.0117)), ('smell', np.float64(0.0115)), ('edit', np.float64(0.0109)), ('acting', np.float64(0.0086)), ('beetlejuice', np.float64(0.008)), ('morena', np.float64(0.0074)), ('mashallah', np.float64(0.007))]\n",
      "\n",
      "Topic 2: [('look', np.float64(0.2844)), ('hair', np.float64(0.1638)), ('video', np.float64(0.0824)), ('filter', np.float64(0.0429)), ('transition', np.float64(0.0292)), ('tape', np.float64(0.0227)), ('god', np.float64(0.0173)), ('jean', np.float64(0.0138)), ('foundation', np.float64(0.0136)), ('body', np.float64(0.0103))]\n",
      "\n",
      "Topic 3: [('fiona', np.float64(0.0816)), ('eyebrow', np.float64(0.0527)), ('eye', np.float64(0.0466)), ('style', np.float64(0.0452)), ('looking', np.float64(0.0285)), ('vibe', np.float64(0.0224)), ('girl', np.float64(0.0219)), ('wig', np.float64(0.0207)), ('sharing', np.float64(0.0198)), ('baby', np.float64(0.0196))]\n",
      "\n",
      "Topic 4: [('editing', np.float64(0.0272)), ('guy', np.float64(0.0254)), ('voice', np.float64(0.0227)), ('tip', np.float64(0.0225)), ('lash', np.float64(0.0139)), ('rapunzel', np.float64(0.0135)), ('personality', np.float64(0.0127)), ('kirby', np.float64(0.0113)), ('person', np.float64(0.0113)), ('woman', np.float64(0.0096))]\n",
      "\n",
      "Topic 5: [('skin', np.float64(0.1723)), ('beauty', np.float64(0.0874)), ('color', np.float64(0.0461)), ('lip', np.float64(0.044)), ('eyelash', np.float64(0.0329)), ('face', np.float64(0.0312)), ('red', np.float64(0.0244)), ('fit', np.float64(0.0208)), ('lipstick', np.float64(0.0155)), ('lady', np.float64(0.0134))]\n"
     ]
    }
   ],
   "source": [
    "print(\"LDA Topics (with probabilities):\")\n",
    "lda_keywords = print_topics(final_lda, count_vectorizer, top_n=10, show_probs=True)\n"
   ]
  },
  {
   "cell_type": "code",
   "execution_count": 108,
   "id": "6f4fbc99",
   "metadata": {},
   "outputs": [
    {
     "name": "stdout",
     "output_type": "stream",
     "text": [
      "Topic Labels: {0: 'makeup', 1: 'look', 2: 'fiona', 3: 'editing', 4: 'skin'}\n"
     ]
    }
   ],
   "source": [
    "# Assume lda_model and count_vectorizer are already fitted\n",
    "feature_names = count_vectorizer.get_feature_names_out()\n",
    "\n",
    "topic_labels = {}\n",
    "for idx, topic in enumerate(final_lda.components_):\n",
    "    top_keyword_index = topic.argmax()  # index of the top word\n",
    "    top_keyword = feature_names[top_keyword_index]\n",
    "    topic_labels[idx] = top_keyword\n",
    "\n",
    "print(\"Topic Labels:\", topic_labels)"
   ]
  },
  {
   "cell_type": "code",
   "execution_count": 109,
   "id": "3a2d74fe",
   "metadata": {},
   "outputs": [
    {
     "name": "stderr",
     "output_type": "stream",
     "text": [
      "C:\\Users\\user\\AppData\\Local\\Temp\\ipykernel_1964\\2508226352.py:2: SettingWithCopyWarning: \n",
      "A value is trying to be set on a copy of a slice from a DataFrame.\n",
      "Try using .loc[row_indexer,col_indexer] = value instead\n",
      "\n",
      "See the caveats in the documentation: https://pandas.pydata.org/pandas-docs/stable/user_guide/indexing.html#returning-a-view-versus-a-copy\n",
      "  positive_data_perfume['dominant_topic_comment'] = np.nan\n",
      "C:\\Users\\user\\AppData\\Local\\Temp\\ipykernel_1964\\2508226352.py:3: SettingWithCopyWarning: \n",
      "A value is trying to be set on a copy of a slice from a DataFrame.\n",
      "Try using .loc[row_indexer,col_indexer] = value instead\n",
      "\n",
      "See the caveats in the documentation: https://pandas.pydata.org/pandas-docs/stable/user_guide/indexing.html#returning-a-view-versus-a-copy\n",
      "  positive_data_perfume['topic_confidence_comment'] = np.nan\n",
      "C:\\Users\\user\\AppData\\Local\\Temp\\ipykernel_1964\\2508226352.py:4: SettingWithCopyWarning: \n",
      "A value is trying to be set on a copy of a slice from a DataFrame.\n",
      "Try using .loc[row_indexer,col_indexer] = value instead\n",
      "\n",
      "See the caveats in the documentation: https://pandas.pydata.org/pandas-docs/stable/user_guide/indexing.html#returning-a-view-versus-a-copy\n",
      "  positive_data_perfume['topic_label_comment'] = np.nan\n",
      "C:\\Users\\user\\AppData\\Local\\Temp\\ipykernel_1964\\2508226352.py:16: FutureWarning: Setting an item of incompatible dtype is deprecated and will raise an error in a future version of pandas. Value '['fiona' 'skin' 'look' ... 'skin' 'look' 'fiona']' has dtype incompatible with float64, please explicitly cast to a compatible dtype first.\n",
      "  positive_data_perfume.loc[mask, 'topic_label_comment'] = positive_data_perfume.loc[mask, 'dominant_topic_comment'].map(topic_labels)\n"
     ]
    }
   ],
   "source": [
    "# Initialize columns with NaN\n",
    "positive_data_perfume['dominant_topic_comment'] = np.nan\n",
    "positive_data_perfume['topic_confidence_comment'] = np.nan\n",
    "positive_data_perfume['topic_label_comment'] = np.nan\n",
    "\n",
    "# Mask for non-null rows\n",
    "mask = positive_data_perfume['aspect'].notnull()\n",
    "\n",
    "# Compute only on rows that were vectorized\n",
    "dominant_topic = np.argmax(lda_topics_pos_perfume, axis=1)\n",
    "topic_confidence = lda_topics_pos_perfume.max(axis=1)\n",
    "\n",
    "# Assign back to the non-null rows\n",
    "positive_data_perfume.loc[mask, 'dominant_topic_comment'] = dominant_topic\n",
    "positive_data_perfume.loc[mask, 'topic_confidence_comment'] = topic_confidence\n",
    "positive_data_perfume.loc[mask, 'topic_label_comment'] = positive_data_perfume.loc[mask, 'dominant_topic_comment'].map(topic_labels)\n"
   ]
  },
  {
   "cell_type": "code",
   "execution_count": 112,
   "id": "56142435",
   "metadata": {},
   "outputs": [],
   "source": [
    "topic_counts_pos_perfume = positive_data_perfume['topic_label_comment'].value_counts()"
   ]
  },
  {
   "cell_type": "code",
   "execution_count": 113,
   "id": "616eca13",
   "metadata": {},
   "outputs": [
    {
     "data": {
      "image/png": "[encoded data removed]",
      "text/plain": [
       "<Figure size 1000x600 with 1 Axes>"
      ]
     },
     "metadata": {},
     "output_type": "display_data"
    }
   ],
   "source": [
    "import matplotlib.pyplot as plt\n",
    "plt.figure(figsize=(10,6))\n",
    "topic_counts_pos_perfume.plot(kind='bar', color='skyblue')\n",
    "plt.xlabel('Topic Label')\n",
    "plt.ylabel('Count')\n",
    "plt.title('Topic Count Distribution')\n",
    "plt.xticks(rotation=45)\n",
    "plt.tight_layout()\n",
    "plt.show()"
   ]
  },
  {
   "cell_type": "markdown",
   "id": "09d2982e",
   "metadata": {},
   "source": [
    "### Repeat the same process for body category\n",
    "The same topic modeling and analysis steps are applied to the makeup aspect comments. Both negative and positive comments related to makeup are analyzed using the same workflow, enabling a detailed comparison of topics and sentiments within this product category."
   ]
  },
  {
   "cell_type": "code",
   "execution_count": 116,
   "id": "fd36eff8",
   "metadata": {},
   "outputs": [
    {
     "name": "stdout",
     "output_type": "stream",
     "text": [
      "iteration: 1 of max_iter: 15\n",
      "iteration: 2 of max_iter: 15\n",
      "iteration: 3 of max_iter: 15\n",
      "iteration: 4 of max_iter: 15\n",
      "iteration: 5 of max_iter: 15\n",
      "iteration: 6 of max_iter: 15\n",
      "iteration: 7 of max_iter: 15\n",
      "iteration: 8 of max_iter: 15\n",
      "iteration: 9 of max_iter: 15\n",
      "iteration: 10 of max_iter: 15\n",
      "iteration: 11 of max_iter: 15\n",
      "iteration: 12 of max_iter: 15\n",
      "iteration: 13 of max_iter: 15\n",
      "iteration: 14 of max_iter: 15\n",
      "iteration: 15 of max_iter: 15\n",
      "Final LDA trained on full dataset!\n",
      "Log Likelihood: -114209.51910880089\n",
      "Perplexity: 913.4765923720139\n",
      "Shape of document-topic matrix: (16076, 5)\n"
     ]
    }
   ],
   "source": [
    "corpus_neg_body = negative_data_body['aspect'].dropna().astype(str).tolist()\n",
    "count_vectorizer = CountVectorizer(stop_words='english', lowercase=True)\n",
    "count_data_vectorized = count_vectorizer.fit_transform(corpus_neg_body)\n",
    "final_lda = LatentDirichletAllocation(\n",
    "    n_components=5,\n",
    "    learning_decay=0.7,\n",
    "    random_state=42,\n",
    "    learning_method=\"online\",\n",
    "    batch_size=1024,\n",
    "    max_iter=15,\n",
    "    verbose=1\n",
    ")\n",
    "\n",
    "# Fit final model on full dataset ===\n",
    "lda_topics_neg_body = final_lda.fit_transform(count_data_vectorized)\n",
    "\n",
    "# Evaluate the model ===\n",
    "log_likelihood = final_lda.score(count_data_vectorized)\n",
    "perplexity = final_lda.perplexity(count_data_vectorized)\n",
    "\n",
    "print(\"Final LDA trained on full dataset!\")\n",
    "print(f\"Log Likelihood: {log_likelihood}\")\n",
    "print(f\"Perplexity: {perplexity}\")\n",
    "\n",
    "print(\"Shape of document-topic matrix:\", lda_topics_neg_body.shape)"
   ]
  },
  {
   "cell_type": "code",
   "execution_count": 117,
   "id": "75db9409",
   "metadata": {},
   "outputs": [
    {
     "name": "stdout",
     "output_type": "stream",
     "text": [
      "LDA Topics (with probabilities):\n",
      "\n",
      "Topic 1: [('eyelash', np.float64(0.0324)), ('animal', np.float64(0.0317)), ('tan', np.float64(0.0222)), ('lash', np.float64(0.0221)), ('sound', np.float64(0.0215)), ('clothes', np.float64(0.0175)), ('style', np.float64(0.0153)), ('boy', np.float64(0.0118)), ('cream', np.float64(0.0108)), ('shade', np.float64(0.0099))]\n",
      "\n",
      "Topic 2: [('foundation', np.float64(0.0683)), ('voice', np.float64(0.0668)), ('woman', np.float64(0.0427)), ('look', np.float64(0.0298)), ('baby', np.float64(0.0295)), ('wig', np.float64(0.0289)), ('girl', np.float64(0.0248)), ('product', np.float64(0.0247)), ('eyebrow', np.float64(0.0242)), ('man', np.float64(0.024))]\n",
      "\n",
      "Topic 3: [('color', np.float64(0.0736)), ('skin', np.float64(0.0651)), ('guy', np.float64(0.0511)), ('colour', np.float64(0.0393)), ('video', np.float64(0.0363)), ('green', np.float64(0.0362)), ('soap', np.float64(0.0296)), ('shirt', np.float64(0.0188)), ('accent', np.float64(0.0174)), ('lady', np.float64(0.0099))]\n",
      "\n",
      "Topic 4: [('makeup', np.float64(0.4157)), ('eye', np.float64(0.0273)), ('face', np.float64(0.023)), ('fragrance', np.float64(0.0221)), ('cost', np.float64(0.0178)), ('trans', np.float64(0.0155)), ('dress', np.float64(0.0146)), ('hand', np.float64(0.0144)), ('skincare', np.float64(0.012)), ('white', np.float64(0.0115))]\n",
      "\n",
      "Topic 5: [('hair', np.float64(0.1586)), ('lip', np.float64(0.0511)), ('nail', np.float64(0.0309)), ('vaseline', np.float64(0.0279)), ('god', np.float64(0.025)), ('sunscreen', np.float64(0.0174)), ('eyeliner', np.float64(0.0154)), ('dude', np.float64(0.0141)), ('tip', np.float64(0.014)), ('beard', np.float64(0.0117))]\n"
     ]
    }
   ],
   "source": [
    "print(\"LDA Topics (with probabilities):\")\n",
    "lda_keywords = print_topics(final_lda, count_vectorizer, top_n=10, show_probs=True)\n"
   ]
  },
  {
   "cell_type": "code",
   "execution_count": 118,
   "id": "4670bfcb",
   "metadata": {},
   "outputs": [
    {
     "name": "stdout",
     "output_type": "stream",
     "text": [
      "Topic Labels: {0: 'eyelash', 1: 'foundation', 2: 'color', 3: 'makeup', 4: 'hair'}\n"
     ]
    }
   ],
   "source": [
    "# Assume lda_model and count_vectorizer are already fitted\n",
    "feature_names = count_vectorizer.get_feature_names_out()\n",
    "\n",
    "topic_labels = {}\n",
    "for idx, topic in enumerate(final_lda.components_):\n",
    "    top_keyword_index = topic.argmax()  # index of the top word\n",
    "    top_keyword = feature_names[top_keyword_index]\n",
    "    topic_labels[idx] = top_keyword\n",
    "\n",
    "print(\"Topic Labels:\", topic_labels)"
   ]
  },
  {
   "cell_type": "code",
   "execution_count": 119,
   "id": "9ff76bde",
   "metadata": {},
   "outputs": [
    {
     "name": "stderr",
     "output_type": "stream",
     "text": [
      "C:\\Users\\user\\AppData\\Local\\Temp\\ipykernel_1964\\1327275353.py:2: SettingWithCopyWarning: \n",
      "A value is trying to be set on a copy of a slice from a DataFrame.\n",
      "Try using .loc[row_indexer,col_indexer] = value instead\n",
      "\n",
      "See the caveats in the documentation: https://pandas.pydata.org/pandas-docs/stable/user_guide/indexing.html#returning-a-view-versus-a-copy\n",
      "  negative_data_body['dominant_topic_comment'] = np.nan\n",
      "C:\\Users\\user\\AppData\\Local\\Temp\\ipykernel_1964\\1327275353.py:3: SettingWithCopyWarning: \n",
      "A value is trying to be set on a copy of a slice from a DataFrame.\n",
      "Try using .loc[row_indexer,col_indexer] = value instead\n",
      "\n",
      "See the caveats in the documentation: https://pandas.pydata.org/pandas-docs/stable/user_guide/indexing.html#returning-a-view-versus-a-copy\n",
      "  negative_data_body['topic_confidence_comment'] = np.nan\n",
      "C:\\Users\\user\\AppData\\Local\\Temp\\ipykernel_1964\\1327275353.py:4: SettingWithCopyWarning: \n",
      "A value is trying to be set on a copy of a slice from a DataFrame.\n",
      "Try using .loc[row_indexer,col_indexer] = value instead\n",
      "\n",
      "See the caveats in the documentation: https://pandas.pydata.org/pandas-docs/stable/user_guide/indexing.html#returning-a-view-versus-a-copy\n",
      "  negative_data_body['topic_label_comment'] = np.nan\n",
      "C:\\Users\\user\\AppData\\Local\\Temp\\ipykernel_1964\\1327275353.py:16: FutureWarning: Setting an item of incompatible dtype is deprecated and will raise an error in a future version of pandas. Value '['color' 'makeup' 'color' ... 'color' 'color' 'foundation']' has dtype incompatible with float64, please explicitly cast to a compatible dtype first.\n",
      "  negative_data_body.loc[mask, 'topic_label_comment'] = negative_data_body.loc[mask, 'dominant_topic_comment'].map(topic_labels)\n"
     ]
    }
   ],
   "source": [
    "# Initialize columns with NaN\n",
    "negative_data_body['dominant_topic_comment'] = np.nan\n",
    "negative_data_body['topic_confidence_comment'] = np.nan\n",
    "negative_data_body['topic_label_comment'] = np.nan\n",
    "\n",
    "# Mask for non-null rows\n",
    "mask = negative_data_body['aspect'].notnull()\n",
    "\n",
    "# Compute only on rows that were vectorized\n",
    "dominant_topic = np.argmax(lda_topics_neg_body, axis=1)\n",
    "topic_confidence = lda_topics_neg_body.max(axis=1)\n",
    "\n",
    "# Assign back to the non-null rows\n",
    "negative_data_body.loc[mask, 'dominant_topic_comment'] = dominant_topic\n",
    "negative_data_body.loc[mask, 'topic_confidence_comment'] = topic_confidence\n",
    "negative_data_body.loc[mask, 'topic_label_comment'] = negative_data_body.loc[mask, 'dominant_topic_comment'].map(topic_labels)\n"
   ]
  },
  {
   "cell_type": "code",
   "execution_count": 120,
   "id": "9b44d64c",
   "metadata": {},
   "outputs": [],
   "source": [
    "topic_counts_neg_body = negative_data_body['topic_label_comment'].value_counts()"
   ]
  },
  {
   "cell_type": "code",
   "execution_count": 121,
   "id": "ea9ae816",
   "metadata": {},
   "outputs": [
    {
     "data": {
      "image/png": "[encoded data removed]",
      "text/plain": [
       "<Figure size 1000x600 with 1 Axes>"
      ]
     },
     "metadata": {},
     "output_type": "display_data"
    }
   ],
   "source": [
    "import matplotlib.pyplot as plt\n",
    "plt.figure(figsize=(10,6))\n",
    "topic_counts_neg_body.plot(kind='bar', color='skyblue')\n",
    "plt.xlabel('Topic Label')\n",
    "plt.ylabel('Count')\n",
    "plt.title('Topic Count Distribution')\n",
    "plt.xticks(rotation=45)\n",
    "plt.tight_layout()\n",
    "plt.show()"
   ]
  },
  {
   "cell_type": "code",
   "execution_count": 122,
   "id": "eef76c69",
   "metadata": {},
   "outputs": [
    {
     "name": "stdout",
     "output_type": "stream",
     "text": [
      "iteration: 1 of max_iter: 15\n",
      "iteration: 2 of max_iter: 15\n",
      "iteration: 3 of max_iter: 15\n",
      "iteration: 4 of max_iter: 15\n",
      "iteration: 5 of max_iter: 15\n",
      "iteration: 6 of max_iter: 15\n",
      "iteration: 7 of max_iter: 15\n",
      "iteration: 8 of max_iter: 15\n",
      "iteration: 9 of max_iter: 15\n",
      "iteration: 10 of max_iter: 15\n",
      "iteration: 11 of max_iter: 15\n",
      "iteration: 12 of max_iter: 15\n",
      "iteration: 13 of max_iter: 15\n",
      "iteration: 14 of max_iter: 15\n",
      "iteration: 15 of max_iter: 15\n",
      "Final LDA trained on full dataset!\n",
      "Log Likelihood: -138523.6693301262\n",
      "Perplexity: 528.6407720649692\n",
      "Shape of document-topic matrix: (21428, 5)\n"
     ]
    }
   ],
   "source": [
    "corpus_pos_body = positive_data_body['aspect'].dropna().astype(str).tolist()\n",
    "count_vectorizer = CountVectorizer(stop_words='english', lowercase=True)\n",
    "count_data_vectorized = count_vectorizer.fit_transform(corpus_pos_body)\n",
    "final_lda = LatentDirichletAllocation(\n",
    "    n_components=5,\n",
    "    learning_decay=0.7,\n",
    "    random_state=42,\n",
    "    learning_method=\"online\",\n",
    "    batch_size=1024,\n",
    "    max_iter=15,\n",
    "    verbose=1\n",
    ")\n",
    "\n",
    "# Fit final model on full dataset ===\n",
    "lda_topics_pos_body = final_lda.fit_transform(count_data_vectorized)\n",
    "\n",
    "# Evaluate the model ===\n",
    "log_likelihood = final_lda.score(count_data_vectorized)\n",
    "perplexity = final_lda.perplexity(count_data_vectorized)\n",
    "\n",
    "print(\"Final LDA trained on full dataset!\")\n",
    "print(f\"Log Likelihood: {log_likelihood}\")\n",
    "print(f\"Perplexity: {perplexity}\")\n",
    "\n",
    "print(\"Shape of document-topic matrix:\", lda_topics_pos_body.shape)"
   ]
  },
  {
   "cell_type": "code",
   "execution_count": 123,
   "id": "1b103302",
   "metadata": {},
   "outputs": [
    {
     "name": "stdout",
     "output_type": "stream",
     "text": [
      "LDA Topics (with probabilities):\n",
      "\n",
      "Topic 1: [('makeup', np.float64(0.3659)), ('eye', np.float64(0.0397)), ('guy', np.float64(0.0301)), ('wig', np.float64(0.0187)), ('god', np.float64(0.0162)), ('hairstyle', np.float64(0.0084)), ('babe', np.float64(0.0083)), ('white', np.float64(0.0077)), ('work', np.float64(0.0075)), ('brown', np.float64(0.007))]\n",
      "\n",
      "Topic 2: [('look', np.float64(0.3348)), ('color', np.float64(0.1413)), ('hair', np.float64(0.1025)), ('looking', np.float64(0.0694)), ('eyelash', np.float64(0.0195)), ('sound', np.float64(0.0126)), ('red', np.float64(0.0123)), ('smell', np.float64(0.0093)), ('trend', np.float64(0.0091)), ('foundation', np.float64(0.0089))]\n",
      "\n",
      "Topic 3: [('voice', np.float64(0.1579)), ('video', np.float64(0.0887)), ('skin', np.float64(0.0876)), ('purple', np.float64(0.0438)), ('green', np.float64(0.0341)), ('man', np.float64(0.0225)), ('baby', np.float64(0.0217)), ('lip', np.float64(0.021)), ('song', np.float64(0.0153)), ('love', np.float64(0.0143))]\n",
      "\n",
      "Topic 4: [('accent', np.float64(0.1074)), ('beauty', np.float64(0.0762)), ('girl', np.float64(0.0344)), ('style', np.float64(0.0309)), ('face', np.float64(0.0275)), ('blue', np.float64(0.0244)), ('content', np.float64(0.0214)), ('sharing', np.float64(0.015)), ('vaseline', np.float64(0.0148)), ('make', np.float64(0.0142))]\n",
      "\n",
      "Topic 5: [('colour', np.float64(0.0943)), ('pink', np.float64(0.025)), ('fragrance', np.float64(0.0226)), ('vibe', np.float64(0.0149)), ('tip', np.float64(0.0138)), ('scent', np.float64(0.0127)), ('lady', np.float64(0.0126)), ('lipstick', np.float64(0.0105)), ('pretty', np.float64(0.0099)), ('sir', np.float64(0.009))]\n"
     ]
    }
   ],
   "source": [
    "print(\"LDA Topics (with probabilities):\")\n",
    "lda_keywords = print_topics(final_lda, count_vectorizer, top_n=10, show_probs=True)\n"
   ]
  },
  {
   "cell_type": "code",
   "execution_count": 124,
   "id": "41b2ad4e",
   "metadata": {},
   "outputs": [
    {
     "name": "stdout",
     "output_type": "stream",
     "text": [
      "Topic Labels: {0: 'makeup', 1: 'look', 2: 'voice', 3: 'accent', 4: 'colour'}\n"
     ]
    }
   ],
   "source": [
    "# Assume lda_model and count_vectorizer are already fitted\n",
    "feature_names = count_vectorizer.get_feature_names_out()\n",
    "\n",
    "topic_labels = {}\n",
    "for idx, topic in enumerate(final_lda.components_):\n",
    "    top_keyword_index = topic.argmax()  # index of the top word\n",
    "    top_keyword = feature_names[top_keyword_index]\n",
    "    topic_labels[idx] = top_keyword\n",
    "\n",
    "print(\"Topic Labels:\", topic_labels)"
   ]
  },
  {
   "cell_type": "code",
   "execution_count": 125,
   "id": "43a93fac",
   "metadata": {},
   "outputs": [
    {
     "name": "stderr",
     "output_type": "stream",
     "text": [
      "C:\\Users\\user\\AppData\\Local\\Temp\\ipykernel_1964\\1132669183.py:2: SettingWithCopyWarning: \n",
      "A value is trying to be set on a copy of a slice from a DataFrame.\n",
      "Try using .loc[row_indexer,col_indexer] = value instead\n",
      "\n",
      "See the caveats in the documentation: https://pandas.pydata.org/pandas-docs/stable/user_guide/indexing.html#returning-a-view-versus-a-copy\n",
      "  positive_data_body['dominant_topic_comment'] = np.nan\n",
      "C:\\Users\\user\\AppData\\Local\\Temp\\ipykernel_1964\\1132669183.py:3: SettingWithCopyWarning: \n",
      "A value is trying to be set on a copy of a slice from a DataFrame.\n",
      "Try using .loc[row_indexer,col_indexer] = value instead\n",
      "\n",
      "See the caveats in the documentation: https://pandas.pydata.org/pandas-docs/stable/user_guide/indexing.html#returning-a-view-versus-a-copy\n",
      "  positive_data_body['topic_confidence_comment'] = np.nan\n",
      "C:\\Users\\user\\AppData\\Local\\Temp\\ipykernel_1964\\1132669183.py:4: SettingWithCopyWarning: \n",
      "A value is trying to be set on a copy of a slice from a DataFrame.\n",
      "Try using .loc[row_indexer,col_indexer] = value instead\n",
      "\n",
      "See the caveats in the documentation: https://pandas.pydata.org/pandas-docs/stable/user_guide/indexing.html#returning-a-view-versus-a-copy\n",
      "  positive_data_body['topic_label_comment'] = np.nan\n",
      "C:\\Users\\user\\AppData\\Local\\Temp\\ipykernel_1964\\1132669183.py:16: FutureWarning: Setting an item of incompatible dtype is deprecated and will raise an error in a future version of pandas. Value '['colour' 'colour' 'colour' ... 'look' 'look' 'voice']' has dtype incompatible with float64, please explicitly cast to a compatible dtype first.\n",
      "  positive_data_body.loc[mask, 'topic_label_comment'] = positive_data_body.loc[mask, 'dominant_topic_comment'].map(topic_labels)\n"
     ]
    }
   ],
   "source": [
    "# Initialize columns with NaN\n",
    "positive_data_body['dominant_topic_comment'] = np.nan\n",
    "positive_data_body['topic_confidence_comment'] = np.nan\n",
    "positive_data_body['topic_label_comment'] = np.nan\n",
    "\n",
    "# Mask for non-null rows\n",
    "mask = positive_data_body['aspect'].notnull()\n",
    "\n",
    "# Compute only on rows that were vectorized\n",
    "dominant_topic = np.argmax(lda_topics_pos_body, axis=1)\n",
    "topic_confidence = lda_topics_pos_body.max(axis=1)\n",
    "\n",
    "# Assign back to the non-null rows\n",
    "positive_data_body.loc[mask, 'dominant_topic_comment'] = dominant_topic\n",
    "positive_data_body.loc[mask, 'topic_confidence_comment'] = topic_confidence\n",
    "positive_data_body.loc[mask, 'topic_label_comment'] = positive_data_body.loc[mask, 'dominant_topic_comment'].map(topic_labels)\n"
   ]
  },
  {
   "cell_type": "code",
   "execution_count": 126,
   "id": "74f33c0f",
   "metadata": {},
   "outputs": [],
   "source": [
    "topic_counts_pos_body = positive_data_body['topic_label_comment'].value_counts()"
   ]
  },
  {
   "cell_type": "code",
   "execution_count": 127,
   "id": "6e0b3a69",
   "metadata": {},
   "outputs": [
    {
     "data": {
      "image/png": "[encoded data removed]",
      "text/plain": [
       "<Figure size 1000x600 with 1 Axes>"
      ]
     },
     "metadata": {},
     "output_type": "display_data"
    }
   ],
   "source": [
    "import matplotlib.pyplot as plt\n",
    "plt.figure(figsize=(10,6))\n",
    "topic_counts_pos_body.plot(kind='bar', color='skyblue')\n",
    "plt.xlabel('Topic Label')\n",
    "plt.ylabel('Count')\n",
    "plt.title('Topic Count Distribution')\n",
    "plt.xticks(rotation=45)\n",
    "plt.tight_layout()\n",
    "plt.show()"
   ]
  },
  {
   "cell_type": "markdown",
   "id": "fc42ddfa",
   "metadata": {},
   "source": [
    "### All topic counts are listed below\n",
    "The following output displays the value counts for each topic, showing how many comments are assigned to each topic label."
   ]
  },
  {
   "cell_type": "code",
   "execution_count": null,
   "id": "b32ba630",
   "metadata": {},
   "outputs": [
    {
     "data": {
      "text/plain": [
       "topic_label_comment\n",
       "makeup        91309\n",
       "lip           60058\n",
       "color         57965\n",
       "foundation    57817\n",
       "skin          56117\n",
       "Name: count, dtype: int64"
      ]
     },
     "execution_count": 149,
     "metadata": {},
     "output_type": "execute_result"
    }
   ],
   "source": [
    "topic_counts_neg_overall = negative_data['topic_label_comment'].value_counts()\n",
    "topic_counts_neg_overall"
   ]
  },
  {
   "cell_type": "code",
   "execution_count": null,
   "id": "460accb0",
   "metadata": {},
   "outputs": [
    {
     "data": {
      "text/plain": [
       "topic_label_comment\n",
       "makeup        136391\n",
       "skin           66937\n",
       "foundation     65232\n",
       "lip            61057\n",
       "color          59046\n",
       "Name: count, dtype: int64"
      ]
     },
     "execution_count": 150,
     "metadata": {},
     "output_type": "execute_result"
    }
   ],
   "source": [
    "topic_counts_pos_overall = positive_data['topic_label_comment'].value_counts()\n",
    "topic_counts_pos_overall"
   ]
  },
  {
   "cell_type": "code",
   "execution_count": null,
   "id": "0d4a54f7",
   "metadata": {},
   "outputs": [
    {
     "data": {
      "text/plain": [
       "topic_label_comment\n",
       "makeup        38586\n",
       "face          30304\n",
       "hair          26419\n",
       "skin          25948\n",
       "foundation    25560\n",
       "Name: count, dtype: int64"
      ]
     },
     "metadata": {},
     "output_type": "display_data"
    }
   ],
   "source": [
    "topic_counts_neg_makeup = negative_data_makeup['topic_label_comment'].value_counts()\n",
    "topic_counts_neg_makeup"
   ]
  },
  {
   "cell_type": "code",
   "execution_count": null,
   "id": "abd34018",
   "metadata": {},
   "outputs": [
    {
     "data": {
      "text/plain": [
       "topic_label_comment\n",
       "makeup     42644\n",
       "video      35313\n",
       "look       35119\n",
       "looking    32068\n",
       "hair       31703\n",
       "Name: count, dtype: int64"
      ]
     },
     "execution_count": 56,
     "metadata": {},
     "output_type": "execute_result"
    }
   ],
   "source": [
    "topic_counts_pov_makeup = positive_data_makeup['topic_label_comment'].value_counts()\n",
    "topic_counts_pov_makeup"
   ]
  },
  {
   "cell_type": "code",
   "execution_count": null,
   "id": "0b7e8eaa",
   "metadata": {},
   "outputs": [
    {
     "data": {
      "text/plain": [
       "topic_label_comment\n",
       "hair       29663\n",
       "makeup     15042\n",
       "colour     14532\n",
       "haircut    14484\n",
       "cut        13918\n",
       "Name: count, dtype: int64"
      ]
     },
     "execution_count": 77,
     "metadata": {},
     "output_type": "execute_result"
    }
   ],
   "source": [
    "topic_counts_neg_hair = negative_data_hair['topic_label_comment'].value_counts()\n",
    "topic_counts_neg_hair"
   ]
  },
  {
   "cell_type": "code",
   "execution_count": null,
   "id": "a02891aa",
   "metadata": {},
   "outputs": [
    {
     "data": {
      "text/plain": [
       "topic_label_comment\n",
       "hair      41087\n",
       "makeup    17754\n",
       "beauty    17364\n",
       "color     17314\n",
       "wig       16855\n",
       "Name: count, dtype: int64"
      ]
     },
     "execution_count": 151,
     "metadata": {},
     "output_type": "execute_result"
    }
   ],
   "source": [
    "topic_counts_pos_hair = positive_data_hair['topic_label_comment'].value_counts()\n",
    "topic_counts_pos_hair"
   ]
  },
  {
   "cell_type": "code",
   "execution_count": null,
   "id": "2d1d6f53",
   "metadata": {},
   "outputs": [
    {
     "data": {
      "text/plain": [
       "topic_label_comment\n",
       "makeup    7662\n",
       "hair      6961\n",
       "face      6946\n",
       "lip       6794\n",
       "skin      6499\n",
       "Name: count, dtype: int64"
      ]
     },
     "execution_count": 98,
     "metadata": {},
     "output_type": "execute_result"
    }
   ],
   "source": [
    "topic_counts_neg_skin = negative_data_skin['topic_label_comment'].value_counts()\n",
    "topic_counts_neg_skin"
   ]
  },
  {
   "cell_type": "code",
   "execution_count": null,
   "id": "0c2780f7",
   "metadata": {},
   "outputs": [
    {
     "data": {
      "text/plain": [
       "topic_label_comment\n",
       "makeup    9861\n",
       "skin      9475\n",
       "song      9080\n",
       "video     8474\n",
       "eye       7957\n",
       "Name: count, dtype: int64"
      ]
     },
     "execution_count": 99,
     "metadata": {},
     "output_type": "execute_result"
    }
   ],
   "source": [
    "topic_counts_pos_skin = positive_data_skin['topic_label_comment'].value_counts()\n",
    "topic_counts_pos_skin"
   ]
  },
  {
   "cell_type": "code",
   "execution_count": null,
   "id": "8eb3497e",
   "metadata": {},
   "outputs": [
    {
     "data": {
      "text/plain": [
       "topic_label_comment\n",
       "filter    4979\n",
       "makeup    4948\n",
       "hair      4510\n",
       "tape      4419\n",
       "skin      4274\n",
       "Name: count, dtype: int64"
      ]
     },
     "execution_count": 114,
     "metadata": {},
     "output_type": "execute_result"
    }
   ],
   "source": [
    "topic_counts_neg_perfume = negative_data_perfume['topic_label_comment'].value_counts()\n",
    "topic_counts_neg_perfume \n"
   ]
  },
  {
   "cell_type": "code",
   "execution_count": null,
   "id": "e1d632bb",
   "metadata": {},
   "outputs": [
    {
     "data": {
      "text/plain": [
       "topic_label_comment\n",
       "look       5185\n",
       "makeup     4735\n",
       "fiona      4656\n",
       "skin       4448\n",
       "editing    4251\n",
       "Name: count, dtype: int64"
      ]
     },
     "execution_count": 115,
     "metadata": {},
     "output_type": "execute_result"
    }
   ],
   "source": [
    "topic_counts_pos_perfume = positive_data_perfume['topic_label_comment'].value_counts()\n",
    "topic_counts_pos_perfume"
   ]
  },
  {
   "cell_type": "code",
   "execution_count": null,
   "id": "d0d02999",
   "metadata": {},
   "outputs": [
    {
     "data": {
      "text/plain": [
       "topic_label_comment\n",
       "foundation    3504\n",
       "makeup        3294\n",
       "color         3215\n",
       "eyelash       3094\n",
       "hair          2969\n",
       "Name: count, dtype: int64"
      ]
     },
     "execution_count": 129,
     "metadata": {},
     "output_type": "execute_result"
    }
   ],
   "source": [
    "topic_counts_neg_body = negative_data_body['topic_label_comment'].value_counts()\n",
    "topic_counts_neg_body"
   ]
  },
  {
   "cell_type": "code",
   "execution_count": null,
   "id": "2b954090",
   "metadata": {},
   "outputs": [
    {
     "data": {
      "text/plain": [
       "topic_label_comment\n",
       "look      4981\n",
       "voice     4694\n",
       "accent    4086\n",
       "makeup    3934\n",
       "colour    3733\n",
       "Name: count, dtype: int64"
      ]
     },
     "execution_count": 130,
     "metadata": {},
     "output_type": "execute_result"
    }
   ],
   "source": [
    "topic_counts_pos_body = positive_data_body['topic_label_comment'].value_counts()\n",
    "topic_counts_pos_body"
   ]
  },
  {
   "cell_type": "markdown",
   "id": "fcb28c2d",
   "metadata": {},
   "source": [
    "### Combine and save all topic counts to CSV\n",
    "This cell combines the topic count Series for each sentiment and category into a single DataFrame, then saves the results to a CSV file (`comment_sentiment_analysis.csv`). This file provides a comprehensive summary of topic distributions across all aspects and sentiment categories for further analysis or reporting."
   ]
  },
  {
   "cell_type": "code",
   "execution_count": null,
   "id": "226a1081",
   "metadata": {},
   "outputs": [
    {
     "name": "stdout",
     "output_type": "stream",
     "text": [
      "Saved all topic counts to comment_sentiment_analysis.csv\n"
     ]
    }
   ],
   "source": [
    "# Combine all topic count Series into a DataFrame and save to CSV\n",
    "topic_counts_dict = {\n",
    "    'neg_overall': topic_counts_neg_overall,\n",
    "    'pos_overall': topic_counts_pos_overall,\n",
    "    'neg_makeup': topic_counts_neg_makeup,\n",
    "    'pos_makeup': topic_counts_pov_makeup,\n",
    "    'neg_hair': topic_counts_neg_hair,\n",
    "    'pos_hair': topic_counts_pos_hair,\n",
    "    'neg_skin': topic_counts_neg_skin,\n",
    "    'pos_skin': topic_counts_pos_skin,\n",
    "    'neg_perfume': topic_counts_neg_perfume,\n",
    "    'pos_perfume': topic_counts_pos_perfume,\n",
    "    'neg_body': topic_counts_neg_body,\n",
    "    'pos_body': topic_counts_pos_body\n",
    "}\n",
    "\n",
    "# Convert all Series to DataFrames and join on index (topic label)\n",
    "topic_counts_df = pd.concat(topic_counts_dict, axis=1).fillna(0)\n",
    "topic_counts_df.columns = [\n",
    "    'neg_overall', 'pos_overall', 'neg_makeup', 'pos_makeup', 'neg_hair', 'pos_hair',\n",
    "    'neg_skin', 'pos_skin', 'neg_perfume', 'pos_perfume', 'neg_body', 'pos_body'\n",
    " ]\n",
    "topic_counts_df.to_csv('dataset/comment_sentiment_analysis.csv')\n",
    "print('Saved all topic counts to comment_sentiment_analysis.csv')"
   ]
  },
  {
   "cell_type": "markdown",
   "id": "1914175e",
   "metadata": {},
   "source": [
    "### Display the combined topic counts DataFrame\n",
    "This cell displays the DataFrame containing topic counts for each sentiment and aspect category, providing a comprehensive overview of the topic distribution across all analyzed comments."
   ]
  },
  {
   "cell_type": "code",
   "execution_count": null,
   "id": "96d6cba5",
   "metadata": {},
   "outputs": [
    {
     "data": {
      "text/html": [
       "<div>\n",
       "<style scoped>\n",
       "    .dataframe tbody tr th:only-of-type {\n",
       "        vertical-align: middle;\n",
       "    }\n",
       "\n",
       "    .dataframe tbody tr th {\n",
       "        vertical-align: top;\n",
       "    }\n",
       "\n",
       "    .dataframe thead th {\n",
       "        text-align: right;\n",
       "    }\n",
       "</style>\n",
       "<table border=\"1\" class=\"dataframe\">\n",
       "  <thead>\n",
       "    <tr style=\"text-align: right;\">\n",
       "      <th></th>\n",
       "      <th>neg_overall</th>\n",
       "      <th>pos_overall</th>\n",
       "      <th>neg_makeup</th>\n",
       "      <th>pos_makeup</th>\n",
       "      <th>neg_hair</th>\n",
       "      <th>pos_hair</th>\n",
       "      <th>neg_skin</th>\n",
       "      <th>pos_skin</th>\n",
       "      <th>neg_perfume</th>\n",
       "      <th>pos_perfume</th>\n",
       "      <th>neg_body</th>\n",
       "      <th>pos_body</th>\n",
       "    </tr>\n",
       "    <tr>\n",
       "      <th>topic_label_comment</th>\n",
       "      <th></th>\n",
       "      <th></th>\n",
       "      <th></th>\n",
       "      <th></th>\n",
       "      <th></th>\n",
       "      <th></th>\n",
       "      <th></th>\n",
       "      <th></th>\n",
       "      <th></th>\n",
       "      <th></th>\n",
       "      <th></th>\n",
       "      <th></th>\n",
       "    </tr>\n",
       "  </thead>\n",
       "  <tbody>\n",
       "    <tr>\n",
       "      <th>makeup</th>\n",
       "      <td>91309.0</td>\n",
       "      <td>136391.0</td>\n",
       "      <td>38586.0</td>\n",
       "      <td>42644.0</td>\n",
       "      <td>15042.0</td>\n",
       "      <td>17754.0</td>\n",
       "      <td>7662.0</td>\n",
       "      <td>9861.0</td>\n",
       "      <td>4948.0</td>\n",
       "      <td>4735.0</td>\n",
       "      <td>3294.0</td>\n",
       "      <td>3934.0</td>\n",
       "    </tr>\n",
       "    <tr>\n",
       "      <th>lip</th>\n",
       "      <td>60058.0</td>\n",
       "      <td>61057.0</td>\n",
       "      <td>0.0</td>\n",
       "      <td>0.0</td>\n",
       "      <td>0.0</td>\n",
       "      <td>0.0</td>\n",
       "      <td>6794.0</td>\n",
       "      <td>0.0</td>\n",
       "      <td>0.0</td>\n",
       "      <td>0.0</td>\n",
       "      <td>0.0</td>\n",
       "      <td>0.0</td>\n",
       "    </tr>\n",
       "    <tr>\n",
       "      <th>color</th>\n",
       "      <td>57965.0</td>\n",
       "      <td>59046.0</td>\n",
       "      <td>0.0</td>\n",
       "      <td>0.0</td>\n",
       "      <td>0.0</td>\n",
       "      <td>17314.0</td>\n",
       "      <td>0.0</td>\n",
       "      <td>0.0</td>\n",
       "      <td>0.0</td>\n",
       "      <td>0.0</td>\n",
       "      <td>3215.0</td>\n",
       "      <td>0.0</td>\n",
       "    </tr>\n",
       "    <tr>\n",
       "      <th>foundation</th>\n",
       "      <td>57817.0</td>\n",
       "      <td>65232.0</td>\n",
       "      <td>25560.0</td>\n",
       "      <td>0.0</td>\n",
       "      <td>0.0</td>\n",
       "      <td>0.0</td>\n",
       "      <td>0.0</td>\n",
       "      <td>0.0</td>\n",
       "      <td>0.0</td>\n",
       "      <td>0.0</td>\n",
       "      <td>3504.0</td>\n",
       "      <td>0.0</td>\n",
       "    </tr>\n",
       "    <tr>\n",
       "      <th>skin</th>\n",
       "      <td>56117.0</td>\n",
       "      <td>66937.0</td>\n",
       "      <td>25948.0</td>\n",
       "      <td>0.0</td>\n",
       "      <td>0.0</td>\n",
       "      <td>0.0</td>\n",
       "      <td>6499.0</td>\n",
       "      <td>9475.0</td>\n",
       "      <td>4274.0</td>\n",
       "      <td>4448.0</td>\n",
       "      <td>0.0</td>\n",
       "      <td>0.0</td>\n",
       "    </tr>\n",
       "    <tr>\n",
       "      <th>face</th>\n",
       "      <td>0.0</td>\n",
       "      <td>0.0</td>\n",
       "      <td>30304.0</td>\n",
       "      <td>0.0</td>\n",
       "      <td>0.0</td>\n",
       "      <td>0.0</td>\n",
       "      <td>6946.0</td>\n",
       "      <td>0.0</td>\n",
       "      <td>0.0</td>\n",
       "      <td>0.0</td>\n",
       "      <td>0.0</td>\n",
       "      <td>0.0</td>\n",
       "    </tr>\n",
       "    <tr>\n",
       "      <th>hair</th>\n",
       "      <td>0.0</td>\n",
       "      <td>0.0</td>\n",
       "      <td>26419.0</td>\n",
       "      <td>31703.0</td>\n",
       "      <td>29663.0</td>\n",
       "      <td>41087.0</td>\n",
       "      <td>6961.0</td>\n",
       "      <td>0.0</td>\n",
       "      <td>4510.0</td>\n",
       "      <td>0.0</td>\n",
       "      <td>2969.0</td>\n",
       "      <td>0.0</td>\n",
       "    </tr>\n",
       "    <tr>\n",
       "      <th>video</th>\n",
       "      <td>0.0</td>\n",
       "      <td>0.0</td>\n",
       "      <td>0.0</td>\n",
       "      <td>35313.0</td>\n",
       "      <td>0.0</td>\n",
       "      <td>0.0</td>\n",
       "      <td>0.0</td>\n",
       "      <td>8474.0</td>\n",
       "      <td>0.0</td>\n",
       "      <td>0.0</td>\n",
       "      <td>0.0</td>\n",
       "      <td>0.0</td>\n",
       "    </tr>\n",
       "    <tr>\n",
       "      <th>look</th>\n",
       "      <td>0.0</td>\n",
       "      <td>0.0</td>\n",
       "      <td>0.0</td>\n",
       "      <td>35119.0</td>\n",
       "      <td>0.0</td>\n",
       "      <td>0.0</td>\n",
       "      <td>0.0</td>\n",
       "      <td>0.0</td>\n",
       "      <td>0.0</td>\n",
       "      <td>5185.0</td>\n",
       "      <td>0.0</td>\n",
       "      <td>4981.0</td>\n",
       "    </tr>\n",
       "    <tr>\n",
       "      <th>looking</th>\n",
       "      <td>0.0</td>\n",
       "      <td>0.0</td>\n",
       "      <td>0.0</td>\n",
       "      <td>32068.0</td>\n",
       "      <td>0.0</td>\n",
       "      <td>0.0</td>\n",
       "      <td>0.0</td>\n",
       "      <td>0.0</td>\n",
       "      <td>0.0</td>\n",
       "      <td>0.0</td>\n",
       "      <td>0.0</td>\n",
       "      <td>0.0</td>\n",
       "    </tr>\n",
       "    <tr>\n",
       "      <th>colour</th>\n",
       "      <td>0.0</td>\n",
       "      <td>0.0</td>\n",
       "      <td>0.0</td>\n",
       "      <td>0.0</td>\n",
       "      <td>14532.0</td>\n",
       "      <td>0.0</td>\n",
       "      <td>0.0</td>\n",
       "      <td>0.0</td>\n",
       "      <td>0.0</td>\n",
       "      <td>0.0</td>\n",
       "      <td>0.0</td>\n",
       "      <td>3733.0</td>\n",
       "    </tr>\n",
       "    <tr>\n",
       "      <th>haircut</th>\n",
       "      <td>0.0</td>\n",
       "      <td>0.0</td>\n",
       "      <td>0.0</td>\n",
       "      <td>0.0</td>\n",
       "      <td>14484.0</td>\n",
       "      <td>0.0</td>\n",
       "      <td>0.0</td>\n",
       "      <td>0.0</td>\n",
       "      <td>0.0</td>\n",
       "      <td>0.0</td>\n",
       "      <td>0.0</td>\n",
       "      <td>0.0</td>\n",
       "    </tr>\n",
       "    <tr>\n",
       "      <th>cut</th>\n",
       "      <td>0.0</td>\n",
       "      <td>0.0</td>\n",
       "      <td>0.0</td>\n",
       "      <td>0.0</td>\n",
       "      <td>13918.0</td>\n",
       "      <td>0.0</td>\n",
       "      <td>0.0</td>\n",
       "      <td>0.0</td>\n",
       "      <td>0.0</td>\n",
       "      <td>0.0</td>\n",
       "      <td>0.0</td>\n",
       "      <td>0.0</td>\n",
       "    </tr>\n",
       "    <tr>\n",
       "      <th>beauty</th>\n",
       "      <td>0.0</td>\n",
       "      <td>0.0</td>\n",
       "      <td>0.0</td>\n",
       "      <td>0.0</td>\n",
       "      <td>0.0</td>\n",
       "      <td>17364.0</td>\n",
       "      <td>0.0</td>\n",
       "      <td>0.0</td>\n",
       "      <td>0.0</td>\n",
       "      <td>0.0</td>\n",
       "      <td>0.0</td>\n",
       "      <td>0.0</td>\n",
       "    </tr>\n",
       "    <tr>\n",
       "      <th>wig</th>\n",
       "      <td>0.0</td>\n",
       "      <td>0.0</td>\n",
       "      <td>0.0</td>\n",
       "      <td>0.0</td>\n",
       "      <td>0.0</td>\n",
       "      <td>16855.0</td>\n",
       "      <td>0.0</td>\n",
       "      <td>0.0</td>\n",
       "      <td>0.0</td>\n",
       "      <td>0.0</td>\n",
       "      <td>0.0</td>\n",
       "      <td>0.0</td>\n",
       "    </tr>\n",
       "    <tr>\n",
       "      <th>song</th>\n",
       "      <td>0.0</td>\n",
       "      <td>0.0</td>\n",
       "      <td>0.0</td>\n",
       "      <td>0.0</td>\n",
       "      <td>0.0</td>\n",
       "      <td>0.0</td>\n",
       "      <td>0.0</td>\n",
       "      <td>9080.0</td>\n",
       "      <td>0.0</td>\n",
       "      <td>0.0</td>\n",
       "      <td>0.0</td>\n",
       "      <td>0.0</td>\n",
       "    </tr>\n",
       "    <tr>\n",
       "      <th>eye</th>\n",
       "      <td>0.0</td>\n",
       "      <td>0.0</td>\n",
       "      <td>0.0</td>\n",
       "      <td>0.0</td>\n",
       "      <td>0.0</td>\n",
       "      <td>0.0</td>\n",
       "      <td>0.0</td>\n",
       "      <td>7957.0</td>\n",
       "      <td>0.0</td>\n",
       "      <td>0.0</td>\n",
       "      <td>0.0</td>\n",
       "      <td>0.0</td>\n",
       "    </tr>\n",
       "    <tr>\n",
       "      <th>filter</th>\n",
       "      <td>0.0</td>\n",
       "      <td>0.0</td>\n",
       "      <td>0.0</td>\n",
       "      <td>0.0</td>\n",
       "      <td>0.0</td>\n",
       "      <td>0.0</td>\n",
       "      <td>0.0</td>\n",
       "      <td>0.0</td>\n",
       "      <td>4979.0</td>\n",
       "      <td>0.0</td>\n",
       "      <td>0.0</td>\n",
       "      <td>0.0</td>\n",
       "    </tr>\n",
       "    <tr>\n",
       "      <th>tape</th>\n",
       "      <td>0.0</td>\n",
       "      <td>0.0</td>\n",
       "      <td>0.0</td>\n",
       "      <td>0.0</td>\n",
       "      <td>0.0</td>\n",
       "      <td>0.0</td>\n",
       "      <td>0.0</td>\n",
       "      <td>0.0</td>\n",
       "      <td>4419.0</td>\n",
       "      <td>0.0</td>\n",
       "      <td>0.0</td>\n",
       "      <td>0.0</td>\n",
       "    </tr>\n",
       "    <tr>\n",
       "      <th>fiona</th>\n",
       "      <td>0.0</td>\n",
       "      <td>0.0</td>\n",
       "      <td>0.0</td>\n",
       "      <td>0.0</td>\n",
       "      <td>0.0</td>\n",
       "      <td>0.0</td>\n",
       "      <td>0.0</td>\n",
       "      <td>0.0</td>\n",
       "      <td>0.0</td>\n",
       "      <td>4656.0</td>\n",
       "      <td>0.0</td>\n",
       "      <td>0.0</td>\n",
       "    </tr>\n",
       "    <tr>\n",
       "      <th>editing</th>\n",
       "      <td>0.0</td>\n",
       "      <td>0.0</td>\n",
       "      <td>0.0</td>\n",
       "      <td>0.0</td>\n",
       "      <td>0.0</td>\n",
       "      <td>0.0</td>\n",
       "      <td>0.0</td>\n",
       "      <td>0.0</td>\n",
       "      <td>0.0</td>\n",
       "      <td>4251.0</td>\n",
       "      <td>0.0</td>\n",
       "      <td>0.0</td>\n",
       "    </tr>\n",
       "    <tr>\n",
       "      <th>eyelash</th>\n",
       "      <td>0.0</td>\n",
       "      <td>0.0</td>\n",
       "      <td>0.0</td>\n",
       "      <td>0.0</td>\n",
       "      <td>0.0</td>\n",
       "      <td>0.0</td>\n",
       "      <td>0.0</td>\n",
       "      <td>0.0</td>\n",
       "      <td>0.0</td>\n",
       "      <td>0.0</td>\n",
       "      <td>3094.0</td>\n",
       "      <td>0.0</td>\n",
       "    </tr>\n",
       "    <tr>\n",
       "      <th>voice</th>\n",
       "      <td>0.0</td>\n",
       "      <td>0.0</td>\n",
       "      <td>0.0</td>\n",
       "      <td>0.0</td>\n",
       "      <td>0.0</td>\n",
       "      <td>0.0</td>\n",
       "      <td>0.0</td>\n",
       "      <td>0.0</td>\n",
       "      <td>0.0</td>\n",
       "      <td>0.0</td>\n",
       "      <td>0.0</td>\n",
       "      <td>4694.0</td>\n",
       "    </tr>\n",
       "    <tr>\n",
       "      <th>accent</th>\n",
       "      <td>0.0</td>\n",
       "      <td>0.0</td>\n",
       "      <td>0.0</td>\n",
       "      <td>0.0</td>\n",
       "      <td>0.0</td>\n",
       "      <td>0.0</td>\n",
       "      <td>0.0</td>\n",
       "      <td>0.0</td>\n",
       "      <td>0.0</td>\n",
       "      <td>0.0</td>\n",
       "      <td>0.0</td>\n",
       "      <td>4086.0</td>\n",
       "    </tr>\n",
       "  </tbody>\n",
       "</table>\n",
       "</div>"
      ],
      "text/plain": [
       "                     neg_overall  pos_overall  neg_makeup  pos_makeup  \\\n",
       "topic_label_comment                                                     \n",
       "makeup                   91309.0     136391.0     38586.0     42644.0   \n",
       "lip                      60058.0      61057.0         0.0         0.0   \n",
       "color                    57965.0      59046.0         0.0         0.0   \n",
       "foundation               57817.0      65232.0     25560.0         0.0   \n",
       "skin                     56117.0      66937.0     25948.0         0.0   \n",
       "face                         0.0          0.0     30304.0         0.0   \n",
       "hair                         0.0          0.0     26419.0     31703.0   \n",
       "video                        0.0          0.0         0.0     35313.0   \n",
       "look                         0.0          0.0         0.0     35119.0   \n",
       "looking                      0.0          0.0         0.0     32068.0   \n",
       "colour                       0.0          0.0         0.0         0.0   \n",
       "haircut                      0.0          0.0         0.0         0.0   \n",
       "cut                          0.0          0.0         0.0         0.0   \n",
       "beauty                       0.0          0.0         0.0         0.0   \n",
       "wig                          0.0          0.0         0.0         0.0   \n",
       "song                         0.0          0.0         0.0         0.0   \n",
       "eye                          0.0          0.0         0.0         0.0   \n",
       "filter                       0.0          0.0         0.0         0.0   \n",
       "tape                         0.0          0.0         0.0         0.0   \n",
       "fiona                        0.0          0.0         0.0         0.0   \n",
       "editing                      0.0          0.0         0.0         0.0   \n",
       "eyelash                      0.0          0.0         0.0         0.0   \n",
       "voice                        0.0          0.0         0.0         0.0   \n",
       "accent                       0.0          0.0         0.0         0.0   \n",
       "\n",
       "                     neg_hair  pos_hair  neg_skin  pos_skin  neg_perfume  \\\n",
       "topic_label_comment                                                        \n",
       "makeup                15042.0   17754.0    7662.0    9861.0       4948.0   \n",
       "lip                       0.0       0.0    6794.0       0.0          0.0   \n",
       "color                     0.0   17314.0       0.0       0.0          0.0   \n",
       "foundation                0.0       0.0       0.0       0.0          0.0   \n",
       "skin                      0.0       0.0    6499.0    9475.0       4274.0   \n",
       "face                      0.0       0.0    6946.0       0.0          0.0   \n",
       "hair                  29663.0   41087.0    6961.0       0.0       4510.0   \n",
       "video                     0.0       0.0       0.0    8474.0          0.0   \n",
       "look                      0.0       0.0       0.0       0.0          0.0   \n",
       "looking                   0.0       0.0       0.0       0.0          0.0   \n",
       "colour                14532.0       0.0       0.0       0.0          0.0   \n",
       "haircut               14484.0       0.0       0.0       0.0          0.0   \n",
       "cut                   13918.0       0.0       0.0       0.0          0.0   \n",
       "beauty                    0.0   17364.0       0.0       0.0          0.0   \n",
       "wig                       0.0   16855.0       0.0       0.0          0.0   \n",
       "song                      0.0       0.0       0.0    9080.0          0.0   \n",
       "eye                       0.0       0.0       0.0    7957.0          0.0   \n",
       "filter                    0.0       0.0       0.0       0.0       4979.0   \n",
       "tape                      0.0       0.0       0.0       0.0       4419.0   \n",
       "fiona                     0.0       0.0       0.0       0.0          0.0   \n",
       "editing                   0.0       0.0       0.0       0.0          0.0   \n",
       "eyelash                   0.0       0.0       0.0       0.0          0.0   \n",
       "voice                     0.0       0.0       0.0       0.0          0.0   \n",
       "accent                    0.0       0.0       0.0       0.0          0.0   \n",
       "\n",
       "                     pos_perfume  neg_body  pos_body  \n",
       "topic_label_comment                                   \n",
       "makeup                    4735.0    3294.0    3934.0  \n",
       "lip                          0.0       0.0       0.0  \n",
       "color                        0.0    3215.0       0.0  \n",
       "foundation                   0.0    3504.0       0.0  \n",
       "skin                      4448.0       0.0       0.0  \n",
       "face                         0.0       0.0       0.0  \n",
       "hair                         0.0    2969.0       0.0  \n",
       "video                        0.0       0.0       0.0  \n",
       "look                      5185.0       0.0    4981.0  \n",
       "looking                      0.0       0.0       0.0  \n",
       "colour                       0.0       0.0    3733.0  \n",
       "haircut                      0.0       0.0       0.0  \n",
       "cut                          0.0       0.0       0.0  \n",
       "beauty                       0.0       0.0       0.0  \n",
       "wig                          0.0       0.0       0.0  \n",
       "song                         0.0       0.0       0.0  \n",
       "eye                          0.0       0.0       0.0  \n",
       "filter                       0.0       0.0       0.0  \n",
       "tape                         0.0       0.0       0.0  \n",
       "fiona                     4656.0       0.0       0.0  \n",
       "editing                   4251.0       0.0       0.0  \n",
       "eyelash                      0.0    3094.0       0.0  \n",
       "voice                        0.0       0.0    4694.0  \n",
       "accent                       0.0       0.0    4086.0  "
      ]
     },
     "execution_count": 153,
     "metadata": {},
     "output_type": "execute_result"
    }
   ],
   "source": [
    "topic_counts_df"
   ]
  }
 ],
 "metadata": {
  "kernelspec": {
   "display_name": "loreal",
   "language": "python",
   "name": "python3"
  },
  "language_info": {
   "codemirror_mode": {
    "name": "ipython",
    "version": 3
   },
   "file_extension": ".py",
   "mimetype": "text/x-python",
   "name": "python",
   "nbconvert_exporter": "python",
   "pygments_lexer": "ipython3",
   "version": "3.11.13"
  }
 },
 "nbformat": 4,
 "nbformat_minor": 5
}
