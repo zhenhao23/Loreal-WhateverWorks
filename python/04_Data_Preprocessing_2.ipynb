{
  "cells": [
    {
      "cell_type": "markdown",
      "metadata": {},
      "source": [
        "# Data Prepocessing 2 : Language Filtering and Preprocessing for Comments\n",
        "\n",
        "This notebook performs language detection and filtering on a dataset of YouTube comments. It loads the final labeled comments, filters out spam, detects English comments using the `langid` library, and saves the results for downstream analysis. The workflow includes package installation, data loading, spam filtering, language identification, and exporting the processed data."
      ]
    },
    {
      "cell_type": "markdown",
      "metadata": {},
      "source": [
        "### Install Required Package: langid\n",
        "\n",
        "This cell installs the `langid` package, which is used for automatic language identification of text data during preprocessing."
      ]
    },
    {
      "cell_type": "code",
      "execution_count": null,
      "metadata": {
        "colab": {
          "base_uri": "https://localhost:8080/"
        },
        "id": "_4EMtxlfT2Cp",
        "outputId": "b37e6ef1-8f90-4141-9482-85fa06fe1df3"
      },
      "outputs": [
        {
          "name": "stdout",
          "output_type": "stream",
          "text": [
            "Collecting langid\n",
            "  Downloading langid-1.1.6.tar.gz (1.9 MB)\n",
            "\u001b[?25l     \u001b[90m━━━━━━━━━━━━━━━━━━━━━━━━━━━━━━━━━━━━━━━━\u001b[0m \u001b[32m0.0/1.9 MB\u001b[0m \u001b[31m?\u001b[0m eta \u001b[36m-:--:--\u001b[0m\r\u001b[2K     \u001b[91m━━━━━━━━━━━━━━━━━━━━━━━━━━━━━━━━━━━━━━━\u001b[0m\u001b[91m╸\u001b[0m \u001b[32m1.9/1.9 MB\u001b[0m \u001b[31m100.5 MB/s\u001b[0m eta \u001b[36m0:00:01\u001b[0m\r\u001b[2K     \u001b[90m━━━━━━━━━━━━━━━━━━━━━━━━━━━━━━━━━━━━━━━━\u001b[0m \u001b[32m1.9/1.9 MB\u001b[0m \u001b[31m51.9 MB/s\u001b[0m eta \u001b[36m0:00:00\u001b[0m\n",
            "\u001b[?25h  Preparing metadata (setup.py) ... \u001b[?25l\u001b[?25hdone\n",
            "Requirement already satisfied: numpy in /usr/local/lib/python3.12/dist-packages (from langid) (2.0.2)\n",
            "Building wheels for collected packages: langid\n",
            "  Building wheel for langid (setup.py) ... \u001b[?25l\u001b[?25hdone\n",
            "  Created wheel for langid: filename=langid-1.1.6-py3-none-any.whl size=1941171 sha256=0d1cb21848c4bec3d3e8e33f54ed4ca0eddde418d2f3f582f292a238a4284e02\n",
            "  Stored in directory: /root/.cache/pip/wheels/3c/bc/9d/266e27289b9019680d65d9b608c37bff1eff565b001c977ec5\n",
            "Successfully built langid\n",
            "Installing collected packages: langid\n",
            "Successfully installed langid-1.1.6\n"
          ]
        }
      ],
      "source": [
        "!pip install langid"
      ]
    },
    {
      "cell_type": "markdown",
      "metadata": {},
      "source": [
        "### Import Libraries for Data Processing and Language Detection\n",
        "\n",
        "This cell imports the necessary libraries for data manipulation (`pandas`), progress tracking (`tqdm`), and language identification (`langid`)."
      ]
    },
    {
      "cell_type": "code",
      "execution_count": null,
      "metadata": {
        "id": "JN2FCL3DT7I6"
      },
      "outputs": [],
      "source": [
        "import pandas as pd\n",
        "from tqdm import tqdm\n",
        "import langid"
      ]
    },
    {
      "cell_type": "markdown",
      "metadata": {},
      "source": [
        "### Load Final Labeled Comments Dataset\n",
        "\n",
        "This cell loads the final labeled comments dataset from a CSV file and displays its shape to confirm successful loading and inspect the data structure."
      ]
    },
    {
      "cell_type": "code",
      "execution_count": null,
      "metadata": {
        "colab": {
          "base_uri": "https://localhost:8080/"
        },
        "id": "tP2QJd3iUWgS",
        "outputId": "4e034e4a-c8b8-4af7-fb8c-6be64e7074b4"
      },
      "outputs": [
        {
          "data": {
            "text/plain": [
              "(4620076, 15)"
            ]
          },
          "execution_count": 4,
          "metadata": {},
          "output_type": "execute_result"
        }
      ],
      "source": [
        "file_path = 'dataset/final_after_spam.csv'\n",
        "comment = pd.read_csv(file_path)\n",
        "comment.shape"
      ]
    },
    {
      "cell_type": "markdown",
      "metadata": {},
      "source": [
        "### Filter Out Spam Comments\n",
        "\n",
        "This cell filters the loaded comments to retain only those labeled as not spam (`isSpam == 0`) and displays the shape of the filtered DataFrame."
      ]
    },
    {
      "cell_type": "code",
      "execution_count": null,
      "metadata": {
        "colab": {
          "base_uri": "https://localhost:8080/"
        },
        "id": "xjtMyK0FUbLL",
        "outputId": "02f949da-c5fa-4b01-f51a-3d1b48d11130"
      },
      "outputs": [
        {
          "data": {
            "text/plain": [
              "(3059016, 15)"
            ]
          },
          "execution_count": 5,
          "metadata": {},
          "output_type": "execute_result"
        }
      ],
      "source": [
        "filtered_comment = comment[comment[\"isSpam\"] ==0].copy()\n",
        "filtered_comment.shape"
      ]
    },
    {
      "cell_type": "markdown",
      "metadata": {},
      "source": [
        "### Detect English Comments Using langid\n",
        "\n",
        "This cell defines a function to detect whether each comment is in English using the `langid` library. It applies the function to the filtered comments, adds a new column indicating English/non-English, and prints the counts of each."
      ]
    },
    {
      "cell_type": "code",
      "execution_count": null,
      "metadata": {
        "colab": {
          "base_uri": "https://localhost:8080/"
        },
        "id": "CHsobLNpUj0M",
        "outputId": "9d084bff-224a-45c9-a240-f592f3ff2638"
      },
      "outputs": [
        {
          "name": "stderr",
          "output_type": "stream",
          "text": [
            "Detecting language (langid): 100%|██████████| 3059016/3059016 [1:11:05<00:00, 717.08it/s]\n"
          ]
        },
        {
          "name": "stdout",
          "output_type": "stream",
          "text": [
            "English texts: 2008655\n",
            "Non-English texts: 1050361\n"
          ]
        }
      ],
      "source": [
        "def label_english_texts(texts):\n",
        "    labels = []\n",
        "    for text in tqdm(texts, desc=\"Detecting language (langid)\"):\n",
        "        if not text or not isinstance(text, str):\n",
        "            labels.append(0)  # treat empty/invalid as non-English\n",
        "            continue\n",
        "        lang, prob = langid.classify(text)\n",
        "        labels.append(1 if lang == \"en\" else 0)\n",
        "    return labels\n",
        "\n",
        "# Apply to your DataFrame\n",
        "filtered_comment[\"is_english\"] = label_english_texts(filtered_comment[\"cleanedText\"].tolist())\n",
        "\n",
        "# Get counts\n",
        "eng_count = filtered_comment[\"is_english\"].sum()\n",
        "non_eng_count = len(filtered_comment) - eng_count\n",
        "\n",
        "print(\"English texts:\", eng_count)\n",
        "print(\"Non-English texts:\", non_eng_count)"
      ]
    },
    {
      "cell_type": "markdown",
      "metadata": {},
      "source": [
        "### Save Filtered Comments with Language Labels\n",
        "\n",
        "This cell saves the filtered DataFrame, which now includes English/non-English labels, to a CSV file for further analysis or downstream processing."
      ]
    },
    {
      "cell_type": "code",
      "execution_count": null,
      "metadata": {
        "id": "WdcZlhNMln_Q"
      },
      "outputs": [],
      "source": [
        "filtered_comment.to_csv('dataset/final_after_spam_eng.csv', index=False)"
      ]
    },
    {
      "cell_type": "markdown",
      "metadata": {},
      "source": [
        "### Preview Filtered Comments\n",
        "\n",
        "This cell displays the first few rows of the filtered DataFrame, allowing inspection of the comments and their language labels."
      ]
    },
    {
      "cell_type": "code",
      "execution_count": null,
      "metadata": {
        "colab": {
          "base_uri": "https://localhost:8080/",
          "height": 417
        },
        "id": "aItS_WFElz42",
        "outputId": "943fa19a-8383-447c-bf8e-a6e26ad82c36"
      },
      "outputs": [
        {
          "data": {
            "application/vnd.google.colaboratory.intrinsic+json": {
              "type": "dataframe",
              "variable_name": "filtered_comment"
            },
            "text/html": [
              "\n",
              "  <div id=\"df-3ddef10c-17d5-4113-adbb-2045fc8a5984\" class=\"colab-df-container\">\n",
              "    <div>\n",
              "<style scoped>\n",
              "    .dataframe tbody tr th:only-of-type {\n",
              "        vertical-align: middle;\n",
              "    }\n",
              "\n",
              "    .dataframe tbody tr th {\n",
              "        vertical-align: top;\n",
              "    }\n",
              "\n",
              "    .dataframe thead th {\n",
              "        text-align: right;\n",
              "    }\n",
              "</style>\n",
              "<table border=\"1\" class=\"dataframe\">\n",
              "  <thead>\n",
              "    <tr style=\"text-align: right;\">\n",
              "      <th></th>\n",
              "      <th>commentId</th>\n",
              "      <th>channelId</th>\n",
              "      <th>videoId</th>\n",
              "      <th>authorId</th>\n",
              "      <th>textOriginal</th>\n",
              "      <th>parentCommentId</th>\n",
              "      <th>likeCount</th>\n",
              "      <th>publishedAt</th>\n",
              "      <th>updatedAt</th>\n",
              "      <th>duplicatedFlag</th>\n",
              "      <th>cleanedText</th>\n",
              "      <th>cleanedTextSentiment</th>\n",
              "      <th>regex_spam</th>\n",
              "      <th>predicted_spam</th>\n",
              "      <th>isSpam</th>\n",
              "      <th>is_english</th>\n",
              "    </tr>\n",
              "  </thead>\n",
              "  <tbody>\n",
              "    <tr>\n",
              "      <th>0</th>\n",
              "      <td>3166243</td>\n",
              "      <td>41024</td>\n",
              "      <td>6217</td>\n",
              "      <td>26499</td>\n",
              "      <td>Good Information... Will  definitely try it......</td>\n",
              "      <td>NaN</td>\n",
              "      <td>0</td>\n",
              "      <td>2020-01-01 16:00:58+00:00</td>\n",
              "      <td>2020-01-01 16:00:58+00:00</td>\n",
              "      <td>0</td>\n",
              "      <td>good information definitely try thanks</td>\n",
              "      <td>good information definitely try thanks : smili...</td>\n",
              "      <td>0</td>\n",
              "      <td>0.0</td>\n",
              "      <td>0</td>\n",
              "      <td>1</td>\n",
              "    </tr>\n",
              "    <tr>\n",
              "      <th>1</th>\n",
              "      <td>1888757</td>\n",
              "      <td>10004</td>\n",
              "      <td>86296</td>\n",
              "      <td>2608986</td>\n",
              "      <td>Crystal, is it true that beginning Campaign 3,...</td>\n",
              "      <td>NaN</td>\n",
              "      <td>1</td>\n",
              "      <td>2020-01-04 07:49:54+00:00</td>\n",
              "      <td>2020-01-04 07:49:54+00:00</td>\n",
              "      <td>0</td>\n",
              "      <td>crystal true beginning campaign 3 order get fr...</td>\n",
              "      <td>crystal true beginning campaign 3 order get fr...</td>\n",
              "      <td>0</td>\n",
              "      <td>0.0</td>\n",
              "      <td>0</td>\n",
              "      <td>0</td>\n",
              "    </tr>\n",
              "    <tr>\n",
              "      <th>2</th>\n",
              "      <td>0</td>\n",
              "      <td>10004</td>\n",
              "      <td>86296</td>\n",
              "      <td>164837</td>\n",
              "      <td>Yes but I am charged $8 to cover your free shi...</td>\n",
              "      <td>1888757.0</td>\n",
              "      <td>0</td>\n",
              "      <td>2020-01-04 07:53:24+00:00</td>\n",
              "      <td>2020-01-04 07:53:24+00:00</td>\n",
              "      <td>0</td>\n",
              "      <td>yes charged $ 8 cover free shipping not rep wo...</td>\n",
              "      <td>yes charged $ 8 cover free shipping not rep wo...</td>\n",
              "      <td>0</td>\n",
              "      <td>0.0</td>\n",
              "      <td>0</td>\n",
              "      <td>1</td>\n",
              "    </tr>\n",
              "    <tr>\n",
              "      <th>4</th>\n",
              "      <td>1279533</td>\n",
              "      <td>5459</td>\n",
              "      <td>64449</td>\n",
              "      <td>882554</td>\n",
              "      <td>Very useful video</td>\n",
              "      <td>NaN</td>\n",
              "      <td>2</td>\n",
              "      <td>2020-01-04 10:32:19+00:00</td>\n",
              "      <td>2020-01-04 10:32:19+00:00</td>\n",
              "      <td>0</td>\n",
              "      <td>useful video</td>\n",
              "      <td>useful video</td>\n",
              "      <td>0</td>\n",
              "      <td>0.0</td>\n",
              "      <td>0</td>\n",
              "      <td>1</td>\n",
              "    </tr>\n",
              "    <tr>\n",
              "      <th>5</th>\n",
              "      <td>2543589</td>\n",
              "      <td>32215</td>\n",
              "      <td>89804</td>\n",
              "      <td>1777705</td>\n",
              "      <td>Osm three hair colour</td>\n",
              "      <td>NaN</td>\n",
              "      <td>2</td>\n",
              "      <td>2020-01-04 13:07:46+00:00</td>\n",
              "      <td>2020-01-04 13:07:46+00:00</td>\n",
              "      <td>0</td>\n",
              "      <td>osm three hair colour</td>\n",
              "      <td>osm three hair colour</td>\n",
              "      <td>0</td>\n",
              "      <td>0.0</td>\n",
              "      <td>0</td>\n",
              "      <td>1</td>\n",
              "    </tr>\n",
              "  </tbody>\n",
              "</table>\n",
              "</div>\n",
              "    <div class=\"colab-df-buttons\">\n",
              "\n",
              "  <div class=\"colab-df-container\">\n",
              "    <button class=\"colab-df-convert\" onclick=\"convertToInteractive('df-3ddef10c-17d5-4113-adbb-2045fc8a5984')\"\n",
              "            title=\"Convert this dataframe to an interactive table.\"\n",
              "            style=\"display:none;\">\n",
              "\n",
              "  <svg xmlns=\"http://www.w3.org/2000/svg\" height=\"24px\" viewBox=\"0 -960 960 960\">\n",
              "    <path d=\"M120-120v-720h720v720H120Zm60-500h600v-160H180v160Zm220 220h160v-160H400v160Zm0 220h160v-160H400v160ZM180-400h160v-160H180v160Zm440 0h160v-160H620v160ZM180-180h160v-160H180v160Zm440 0h160v-160H620v160Z\"/>\n",
              "  </svg>\n",
              "    </button>\n",
              "\n",
              "  <style>\n",
              "    .colab-df-container {\n",
              "      display:flex;\n",
              "      gap: 12px;\n",
              "    }\n",
              "\n",
              "    .colab-df-convert {\n",
              "      background-color: #E8F0FE;\n",
              "      border: none;\n",
              "      border-radius: 50%;\n",
              "      cursor: pointer;\n",
              "      display: none;\n",
              "      fill: #1967D2;\n",
              "      height: 32px;\n",
              "      padding: 0 0 0 0;\n",
              "      width: 32px;\n",
              "    }\n",
              "\n",
              "    .colab-df-convert:hover {\n",
              "      background-color: #E2EBFA;\n",
              "      box-shadow: 0px 1px 2px rgba(60, 64, 67, 0.3), 0px 1px 3px 1px rgba(60, 64, 67, 0.15);\n",
              "      fill: #174EA6;\n",
              "    }\n",
              "\n",
              "    .colab-df-buttons div {\n",
              "      margin-bottom: 4px;\n",
              "    }\n",
              "\n",
              "    [theme=dark] .colab-df-convert {\n",
              "      background-color: #3B4455;\n",
              "      fill: #D2E3FC;\n",
              "    }\n",
              "\n",
              "    [theme=dark] .colab-df-convert:hover {\n",
              "      background-color: #434B5C;\n",
              "      box-shadow: 0px 1px 3px 1px rgba(0, 0, 0, 0.15);\n",
              "      filter: drop-shadow(0px 1px 2px rgba(0, 0, 0, 0.3));\n",
              "      fill: #FFFFFF;\n",
              "    }\n",
              "  </style>\n",
              "\n",
              "    <script>\n",
              "      const buttonEl =\n",
              "        document.querySelector('#df-3ddef10c-17d5-4113-adbb-2045fc8a5984 button.colab-df-convert');\n",
              "      buttonEl.style.display =\n",
              "        google.colab.kernel.accessAllowed ? 'block' : 'none';\n",
              "\n",
              "      async function convertToInteractive(key) {\n",
              "        const element = document.querySelector('#df-3ddef10c-17d5-4113-adbb-2045fc8a5984');\n",
              "        const dataTable =\n",
              "          await google.colab.kernel.invokeFunction('convertToInteractive',\n",
              "                                                    [key], {});\n",
              "        if (!dataTable) return;\n",
              "\n",
              "        const docLinkHtml = 'Like what you see? Visit the ' +\n",
              "          '<a target=\"_blank\" href=https://colab.research.google.com/notebooks/data_table.ipynb>data table notebook</a>'\n",
              "          + ' to learn more about interactive tables.';\n",
              "        element.innerHTML = '';\n",
              "        dataTable['output_type'] = 'display_data';\n",
              "        await google.colab.output.renderOutput(dataTable, element);\n",
              "        const docLink = document.createElement('div');\n",
              "        docLink.innerHTML = docLinkHtml;\n",
              "        element.appendChild(docLink);\n",
              "      }\n",
              "    </script>\n",
              "  </div>\n",
              "\n",
              "\n",
              "    <div id=\"df-0cea4e48-d691-4608-8ca0-30bfca359bab\">\n",
              "      <button class=\"colab-df-quickchart\" onclick=\"quickchart('df-0cea4e48-d691-4608-8ca0-30bfca359bab')\"\n",
              "                title=\"Suggest charts\"\n",
              "                style=\"display:none;\">\n",
              "\n",
              "<svg xmlns=\"http://www.w3.org/2000/svg\" height=\"24px\"viewBox=\"0 0 24 24\"\n",
              "     width=\"24px\">\n",
              "    <g>\n",
              "        <path d=\"M19 3H5c-1.1 0-2 .9-2 2v14c0 1.1.9 2 2 2h14c1.1 0 2-.9 2-2V5c0-1.1-.9-2-2-2zM9 17H7v-7h2v7zm4 0h-2V7h2v10zm4 0h-2v-4h2v4z\"/>\n",
              "    </g>\n",
              "</svg>\n",
              "      </button>\n",
              "\n",
              "<style>\n",
              "  .colab-df-quickchart {\n",
              "      --bg-color: #E8F0FE;\n",
              "      --fill-color: #1967D2;\n",
              "      --hover-bg-color: #E2EBFA;\n",
              "      --hover-fill-color: #174EA6;\n",
              "      --disabled-fill-color: #AAA;\n",
              "      --disabled-bg-color: #DDD;\n",
              "  }\n",
              "\n",
              "  [theme=dark] .colab-df-quickchart {\n",
              "      --bg-color: #3B4455;\n",
              "      --fill-color: #D2E3FC;\n",
              "      --hover-bg-color: #434B5C;\n",
              "      --hover-fill-color: #FFFFFF;\n",
              "      --disabled-bg-color: #3B4455;\n",
              "      --disabled-fill-color: #666;\n",
              "  }\n",
              "\n",
              "  .colab-df-quickchart {\n",
              "    background-color: var(--bg-color);\n",
              "    border: none;\n",
              "    border-radius: 50%;\n",
              "    cursor: pointer;\n",
              "    display: none;\n",
              "    fill: var(--fill-color);\n",
              "    height: 32px;\n",
              "    padding: 0;\n",
              "    width: 32px;\n",
              "  }\n",
              "\n",
              "  .colab-df-quickchart:hover {\n",
              "    background-color: var(--hover-bg-color);\n",
              "    box-shadow: 0 1px 2px rgba(60, 64, 67, 0.3), 0 1px 3px 1px rgba(60, 64, 67, 0.15);\n",
              "    fill: var(--button-hover-fill-color);\n",
              "  }\n",
              "\n",
              "  .colab-df-quickchart-complete:disabled,\n",
              "  .colab-df-quickchart-complete:disabled:hover {\n",
              "    background-color: var(--disabled-bg-color);\n",
              "    fill: var(--disabled-fill-color);\n",
              "    box-shadow: none;\n",
              "  }\n",
              "\n",
              "  .colab-df-spinner {\n",
              "    border: 2px solid var(--fill-color);\n",
              "    border-color: transparent;\n",
              "    border-bottom-color: var(--fill-color);\n",
              "    animation:\n",
              "      spin 1s steps(1) infinite;\n",
              "  }\n",
              "\n",
              "  @keyframes spin {\n",
              "    0% {\n",
              "      border-color: transparent;\n",
              "      border-bottom-color: var(--fill-color);\n",
              "      border-left-color: var(--fill-color);\n",
              "    }\n",
              "    20% {\n",
              "      border-color: transparent;\n",
              "      border-left-color: var(--fill-color);\n",
              "      border-top-color: var(--fill-color);\n",
              "    }\n",
              "    30% {\n",
              "      border-color: transparent;\n",
              "      border-left-color: var(--fill-color);\n",
              "      border-top-color: var(--fill-color);\n",
              "      border-right-color: var(--fill-color);\n",
              "    }\n",
              "    40% {\n",
              "      border-color: transparent;\n",
              "      border-right-color: var(--fill-color);\n",
              "      border-top-color: var(--fill-color);\n",
              "    }\n",
              "    60% {\n",
              "      border-color: transparent;\n",
              "      border-right-color: var(--fill-color);\n",
              "    }\n",
              "    80% {\n",
              "      border-color: transparent;\n",
              "      border-right-color: var(--fill-color);\n",
              "      border-bottom-color: var(--fill-color);\n",
              "    }\n",
              "    90% {\n",
              "      border-color: transparent;\n",
              "      border-bottom-color: var(--fill-color);\n",
              "    }\n",
              "  }\n",
              "</style>\n",
              "\n",
              "      <script>\n",
              "        async function quickchart(key) {\n",
              "          const quickchartButtonEl =\n",
              "            document.querySelector('#' + key + ' button');\n",
              "          quickchartButtonEl.disabled = true;  // To prevent multiple clicks.\n",
              "          quickchartButtonEl.classList.add('colab-df-spinner');\n",
              "          try {\n",
              "            const charts = await google.colab.kernel.invokeFunction(\n",
              "                'suggestCharts', [key], {});\n",
              "          } catch (error) {\n",
              "            console.error('Error during call to suggestCharts:', error);\n",
              "          }\n",
              "          quickchartButtonEl.classList.remove('colab-df-spinner');\n",
              "          quickchartButtonEl.classList.add('colab-df-quickchart-complete');\n",
              "        }\n",
              "        (() => {\n",
              "          let quickchartButtonEl =\n",
              "            document.querySelector('#df-0cea4e48-d691-4608-8ca0-30bfca359bab button');\n",
              "          quickchartButtonEl.style.display =\n",
              "            google.colab.kernel.accessAllowed ? 'block' : 'none';\n",
              "        })();\n",
              "      </script>\n",
              "    </div>\n",
              "\n",
              "    </div>\n",
              "  </div>\n"
            ],
            "text/plain": [
              "   commentId  channelId  videoId  authorId  \\\n",
              "0    3166243      41024     6217     26499   \n",
              "1    1888757      10004    86296   2608986   \n",
              "2          0      10004    86296    164837   \n",
              "4    1279533       5459    64449    882554   \n",
              "5    2543589      32215    89804   1777705   \n",
              "\n",
              "                                        textOriginal  parentCommentId  \\\n",
              "0  Good Information... Will  definitely try it......              NaN   \n",
              "1  Crystal, is it true that beginning Campaign 3,...              NaN   \n",
              "2  Yes but I am charged $8 to cover your free shi...        1888757.0   \n",
              "4                                  Very useful video              NaN   \n",
              "5                              Osm three hair colour              NaN   \n",
              "\n",
              "   likeCount                publishedAt                  updatedAt  \\\n",
              "0          0  2020-01-01 16:00:58+00:00  2020-01-01 16:00:58+00:00   \n",
              "1          1  2020-01-04 07:49:54+00:00  2020-01-04 07:49:54+00:00   \n",
              "2          0  2020-01-04 07:53:24+00:00  2020-01-04 07:53:24+00:00   \n",
              "4          2  2020-01-04 10:32:19+00:00  2020-01-04 10:32:19+00:00   \n",
              "5          2  2020-01-04 13:07:46+00:00  2020-01-04 13:07:46+00:00   \n",
              "\n",
              "   duplicatedFlag                                        cleanedText  \\\n",
              "0               0             good information definitely try thanks   \n",
              "1               0  crystal true beginning campaign 3 order get fr...   \n",
              "2               0  yes charged $ 8 cover free shipping not rep wo...   \n",
              "4               0                                       useful video   \n",
              "5               0                              osm three hair colour   \n",
              "\n",
              "                                cleanedTextSentiment  regex_spam  \\\n",
              "0  good information definitely try thanks : smili...           0   \n",
              "1  crystal true beginning campaign 3 order get fr...           0   \n",
              "2  yes charged $ 8 cover free shipping not rep wo...           0   \n",
              "4                                       useful video           0   \n",
              "5                              osm three hair colour           0   \n",
              "\n",
              "   predicted_spam  isSpam  is_english  \n",
              "0             0.0       0           1  \n",
              "1             0.0       0           0  \n",
              "2             0.0       0           1  \n",
              "4             0.0       0           1  \n",
              "5             0.0       0           1  "
            ]
          },
          "execution_count": 9,
          "metadata": {},
          "output_type": "execute_result"
        }
      ],
      "source": [
        "filtered_comment.head()"
      ]
    }
  ],
  "metadata": {
    "colab": {
      "provenance": []
    },
    "kernelspec": {
      "display_name": "Python 3",
      "name": "python3"
    },
    "language_info": {
      "name": "python"
    }
  },
  "nbformat": 4,
  "nbformat_minor": 0
}
