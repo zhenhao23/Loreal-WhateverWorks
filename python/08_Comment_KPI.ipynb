{
 "cells": [
  {
   "cell_type": "markdown",
   "id": "23ded3b0",
   "metadata": {},
   "source": [
    "# Comment-Level KPI and Engagement Analysis\n",
    "\n",
    "This notebook provides a comprehensive workflow for analyzing YouTube comment data to extract key performance indicators (KPIs) and engagement metrics. The main objectives are to clean and preprocess comment data, perform sentiment and engagement analysis, and visualize results to gain actionable insights. The workflow includes:\n",
    "\n",
    "- **Data Loading and Cleaning:** Importing raw comment data and handling missing or inconsistent values.\n",
    "- **Preprocessing:** Text normalization, tokenization, and preparation for analysis.\n",
    "- **Sentiment Analysis:** Applying NLP techniques to classify comment sentiment (positive, negative, neutral).\n",
    "- **KPI Calculation:** Computing metrics such as comment counts, engagement rates, and sentiment distributions.\n",
    "- **Visualization:** Creating plots and tables to summarize findings and highlight trends.\n",
    "- **Exporting Results:** Saving processed data and visualizations for reporting or further analysis.\n",
    "\n",
    "This notebook is designed for reproducibility and clarity, with detailed markdown explanations and code comments throughout each step."
   ]
  },
  {
   "cell_type": "markdown",
   "id": "c4ee37a6",
   "metadata": {},
   "source": [
    "## Importing Required Libraries and Setting Display Options\n",
    "This cell imports all necessary libraries for data manipulation, visualization, and progress tracking. It also configures pandas display options for better readability and disables scientific notation and warnings."
   ]
  },
  {
   "cell_type": "code",
   "execution_count": null,
   "id": "81de5530",
   "metadata": {},
   "outputs": [],
   "source": [
    "# import necessary libraries\n",
    "import pandas as pd\n",
    "import numpy as np\n",
    "import matplotlib.pyplot as plt\n",
    "from tqdm import tqdm\n",
    "\n",
    "# Enable tqdm for pandas apply\n",
    "tqdm.pandas()\n",
    "\n",
    "# ignore warnings\n",
    "import warnings\n",
    "warnings.filterwarnings('ignore')\n",
    "\n",
    "# Show full text without truncation\n",
    "pd.set_option(\"display.max_colwidth\", None)\n",
    "pd.set_option(\"display.max_rows\", 500) \n",
    "\n",
    "# Disable scientific notation\n",
    "pd.set_option('display.float_format', '{:.6f}'.format)"
   ]
  },
  {
   "cell_type": "markdown",
   "id": "c64f755c",
   "metadata": {},
   "source": [
    "## Load Main Dataset\n",
    "This cell loads the main dataset containing YouTube comments and associated metadata, then displays its shape to confirm successful loading."
   ]
  },
  {
   "cell_type": "code",
   "execution_count": 2,
   "id": "bb1a5537",
   "metadata": {},
   "outputs": [
    {
     "data": {
      "text/plain": [
       "(2028655, 23)"
      ]
     },
     "execution_count": 2,
     "metadata": {},
     "output_type": "execute_result"
    }
   ],
   "source": [
    "df = pd.read_csv('dataset/final_after_spam_eng_relevance_sentiment_aspect_final_2M.csv')\n",
    "df.shape"
   ]
  },
  {
   "cell_type": "markdown",
   "id": "63154221",
   "metadata": {},
   "source": [
    "## Load Video Metadata\n",
    "This cell loads the cleaned and translated video metadata and displays its shape to confirm successful loading."
   ]
  },
  {
   "cell_type": "code",
   "execution_count": null,
   "id": "6eb3c80e",
   "metadata": {},
   "outputs": [
    {
     "data": {
      "text/plain": [
       "(91113, 21)"
      ]
     },
     "execution_count": 3,
     "metadata": {},
     "output_type": "execute_result"
    }
   ],
   "source": [
    "video = pd.read_csv(\"dataset/videos_cleaned_translated.csv\")\n",
    "video.shape"
   ]
  },
  {
   "cell_type": "markdown",
   "id": "0dbd89e9",
   "metadata": {},
   "source": [
    "## Prepare Video Metadata Subset\n",
    "This cell selects relevant columns from the video metadata, renames them with a prefix for clarity, and prepares the subset for merging with the main dataset."
   ]
  },
  {
   "cell_type": "code",
   "execution_count": null,
   "id": "eb817a60",
   "metadata": {},
   "outputs": [],
   "source": [
    "video_subset = video[['videoId', 'publishedAt', 'channelId', 'title', 'description', 'tags',\n",
    "                      'viewCount', 'likeCount', 'commentCount', \n",
    "                      'translated','extracted_topicCategories_str']]\n",
    "\n",
    "# Add prefix to all column names\n",
    "video_subset = video_subset.add_prefix(\"v_\")"
   ]
  },
  {
   "cell_type": "markdown",
   "id": "eb462985",
   "metadata": {},
   "source": [
    "##### Merge Videos to Comments "
   ]
  },
  {
   "cell_type": "markdown",
   "id": "354fa237",
   "metadata": {},
   "source": [
    "## Merge Video Metadata with Main Dataset\n",
    "This cell fills missing view counts, prints the shape of the main DataFrame before and after merging, and merges the video metadata into the main dataset using the videoId as the key."
   ]
  },
  {
   "cell_type": "code",
   "execution_count": 8,
   "id": "9b12bd3f",
   "metadata": {},
   "outputs": [
    {
     "name": "stdout",
     "output_type": "stream",
     "text": [
      "(2028655, 23)\n",
      "(2014093, 37)\n"
     ]
    }
   ],
   "source": [
    "# Replace missing view counts with 0\n",
    "video_subset['v_viewCount'] = video_subset['v_viewCount'].fillna(0)\n",
    "\n",
    "# Print shape of the main DataFrame before merging\n",
    "print(df.shape)\n",
    "\n",
    "# Merge video details into df using videoId as the key\n",
    "df = df.merge(video_subset, left_on='videoId', right_on='v_videoId', how='inner')\n",
    "\n",
    "# Print shape of the DataFrame after merging\n",
    "print(df.shape)\n"
   ]
  },
  {
   "cell_type": "markdown",
   "id": "6ed58f13",
   "metadata": {},
   "source": [
    "## Drop Unnecessary Columns\n",
    "This cell removes the 'Unnamed: 0' column from the DataFrame, which is often an artifact from CSV exports."
   ]
  },
  {
   "cell_type": "code",
   "execution_count": null,
   "id": "92e9c8f8",
   "metadata": {},
   "outputs": [],
   "source": [
    "df.drop(columns=['Unnamed: 0'], inplace=True)"
   ]
  },
  {
   "cell_type": "markdown",
   "id": "7ed142e7",
   "metadata": {},
   "source": [
    "## Analyze Comment Frequency\n",
    "This cell calculates how frequently each comment appears in the dataset and provides descriptive statistics for comment repetition."
   ]
  },
  {
   "cell_type": "code",
   "execution_count": 11,
   "id": "37f2a4d1",
   "metadata": {},
   "outputs": [
    {
     "data": {
      "text/plain": [
       "count   1598543.000000\n",
       "mean          1.259955\n",
       "std          19.492546\n",
       "min           1.000000\n",
       "25%           1.000000\n",
       "50%           1.000000\n",
       "75%           1.000000\n",
       "max       15740.000000\n",
       "Name: count, dtype: float64"
      ]
     },
     "execution_count": 11,
     "metadata": {},
     "output_type": "execute_result"
    }
   ],
   "source": [
    "# Find out how frequently a comment appears in the dataset \n",
    "comments_counts = df['cleanedText'].value_counts()\n",
    "comments_counts.describe().T"
   ]
  },
  {
   "cell_type": "markdown",
   "id": "a8c8822f",
   "metadata": {},
   "source": [
    "## Display Most Frequent Comments\n",
    "This cell displays the top 10 most frequent comments in the dataset."
   ]
  },
  {
   "cell_type": "code",
   "execution_count": 12,
   "id": "35be4c58",
   "metadata": {},
   "outputs": [
    {
     "data": {
      "text/plain": [
       "cleanedText\n",
       "beautiful               15740\n",
       "pretty                  11501\n",
       "love                     9638\n",
       "cute                     5838\n",
       "night look beautiful     3038\n",
       "look beautiful           2833\n",
       "gorgeous                 2595\n",
       "nice                     2492\n",
       "beautiful way            2104\n",
       "like                     2055\n",
       "Name: count, dtype: int64"
      ]
     },
     "execution_count": 12,
     "metadata": {},
     "output_type": "execute_result"
    }
   ],
   "source": [
    "comments_counts.head(10)"
   ]
  },
  {
   "cell_type": "markdown",
   "id": "53df3ccc",
   "metadata": {},
   "source": [
    "## Calculate Comment Frequency and Repetitiveness\n",
    "This cell maps the frequency of each comment to the DataFrame, calculates the repetitiveness as a proportion, and provides descriptive statistics for these new features."
   ]
  },
  {
   "cell_type": "code",
   "execution_count": 13,
   "id": "dd3e100f",
   "metadata": {},
   "outputs": [
    {
     "data": {
      "text/html": [
       "<div>\n",
       "<style scoped>\n",
       "    .dataframe tbody tr th:only-of-type {\n",
       "        vertical-align: middle;\n",
       "    }\n",
       "\n",
       "    .dataframe tbody tr th {\n",
       "        vertical-align: top;\n",
       "    }\n",
       "\n",
       "    .dataframe thead th {\n",
       "        text-align: right;\n",
       "    }\n",
       "</style>\n",
       "<table border=\"1\" class=\"dataframe\">\n",
       "  <thead>\n",
       "    <tr style=\"text-align: right;\">\n",
       "      <th></th>\n",
       "      <th>count</th>\n",
       "      <th>mean</th>\n",
       "      <th>std</th>\n",
       "      <th>min</th>\n",
       "      <th>25%</th>\n",
       "      <th>50%</th>\n",
       "      <th>75%</th>\n",
       "      <th>max</th>\n",
       "    </tr>\n",
       "  </thead>\n",
       "  <tbody>\n",
       "    <tr>\n",
       "      <th>comment_frequency</th>\n",
       "      <td>2014093.000000</td>\n",
       "      <td>302.825459</td>\n",
       "      <td>1794.138943</td>\n",
       "      <td>1.000000</td>\n",
       "      <td>1.000000</td>\n",
       "      <td>1.000000</td>\n",
       "      <td>1.000000</td>\n",
       "      <td>15740.000000</td>\n",
       "    </tr>\n",
       "    <tr>\n",
       "      <th>comment_repetitiveness</th>\n",
       "      <td>2014093.000000</td>\n",
       "      <td>0.000150</td>\n",
       "      <td>0.000891</td>\n",
       "      <td>0.000000</td>\n",
       "      <td>0.000000</td>\n",
       "      <td>0.000000</td>\n",
       "      <td>0.000000</td>\n",
       "      <td>0.007815</td>\n",
       "    </tr>\n",
       "  </tbody>\n",
       "</table>\n",
       "</div>"
      ],
      "text/plain": [
       "                                count       mean         std      min  \\\n",
       "comment_frequency      2014093.000000 302.825459 1794.138943 1.000000   \n",
       "comment_repetitiveness 2014093.000000   0.000150    0.000891 0.000000   \n",
       "\n",
       "                            25%      50%      75%          max  \n",
       "comment_frequency      1.000000 1.000000 1.000000 15740.000000  \n",
       "comment_repetitiveness 0.000000 0.000000 0.000000     0.007815  "
      ]
     },
     "execution_count": 13,
     "metadata": {},
     "output_type": "execute_result"
    }
   ],
   "source": [
    "df['comment_frequency'] = df['cleanedText'].map(comments_counts)\n",
    "df['comment_repetitiveness'] = df['comment_frequency'] / len(df)\n",
    "df[['comment_frequency', 'comment_repetitiveness']].describe().T"
   ]
  },
  {
   "cell_type": "markdown",
   "id": "22cd6a33",
   "metadata": {},
   "source": [
    "## Analyze Word Length in Comments\n",
    "This cell calculates the word length (token count) for each comment and provides descriptive statistics. It also sets up for determining the appropriate window size for further analysis."
   ]
  },
  {
   "cell_type": "code",
   "execution_count": 14,
   "id": "5461e3d9",
   "metadata": {},
   "outputs": [
    {
     "data": {
      "text/plain": [
       "count   2014093.000000\n",
       "mean          7.289324\n",
       "std          10.084477\n",
       "min           1.000000\n",
       "25%           3.000000\n",
       "50%           5.000000\n",
       "75%           8.000000\n",
       "max        1120.000000\n",
       "Name: word_length, dtype: float64"
      ]
     },
     "execution_count": 14,
     "metadata": {},
     "output_type": "execute_result"
    }
   ],
   "source": [
    "# Word length (token count) \n",
    "df['word_length'] = df['cleanedText'].str.split().str.len()\n",
    "df['word_length'].describe().T\n",
    "\n",
    "# Based on the mean and word length, we determine the right window size. "
   ]
  },
  {
   "cell_type": "markdown",
   "id": "9f5d568c",
   "metadata": {},
   "source": [
    "## Define MATTR Calculation Function\n",
    "This cell defines a function to calculate the Moving-Average Type-Token Ratio (MATTR) for a given comment, which is a measure of lexical diversity using a sliding window approach."
   ]
  },
  {
   "cell_type": "code",
   "execution_count": 15,
   "id": "78a976ce",
   "metadata": {},
   "outputs": [],
   "source": [
    "# Function to calculate MATTR for one comment\n",
    "def calc_mattr(tokens, window_size=10):\n",
    "    if len(tokens) == 0:\n",
    "        return 0\n",
    "    if len(tokens) <= window_size:\n",
    "        # Just return normal TTR if comment is shorter than the window\n",
    "        return len(set(tokens)) / len(tokens)\n",
    "    \n",
    "    # Sliding window TTR\n",
    "    ttr_values = []\n",
    "    for i in range(len(tokens) - window_size + 1):\n",
    "        window = tokens[i:i+window_size]\n",
    "        ttr_values.append(len(set(window)) / window_size)\n",
    "    \n",
    "    return sum(ttr_values) / len(ttr_values)"
   ]
  },
  {
   "cell_type": "markdown",
   "id": "01296874",
   "metadata": {},
   "source": [
    "## Apply MATTR and TTR to Comments\n",
    "This cell applies the MATTR function to each comment to measure lexical diversity, and also calculates the Type-Token Ratio (TTR) for each comment."
   ]
  },
  {
   "cell_type": "code",
   "execution_count": 16,
   "id": "a5800e57",
   "metadata": {},
   "outputs": [
    {
     "name": "stderr",
     "output_type": "stream",
     "text": [
      "100%|██████████| 2014093/2014093 [00:07<00:00, 273342.65it/s]\n",
      "100%|██████████| 2014093/2014093 [00:03<00:00, 529683.37it/s]\n"
     ]
    }
   ],
   "source": [
    "# Apply MATTR at comment level\n",
    "df[\"MATTR\"] = df[\"cleanedText\"].str.split().progress_apply(lambda x: calc_mattr(x, window_size=10))\n",
    "\n",
    "# Calculate TTR (Type-Token Ratio)\n",
    "df[\"TTR\"] = df[\"cleanedText\"].str.split().progress_apply(\n",
    "    lambda x: len(set(x)) / len(x) if len(x) > 0 else 0\n",
    ")\n"
   ]
  },
  {
   "cell_type": "markdown",
   "id": "9276287d",
   "metadata": {},
   "source": [
    "## Visualize and Correlate Lexical Diversity\n",
    "This cell creates scatter plots to compare TTR and MATTR against comment length, and calculates the correlation between comment length and both metrics."
   ]
  },
  {
   "cell_type": "code",
   "execution_count": null,
   "id": "1f1d5da7",
   "metadata": {},
   "outputs": [
    {
     "data": {
      "image/png": "[encoded data removed]",
      "text/plain": [
       "<Figure size 1200x500 with 2 Axes>"
      ]
     },
     "metadata": {},
     "output_type": "display_data"
    },
    {
     "name": "stdout",
     "output_type": "stream",
     "text": [
      "Correlation between comment length and TTR: -0.455\n",
      "Correlation between comment length and MATTR: -0.193\n"
     ]
    }
   ],
   "source": [
    "# Compare TTR to MATTR\n",
    "# === Scatter plots ===\n",
    "plt.figure(figsize=(12,5))\n",
    "\n",
    "# TTR scatter\n",
    "plt.subplot(1,2,1)\n",
    "plt.scatter(df[\"word_length\"], df[\"TTR\"], alpha=0.3, s=10)\n",
    "plt.xlabel(\"Comment Length (words)\")\n",
    "plt.ylabel(\"TTR\")\n",
    "plt.title(\"TTR vs Comment Length\")\n",
    "\n",
    "# MATTR scatter\n",
    "plt.subplot(1,2,2)\n",
    "plt.scatter(df[\"word_length\"], df[\"MATTR\"], alpha=0.3, s=10, color=\"orange\")\n",
    "plt.xlabel(\"Comment Length (words)\")\n",
    "plt.ylabel(\"MATTR\")\n",
    "plt.title(\"MATTR vs Comment Length\")\n",
    "\n",
    "plt.tight_layout()\n",
    "plt.show()\n",
    "\n",
    "# === Correlation check ===\n",
    "corr_ttr = df[\"word_length\"].corr(df[\"TTR\"])\n",
    "corr_mattr = df[\"word_length\"].corr(df[\"MATTR\"])\n",
    "\n",
    "print(f\"Correlation between comment length and TTR: {corr_ttr:.3f}\")\n",
    "print(f\"Correlation between comment length and MATTR: {corr_mattr:.3f}\")\n"
   ]
  },
  {
   "cell_type": "markdown",
   "id": "a202b22f",
   "metadata": {},
   "source": [
    "## Summarize Engagement Metrics\n",
    "This cell provides descriptive statistics for view and like counts, which are used to assess comment engagement."
   ]
  },
  {
   "cell_type": "code",
   "execution_count": 18,
   "id": "7354ca4c",
   "metadata": {},
   "outputs": [
    {
     "data": {
      "text/html": [
       "<div>\n",
       "<style scoped>\n",
       "    .dataframe tbody tr th:only-of-type {\n",
       "        vertical-align: middle;\n",
       "    }\n",
       "\n",
       "    .dataframe tbody tr th {\n",
       "        vertical-align: top;\n",
       "    }\n",
       "\n",
       "    .dataframe thead th {\n",
       "        text-align: right;\n",
       "    }\n",
       "</style>\n",
       "<table border=\"1\" class=\"dataframe\">\n",
       "  <thead>\n",
       "    <tr style=\"text-align: right;\">\n",
       "      <th></th>\n",
       "      <th>count</th>\n",
       "      <th>mean</th>\n",
       "      <th>std</th>\n",
       "      <th>min</th>\n",
       "      <th>25%</th>\n",
       "      <th>50%</th>\n",
       "      <th>75%</th>\n",
       "      <th>max</th>\n",
       "    </tr>\n",
       "  </thead>\n",
       "  <tbody>\n",
       "    <tr>\n",
       "      <th>v_viewCount</th>\n",
       "      <td>2014093.000000</td>\n",
       "      <td>18132337.984750</td>\n",
       "      <td>26486118.703819</td>\n",
       "      <td>0.000000</td>\n",
       "      <td>1841570.000000</td>\n",
       "      <td>8315555.000000</td>\n",
       "      <td>23657752.000000</td>\n",
       "      <td>405748145.000000</td>\n",
       "    </tr>\n",
       "    <tr>\n",
       "      <th>likeCount</th>\n",
       "      <td>2014093.000000</td>\n",
       "      <td>19.011844</td>\n",
       "      <td>793.312637</td>\n",
       "      <td>0.000000</td>\n",
       "      <td>0.000000</td>\n",
       "      <td>0.000000</td>\n",
       "      <td>0.000000</td>\n",
       "      <td>456142.000000</td>\n",
       "    </tr>\n",
       "  </tbody>\n",
       "</table>\n",
       "</div>"
      ],
      "text/plain": [
       "                     count            mean             std      min  \\\n",
       "v_viewCount 2014093.000000 18132337.984750 26486118.703819 0.000000   \n",
       "likeCount   2014093.000000       19.011844      793.312637 0.000000   \n",
       "\n",
       "                       25%            50%             75%              max  \n",
       "v_viewCount 1841570.000000 8315555.000000 23657752.000000 405748145.000000  \n",
       "likeCount         0.000000       0.000000        0.000000    456142.000000  "
      ]
     },
     "execution_count": 18,
     "metadata": {},
     "output_type": "execute_result"
    }
   ],
   "source": [
    "df[['v_viewCount', 'likeCount']].describe().T"
   ]
  },
  {
   "cell_type": "markdown",
   "id": "8e23cc56",
   "metadata": {},
   "source": [
    "## Calculate Engagement Score\n",
    "This cell calculates an engagement score for each comment based on the ratio of likes to views, and provides descriptive statistics for this new metric."
   ]
  },
  {
   "cell_type": "code",
   "execution_count": 19,
   "id": "0fcaa620",
   "metadata": {},
   "outputs": [
    {
     "name": "stderr",
     "output_type": "stream",
     "text": [
      "100%|██████████| 2014093/2014093 [00:25<00:00, 77474.80it/s] \n"
     ]
    },
    {
     "data": {
      "text/plain": [
       "count   2014093.000000\n",
       "mean          0.000030\n",
       "std           0.000998\n",
       "min           0.000000\n",
       "25%           0.000000\n",
       "50%           0.000000\n",
       "75%           0.000000\n",
       "max           0.571429\n",
       "Name: engagementScore, dtype: float64"
      ]
     },
     "execution_count": 19,
     "metadata": {},
     "output_type": "execute_result"
    }
   ],
   "source": [
    "df['engagementScore'] = df.progress_apply(\n",
    "    lambda row: row['likeCount'] / row['v_viewCount'] if row['v_viewCount'] > 0 else 0,\n",
    "    axis=1\n",
    ")\n",
    "\n",
    "df['engagementScore'].describe().T"
   ]
  },
  {
   "cell_type": "markdown",
   "id": "913dd3dc",
   "metadata": {},
   "source": [
    "## Assign Sentiment Labels\n",
    "This cell calculates the sentiment magnitude for each comment and assigns a sentiment label (positive, negative, or neutral) based on the highest score."
   ]
  },
  {
   "cell_type": "code",
   "execution_count": 20,
   "id": "7850a15d",
   "metadata": {},
   "outputs": [
    {
     "data": {
      "text/plain": [
       "sentiment_label\n",
       "positive    1059534\n",
       "negative     901497\n",
       "neutral       53062\n",
       "Name: count, dtype: int64"
      ]
     },
     "execution_count": 20,
     "metadata": {},
     "output_type": "execute_result"
    }
   ],
   "source": [
    "df['sentiment_magnitude'] = df[['positive', 'negative']].max(axis=1)\n",
    "\n",
    "# Get column with max score\n",
    "df['sentiment_label'] = df[['positive', 'negative', 'neutral']].idxmax(axis=1)\n",
    "df['sentiment_label'].value_counts()"
   ]
  },
  {
   "cell_type": "markdown",
   "id": "e02136c2",
   "metadata": {},
   "source": [
    "## Calculate Constructiveness Metrics\n",
    "This cell calculates the number of aspects per comment, counts the number of polarized aspects (positive or negative), and computes the ratio of polarized aspects to total aspects for each comment."
   ]
  },
  {
   "cell_type": "code",
   "execution_count": 21,
   "id": "b5b4eac0",
   "metadata": {},
   "outputs": [
    {
     "name": "stderr",
     "output_type": "stream",
     "text": [
      "100%|██████████| 2014093/2014093 [00:22<00:00, 91424.03it/s] \n",
      "100%|██████████| 2014093/2014093 [00:03<00:00, 556255.91it/s]\n",
      "100%|██████████| 2014093/2014093 [00:22<00:00, 89291.16it/s] \n"
     ]
    }
   ],
   "source": [
    "import ast\n",
    "\n",
    "# Count number of aspects (convert string to list if needed)\n",
    "df['aspect_count'] = df['aspect'].progress_apply(\n",
    "    lambda x: len(ast.literal_eval(x)) if isinstance(x, str) else len(x)\n",
    ")\n",
    "\n",
    "# Count Positive + Negative sentiments\n",
    "df['polarized_aspect_count'] = df['sentiment'].progress_apply(\n",
    "    lambda s: s.count('Positive') + s.count('Negative')\n",
    ")\n",
    "\n",
    "# Compute ratio: (Positive + Negative) / total aspects\n",
    "df['polarized_aspect_ratio'] = df.progress_apply(\n",
    "    lambda row: row['polarized_aspect_count'] / row['aspect_count']\n",
    "    if row['aspect_count'] > 0 else 0,\n",
    "    axis=1\n",
    ")\n"
   ]
  },
  {
   "cell_type": "markdown",
   "id": "1889bd47",
   "metadata": {},
   "source": [
    "## Scale Relevance Score\n",
    "This cell scales the relevance score to ensure all values are between 0 and 1, which is important for combining with other metrics."
   ]
  },
  {
   "cell_type": "code",
   "execution_count": 23,
   "id": "47315d83",
   "metadata": {},
   "outputs": [],
   "source": [
    "df['relevance_score_scaled'] = np.clip(df['relevance_score'], 0, 1)"
   ]
  },
  {
   "cell_type": "markdown",
   "id": "a7df0c6a",
   "metadata": {},
   "source": [
    "## Log-Transform Word Length\n",
    "This cell applies a log transformation to the word length feature to reduce skewness and improve scaling for further analysis."
   ]
  },
  {
   "cell_type": "code",
   "execution_count": 24,
   "id": "76358810",
   "metadata": {},
   "outputs": [],
   "source": [
    "df['word_length'] = np.log1p(df['word_length'])"
   ]
  },
  {
   "cell_type": "code",
   "execution_count": 25,
   "id": "ad9b502c",
   "metadata": {},
   "outputs": [
    {
     "data": {
      "text/plain": [
       "count   2014093.000000\n",
       "mean          1.832578\n",
       "std           0.686040\n",
       "min           0.693147\n",
       "25%           1.386294\n",
       "50%           1.791759\n",
       "75%           2.197225\n",
       "max           7.021976\n",
       "Name: word_length, dtype: float64"
      ]
     },
     "execution_count": 25,
     "metadata": {},
     "output_type": "execute_result"
    }
   ],
   "source": [
    "df['word_length'].describe().T"
   ]
  },
  {
   "cell_type": "markdown",
   "id": "6c722f43",
   "metadata": {},
   "source": [
    "## Scale Key Features\n",
    "This cell uses MinMaxScaler to scale selected features to the [0, 1] range, preparing them for use in the KPI calculation."
   ]
  },
  {
   "cell_type": "code",
   "execution_count": 26,
   "id": "e6286d0e",
   "metadata": {},
   "outputs": [
    {
     "data": {
      "text/html": [
       "<div>\n",
       "<style scoped>\n",
       "    .dataframe tbody tr th:only-of-type {\n",
       "        vertical-align: middle;\n",
       "    }\n",
       "\n",
       "    .dataframe tbody tr th {\n",
       "        vertical-align: top;\n",
       "    }\n",
       "\n",
       "    .dataframe thead th {\n",
       "        text-align: right;\n",
       "    }\n",
       "</style>\n",
       "<table border=\"1\" class=\"dataframe\">\n",
       "  <thead>\n",
       "    <tr style=\"text-align: right;\">\n",
       "      <th></th>\n",
       "      <th>polarized_aspect_count_scaled</th>\n",
       "      <th>comment_repetitiveness_scaled</th>\n",
       "      <th>engagementScore_scaled</th>\n",
       "      <th>word_length_scaled</th>\n",
       "    </tr>\n",
       "  </thead>\n",
       "  <tbody>\n",
       "    <tr>\n",
       "      <th>0</th>\n",
       "      <td>0.083333</td>\n",
       "      <td>0.000000</td>\n",
       "      <td>0.000000</td>\n",
       "      <td>0.173589</td>\n",
       "    </tr>\n",
       "    <tr>\n",
       "      <th>1</th>\n",
       "      <td>0.083333</td>\n",
       "      <td>0.000000</td>\n",
       "      <td>0.000000</td>\n",
       "      <td>0.283111</td>\n",
       "    </tr>\n",
       "    <tr>\n",
       "      <th>2</th>\n",
       "      <td>0.083333</td>\n",
       "      <td>0.002097</td>\n",
       "      <td>0.000135</td>\n",
       "      <td>0.064066</td>\n",
       "    </tr>\n",
       "    <tr>\n",
       "      <th>3</th>\n",
       "      <td>0.083333</td>\n",
       "      <td>0.000000</td>\n",
       "      <td>0.000630</td>\n",
       "      <td>0.144780</td>\n",
       "    </tr>\n",
       "    <tr>\n",
       "      <th>4</th>\n",
       "      <td>0.083333</td>\n",
       "      <td>0.000000</td>\n",
       "      <td>0.000000</td>\n",
       "      <td>0.109522</td>\n",
       "    </tr>\n",
       "  </tbody>\n",
       "</table>\n",
       "</div>"
      ],
      "text/plain": [
       "   polarized_aspect_count_scaled  comment_repetitiveness_scaled  \\\n",
       "0                       0.083333                       0.000000   \n",
       "1                       0.083333                       0.000000   \n",
       "2                       0.083333                       0.002097   \n",
       "3                       0.083333                       0.000000   \n",
       "4                       0.083333                       0.000000   \n",
       "\n",
       "   engagementScore_scaled  word_length_scaled  \n",
       "0                0.000000            0.173589  \n",
       "1                0.000000            0.283111  \n",
       "2                0.000135            0.064066  \n",
       "3                0.000630            0.144780  \n",
       "4                0.000000            0.109522  "
      ]
     },
     "execution_count": 26,
     "metadata": {},
     "output_type": "execute_result"
    }
   ],
   "source": [
    "from sklearn.preprocessing import MinMaxScaler\n",
    "\n",
    "# Columns to scale\n",
    "cols_to_scale = ['polarized_aspect_count', 'comment_repetitiveness', 'engagementScore', 'word_length']\n",
    "\n",
    "# Initialize scaler\n",
    "scaler = MinMaxScaler()\n",
    "\n",
    "# Fit and transform\n",
    "scaled_values = scaler.fit_transform(df[cols_to_scale])\n",
    "\n",
    "# Add scaled columns with a suffix '_scaled'\n",
    "for i, col in enumerate(cols_to_scale):\n",
    "    df[col + '_scaled'] = scaled_values[:, i]\n",
    "\n",
    "# Check result\n",
    "df[[col + '_scaled' for col in cols_to_scale]].head()"
   ]
  },
  {
   "cell_type": "markdown",
   "id": "7943959c",
   "metadata": {},
   "source": [
    "## Describe Numeric Columns\n",
    "This cell provides a transposed summary of all numeric columns in the DataFrame, showing key statistics for each feature."
   ]
  },
  {
   "cell_type": "code",
   "execution_count": 27,
   "id": "44b17e91",
   "metadata": {},
   "outputs": [
    {
     "data": {
      "text/html": [
       "<div>\n",
       "<style scoped>\n",
       "    .dataframe tbody tr th:only-of-type {\n",
       "        vertical-align: middle;\n",
       "    }\n",
       "\n",
       "    .dataframe tbody tr th {\n",
       "        vertical-align: top;\n",
       "    }\n",
       "\n",
       "    .dataframe thead th {\n",
       "        text-align: right;\n",
       "    }\n",
       "</style>\n",
       "<table border=\"1\" class=\"dataframe\">\n",
       "  <thead>\n",
       "    <tr style=\"text-align: right;\">\n",
       "      <th></th>\n",
       "      <th>count</th>\n",
       "      <th>mean</th>\n",
       "      <th>std</th>\n",
       "      <th>min</th>\n",
       "      <th>25%</th>\n",
       "      <th>50%</th>\n",
       "      <th>75%</th>\n",
       "      <th>max</th>\n",
       "    </tr>\n",
       "  </thead>\n",
       "  <tbody>\n",
       "    <tr>\n",
       "      <th>commentId</th>\n",
       "      <td>2014093.000000</td>\n",
       "      <td>2392990.044585</td>\n",
       "      <td>1349409.077649</td>\n",
       "      <td>0.000000</td>\n",
       "      <td>1229192.000000</td>\n",
       "      <td>2395276.000000</td>\n",
       "      <td>3561061.000000</td>\n",
       "      <td>4725015.000000</td>\n",
       "    </tr>\n",
       "    <tr>\n",
       "      <th>channelId</th>\n",
       "      <td>2014093.000000</td>\n",
       "      <td>26594.173586</td>\n",
       "      <td>15000.551109</td>\n",
       "      <td>1.000000</td>\n",
       "      <td>14429.000000</td>\n",
       "      <td>25475.000000</td>\n",
       "      <td>40271.000000</td>\n",
       "      <td>53677.000000</td>\n",
       "    </tr>\n",
       "    <tr>\n",
       "      <th>videoId</th>\n",
       "      <td>2014093.000000</td>\n",
       "      <td>46747.864226</td>\n",
       "      <td>26053.460335</td>\n",
       "      <td>2.000000</td>\n",
       "      <td>25694.000000</td>\n",
       "      <td>47096.000000</td>\n",
       "      <td>69191.000000</td>\n",
       "      <td>92854.000000</td>\n",
       "    </tr>\n",
       "    <tr>\n",
       "      <th>authorId</th>\n",
       "      <td>2014093.000000</td>\n",
       "      <td>1785780.998183</td>\n",
       "      <td>1037899.731257</td>\n",
       "      <td>1.000000</td>\n",
       "      <td>883767.000000</td>\n",
       "      <td>1784786.000000</td>\n",
       "      <td>2657992.000000</td>\n",
       "      <td>3659440.000000</td>\n",
       "    </tr>\n",
       "    <tr>\n",
       "      <th>parentCommentId</th>\n",
       "      <td>195718.000000</td>\n",
       "      <td>2619018.627454</td>\n",
       "      <td>1214276.956844</td>\n",
       "      <td>516151.000000</td>\n",
       "      <td>1567555.000000</td>\n",
       "      <td>2620141.000000</td>\n",
       "      <td>3671640.500000</td>\n",
       "      <td>4725006.000000</td>\n",
       "    </tr>\n",
       "    <tr>\n",
       "      <th>likeCount</th>\n",
       "      <td>2014093.000000</td>\n",
       "      <td>19.011844</td>\n",
       "      <td>793.312637</td>\n",
       "      <td>0.000000</td>\n",
       "      <td>0.000000</td>\n",
       "      <td>0.000000</td>\n",
       "      <td>0.000000</td>\n",
       "      <td>456142.000000</td>\n",
       "    </tr>\n",
       "    <tr>\n",
       "      <th>duplicatedFlag</th>\n",
       "      <td>2014093.000000</td>\n",
       "      <td>0.000000</td>\n",
       "      <td>0.000000</td>\n",
       "      <td>0.000000</td>\n",
       "      <td>0.000000</td>\n",
       "      <td>0.000000</td>\n",
       "      <td>0.000000</td>\n",
       "      <td>0.000000</td>\n",
       "    </tr>\n",
       "    <tr>\n",
       "      <th>regex_spam</th>\n",
       "      <td>2014093.000000</td>\n",
       "      <td>0.000000</td>\n",
       "      <td>0.000000</td>\n",
       "      <td>0.000000</td>\n",
       "      <td>0.000000</td>\n",
       "      <td>0.000000</td>\n",
       "      <td>0.000000</td>\n",
       "      <td>0.000000</td>\n",
       "    </tr>\n",
       "    <tr>\n",
       "      <th>predicted_spam</th>\n",
       "      <td>2014093.000000</td>\n",
       "      <td>0.000000</td>\n",
       "      <td>0.000000</td>\n",
       "      <td>0.000000</td>\n",
       "      <td>0.000000</td>\n",
       "      <td>0.000000</td>\n",
       "      <td>0.000000</td>\n",
       "      <td>0.000000</td>\n",
       "    </tr>\n",
       "    <tr>\n",
       "      <th>isSpam</th>\n",
       "      <td>2014093.000000</td>\n",
       "      <td>0.000000</td>\n",
       "      <td>0.000000</td>\n",
       "      <td>0.000000</td>\n",
       "      <td>0.000000</td>\n",
       "      <td>0.000000</td>\n",
       "      <td>0.000000</td>\n",
       "      <td>0.000000</td>\n",
       "    </tr>\n",
       "    <tr>\n",
       "      <th>is_english</th>\n",
       "      <td>2014093.000000</td>\n",
       "      <td>1.000000</td>\n",
       "      <td>0.000000</td>\n",
       "      <td>1.000000</td>\n",
       "      <td>1.000000</td>\n",
       "      <td>1.000000</td>\n",
       "      <td>1.000000</td>\n",
       "      <td>1.000000</td>\n",
       "    </tr>\n",
       "    <tr>\n",
       "      <th>relevance_score</th>\n",
       "      <td>2014093.000000</td>\n",
       "      <td>0.254786</td>\n",
       "      <td>0.164690</td>\n",
       "      <td>-0.183217</td>\n",
       "      <td>0.129382</td>\n",
       "      <td>0.220352</td>\n",
       "      <td>0.363327</td>\n",
       "      <td>1.000000</td>\n",
       "    </tr>\n",
       "    <tr>\n",
       "      <th>negative</th>\n",
       "      <td>2014093.000000</td>\n",
       "      <td>0.379152</td>\n",
       "      <td>0.304920</td>\n",
       "      <td>0.001577</td>\n",
       "      <td>0.082756</td>\n",
       "      <td>0.322908</td>\n",
       "      <td>0.645910</td>\n",
       "      <td>0.997534</td>\n",
       "    </tr>\n",
       "    <tr>\n",
       "      <th>neutral</th>\n",
       "      <td>2014093.000000</td>\n",
       "      <td>0.171539</td>\n",
       "      <td>0.105011</td>\n",
       "      <td>0.000888</td>\n",
       "      <td>0.088486</td>\n",
       "      <td>0.167936</td>\n",
       "      <td>0.235509</td>\n",
       "      <td>0.977352</td>\n",
       "    </tr>\n",
       "    <tr>\n",
       "      <th>positive</th>\n",
       "      <td>2014093.000000</td>\n",
       "      <td>0.449309</td>\n",
       "      <td>0.327700</td>\n",
       "      <td>0.000656</td>\n",
       "      <td>0.128780</td>\n",
       "      <td>0.418735</td>\n",
       "      <td>0.761364</td>\n",
       "      <td>0.997136</td>\n",
       "    </tr>\n",
       "    <tr>\n",
       "      <th>v_videoId</th>\n",
       "      <td>2014093.000000</td>\n",
       "      <td>46747.864226</td>\n",
       "      <td>26053.460335</td>\n",
       "      <td>2.000000</td>\n",
       "      <td>25694.000000</td>\n",
       "      <td>47096.000000</td>\n",
       "      <td>69191.000000</td>\n",
       "      <td>92854.000000</td>\n",
       "    </tr>\n",
       "    <tr>\n",
       "      <th>v_channelId</th>\n",
       "      <td>2014093.000000</td>\n",
       "      <td>26594.173586</td>\n",
       "      <td>15000.551109</td>\n",
       "      <td>1.000000</td>\n",
       "      <td>14429.000000</td>\n",
       "      <td>25475.000000</td>\n",
       "      <td>40271.000000</td>\n",
       "      <td>53677.000000</td>\n",
       "    </tr>\n",
       "    <tr>\n",
       "      <th>v_viewCount</th>\n",
       "      <td>2014093.000000</td>\n",
       "      <td>18132337.984750</td>\n",
       "      <td>26486118.703819</td>\n",
       "      <td>0.000000</td>\n",
       "      <td>1841570.000000</td>\n",
       "      <td>8315555.000000</td>\n",
       "      <td>23657752.000000</td>\n",
       "      <td>405748145.000000</td>\n",
       "    </tr>\n",
       "    <tr>\n",
       "      <th>v_likeCount</th>\n",
       "      <td>1935253.000000</td>\n",
       "      <td>682050.108665</td>\n",
       "      <td>895637.026542</td>\n",
       "      <td>0.000000</td>\n",
       "      <td>73940.000000</td>\n",
       "      <td>312360.000000</td>\n",
       "      <td>908423.000000</td>\n",
       "      <td>7162433.000000</td>\n",
       "    </tr>\n",
       "    <tr>\n",
       "      <th>v_commentCount</th>\n",
       "      <td>2014093.000000</td>\n",
       "      <td>11144.285390</td>\n",
       "      <td>15942.397723</td>\n",
       "      <td>0.000000</td>\n",
       "      <td>1038.000000</td>\n",
       "      <td>4514.000000</td>\n",
       "      <td>15170.000000</td>\n",
       "      <td>101405.000000</td>\n",
       "    </tr>\n",
       "    <tr>\n",
       "      <th>v_dominant_topic</th>\n",
       "      <td>2012387.000000</td>\n",
       "      <td>1.698847</td>\n",
       "      <td>1.167915</td>\n",
       "      <td>0.000000</td>\n",
       "      <td>1.000000</td>\n",
       "      <td>1.000000</td>\n",
       "      <td>3.000000</td>\n",
       "      <td>4.000000</td>\n",
       "    </tr>\n",
       "    <tr>\n",
       "      <th>v_topic_confidence</th>\n",
       "      <td>2012387.000000</td>\n",
       "      <td>0.633752</td>\n",
       "      <td>0.168577</td>\n",
       "      <td>0.200000</td>\n",
       "      <td>0.491554</td>\n",
       "      <td>0.614853</td>\n",
       "      <td>0.781897</td>\n",
       "      <td>0.952719</td>\n",
       "    </tr>\n",
       "    <tr>\n",
       "      <th>comment_frequency</th>\n",
       "      <td>2014093.000000</td>\n",
       "      <td>302.825459</td>\n",
       "      <td>1794.138943</td>\n",
       "      <td>1.000000</td>\n",
       "      <td>1.000000</td>\n",
       "      <td>1.000000</td>\n",
       "      <td>1.000000</td>\n",
       "      <td>15740.000000</td>\n",
       "    </tr>\n",
       "    <tr>\n",
       "      <th>comment_repetitiveness</th>\n",
       "      <td>2014093.000000</td>\n",
       "      <td>0.000150</td>\n",
       "      <td>0.000891</td>\n",
       "      <td>0.000000</td>\n",
       "      <td>0.000000</td>\n",
       "      <td>0.000000</td>\n",
       "      <td>0.000000</td>\n",
       "      <td>0.007815</td>\n",
       "    </tr>\n",
       "    <tr>\n",
       "      <th>word_length</th>\n",
       "      <td>2014093.000000</td>\n",
       "      <td>1.832578</td>\n",
       "      <td>0.686040</td>\n",
       "      <td>0.693147</td>\n",
       "      <td>1.386294</td>\n",
       "      <td>1.791759</td>\n",
       "      <td>2.197225</td>\n",
       "      <td>7.021976</td>\n",
       "    </tr>\n",
       "    <tr>\n",
       "      <th>MATTR</th>\n",
       "      <td>2014093.000000</td>\n",
       "      <td>0.977438</td>\n",
       "      <td>0.062595</td>\n",
       "      <td>0.100000</td>\n",
       "      <td>1.000000</td>\n",
       "      <td>1.000000</td>\n",
       "      <td>1.000000</td>\n",
       "      <td>1.000000</td>\n",
       "    </tr>\n",
       "    <tr>\n",
       "      <th>TTR</th>\n",
       "      <td>2014093.000000</td>\n",
       "      <td>0.969408</td>\n",
       "      <td>0.074607</td>\n",
       "      <td>0.002857</td>\n",
       "      <td>1.000000</td>\n",
       "      <td>1.000000</td>\n",
       "      <td>1.000000</td>\n",
       "      <td>1.000000</td>\n",
       "    </tr>\n",
       "    <tr>\n",
       "      <th>engagementScore</th>\n",
       "      <td>2014093.000000</td>\n",
       "      <td>0.000030</td>\n",
       "      <td>0.000998</td>\n",
       "      <td>0.000000</td>\n",
       "      <td>0.000000</td>\n",
       "      <td>0.000000</td>\n",
       "      <td>0.000000</td>\n",
       "      <td>0.571429</td>\n",
       "    </tr>\n",
       "    <tr>\n",
       "      <th>sentiment_magnitude</th>\n",
       "      <td>2014093.000000</td>\n",
       "      <td>0.692045</td>\n",
       "      <td>0.189304</td>\n",
       "      <td>0.016424</td>\n",
       "      <td>0.529670</td>\n",
       "      <td>0.703190</td>\n",
       "      <td>0.863097</td>\n",
       "      <td>0.997534</td>\n",
       "    </tr>\n",
       "    <tr>\n",
       "      <th>aspect_count</th>\n",
       "      <td>2014093.000000</td>\n",
       "      <td>0.591195</td>\n",
       "      <td>0.547541</td>\n",
       "      <td>0.000000</td>\n",
       "      <td>0.000000</td>\n",
       "      <td>1.000000</td>\n",
       "      <td>1.000000</td>\n",
       "      <td>16.000000</td>\n",
       "    </tr>\n",
       "    <tr>\n",
       "      <th>polarized_aspect_count</th>\n",
       "      <td>2014093.000000</td>\n",
       "      <td>0.353474</td>\n",
       "      <td>0.518447</td>\n",
       "      <td>0.000000</td>\n",
       "      <td>0.000000</td>\n",
       "      <td>0.000000</td>\n",
       "      <td>1.000000</td>\n",
       "      <td>12.000000</td>\n",
       "    </tr>\n",
       "    <tr>\n",
       "      <th>polarized_aspect_ratio</th>\n",
       "      <td>2014093.000000</td>\n",
       "      <td>0.333622</td>\n",
       "      <td>0.470506</td>\n",
       "      <td>0.000000</td>\n",
       "      <td>0.000000</td>\n",
       "      <td>0.000000</td>\n",
       "      <td>1.000000</td>\n",
       "      <td>1.000000</td>\n",
       "    </tr>\n",
       "    <tr>\n",
       "      <th>relevance_score_scaled</th>\n",
       "      <td>2014093.000000</td>\n",
       "      <td>0.255211</td>\n",
       "      <td>0.163972</td>\n",
       "      <td>0.000000</td>\n",
       "      <td>0.129382</td>\n",
       "      <td>0.220352</td>\n",
       "      <td>0.363327</td>\n",
       "      <td>1.000000</td>\n",
       "    </tr>\n",
       "    <tr>\n",
       "      <th>polarized_aspect_count_scaled</th>\n",
       "      <td>2014093.000000</td>\n",
       "      <td>0.029456</td>\n",
       "      <td>0.043204</td>\n",
       "      <td>0.000000</td>\n",
       "      <td>0.000000</td>\n",
       "      <td>0.000000</td>\n",
       "      <td>0.083333</td>\n",
       "      <td>1.000000</td>\n",
       "    </tr>\n",
       "    <tr>\n",
       "      <th>comment_repetitiveness_scaled</th>\n",
       "      <td>2014093.000000</td>\n",
       "      <td>0.019177</td>\n",
       "      <td>0.113993</td>\n",
       "      <td>0.000000</td>\n",
       "      <td>0.000000</td>\n",
       "      <td>0.000000</td>\n",
       "      <td>0.000000</td>\n",
       "      <td>1.000000</td>\n",
       "    </tr>\n",
       "    <tr>\n",
       "      <th>engagementScore_scaled</th>\n",
       "      <td>2014093.000000</td>\n",
       "      <td>0.000052</td>\n",
       "      <td>0.001747</td>\n",
       "      <td>0.000000</td>\n",
       "      <td>0.000000</td>\n",
       "      <td>0.000000</td>\n",
       "      <td>0.000000</td>\n",
       "      <td>1.000000</td>\n",
       "    </tr>\n",
       "    <tr>\n",
       "      <th>word_length_scaled</th>\n",
       "      <td>2014093.000000</td>\n",
       "      <td>0.180038</td>\n",
       "      <td>0.108399</td>\n",
       "      <td>0.000000</td>\n",
       "      <td>0.109522</td>\n",
       "      <td>0.173589</td>\n",
       "      <td>0.237655</td>\n",
       "      <td>1.000000</td>\n",
       "    </tr>\n",
       "  </tbody>\n",
       "</table>\n",
       "</div>"
      ],
      "text/plain": [
       "                                       count            mean             std  \\\n",
       "commentId                     2014093.000000  2392990.044585  1349409.077649   \n",
       "channelId                     2014093.000000    26594.173586    15000.551109   \n",
       "videoId                       2014093.000000    46747.864226    26053.460335   \n",
       "authorId                      2014093.000000  1785780.998183  1037899.731257   \n",
       "parentCommentId                195718.000000  2619018.627454  1214276.956844   \n",
       "likeCount                     2014093.000000       19.011844      793.312637   \n",
       "duplicatedFlag                2014093.000000        0.000000        0.000000   \n",
       "regex_spam                    2014093.000000        0.000000        0.000000   \n",
       "predicted_spam                2014093.000000        0.000000        0.000000   \n",
       "isSpam                        2014093.000000        0.000000        0.000000   \n",
       "is_english                    2014093.000000        1.000000        0.000000   \n",
       "relevance_score               2014093.000000        0.254786        0.164690   \n",
       "negative                      2014093.000000        0.379152        0.304920   \n",
       "neutral                       2014093.000000        0.171539        0.105011   \n",
       "positive                      2014093.000000        0.449309        0.327700   \n",
       "v_videoId                     2014093.000000    46747.864226    26053.460335   \n",
       "v_channelId                   2014093.000000    26594.173586    15000.551109   \n",
       "v_viewCount                   2014093.000000 18132337.984750 26486118.703819   \n",
       "v_likeCount                   1935253.000000   682050.108665   895637.026542   \n",
       "v_commentCount                2014093.000000    11144.285390    15942.397723   \n",
       "v_dominant_topic              2012387.000000        1.698847        1.167915   \n",
       "v_topic_confidence            2012387.000000        0.633752        0.168577   \n",
       "comment_frequency             2014093.000000      302.825459     1794.138943   \n",
       "comment_repetitiveness        2014093.000000        0.000150        0.000891   \n",
       "word_length                   2014093.000000        1.832578        0.686040   \n",
       "MATTR                         2014093.000000        0.977438        0.062595   \n",
       "TTR                           2014093.000000        0.969408        0.074607   \n",
       "engagementScore               2014093.000000        0.000030        0.000998   \n",
       "sentiment_magnitude           2014093.000000        0.692045        0.189304   \n",
       "aspect_count                  2014093.000000        0.591195        0.547541   \n",
       "polarized_aspect_count        2014093.000000        0.353474        0.518447   \n",
       "polarized_aspect_ratio        2014093.000000        0.333622        0.470506   \n",
       "relevance_score_scaled        2014093.000000        0.255211        0.163972   \n",
       "polarized_aspect_count_scaled 2014093.000000        0.029456        0.043204   \n",
       "comment_repetitiveness_scaled 2014093.000000        0.019177        0.113993   \n",
       "engagementScore_scaled        2014093.000000        0.000052        0.001747   \n",
       "word_length_scaled            2014093.000000        0.180038        0.108399   \n",
       "\n",
       "                                        min            25%            50%  \\\n",
       "commentId                          0.000000 1229192.000000 2395276.000000   \n",
       "channelId                          1.000000   14429.000000   25475.000000   \n",
       "videoId                            2.000000   25694.000000   47096.000000   \n",
       "authorId                           1.000000  883767.000000 1784786.000000   \n",
       "parentCommentId               516151.000000 1567555.000000 2620141.000000   \n",
       "likeCount                          0.000000       0.000000       0.000000   \n",
       "duplicatedFlag                     0.000000       0.000000       0.000000   \n",
       "regex_spam                         0.000000       0.000000       0.000000   \n",
       "predicted_spam                     0.000000       0.000000       0.000000   \n",
       "isSpam                             0.000000       0.000000       0.000000   \n",
       "is_english                         1.000000       1.000000       1.000000   \n",
       "relevance_score                   -0.183217       0.129382       0.220352   \n",
       "negative                           0.001577       0.082756       0.322908   \n",
       "neutral                            0.000888       0.088486       0.167936   \n",
       "positive                           0.000656       0.128780       0.418735   \n",
       "v_videoId                          2.000000   25694.000000   47096.000000   \n",
       "v_channelId                        1.000000   14429.000000   25475.000000   \n",
       "v_viewCount                        0.000000 1841570.000000 8315555.000000   \n",
       "v_likeCount                        0.000000   73940.000000  312360.000000   \n",
       "v_commentCount                     0.000000    1038.000000    4514.000000   \n",
       "v_dominant_topic                   0.000000       1.000000       1.000000   \n",
       "v_topic_confidence                 0.200000       0.491554       0.614853   \n",
       "comment_frequency                  1.000000       1.000000       1.000000   \n",
       "comment_repetitiveness             0.000000       0.000000       0.000000   \n",
       "word_length                        0.693147       1.386294       1.791759   \n",
       "MATTR                              0.100000       1.000000       1.000000   \n",
       "TTR                                0.002857       1.000000       1.000000   \n",
       "engagementScore                    0.000000       0.000000       0.000000   \n",
       "sentiment_magnitude                0.016424       0.529670       0.703190   \n",
       "aspect_count                       0.000000       0.000000       1.000000   \n",
       "polarized_aspect_count             0.000000       0.000000       0.000000   \n",
       "polarized_aspect_ratio             0.000000       0.000000       0.000000   \n",
       "relevance_score_scaled             0.000000       0.129382       0.220352   \n",
       "polarized_aspect_count_scaled      0.000000       0.000000       0.000000   \n",
       "comment_repetitiveness_scaled      0.000000       0.000000       0.000000   \n",
       "engagementScore_scaled             0.000000       0.000000       0.000000   \n",
       "word_length_scaled                 0.000000       0.109522       0.173589   \n",
       "\n",
       "                                          75%              max  \n",
       "commentId                      3561061.000000   4725015.000000  \n",
       "channelId                        40271.000000     53677.000000  \n",
       "videoId                          69191.000000     92854.000000  \n",
       "authorId                       2657992.000000   3659440.000000  \n",
       "parentCommentId                3671640.500000   4725006.000000  \n",
       "likeCount                            0.000000    456142.000000  \n",
       "duplicatedFlag                       0.000000         0.000000  \n",
       "regex_spam                           0.000000         0.000000  \n",
       "predicted_spam                       0.000000         0.000000  \n",
       "isSpam                               0.000000         0.000000  \n",
       "is_english                           1.000000         1.000000  \n",
       "relevance_score                      0.363327         1.000000  \n",
       "negative                             0.645910         0.997534  \n",
       "neutral                              0.235509         0.977352  \n",
       "positive                             0.761364         0.997136  \n",
       "v_videoId                        69191.000000     92854.000000  \n",
       "v_channelId                      40271.000000     53677.000000  \n",
       "v_viewCount                   23657752.000000 405748145.000000  \n",
       "v_likeCount                     908423.000000   7162433.000000  \n",
       "v_commentCount                   15170.000000    101405.000000  \n",
       "v_dominant_topic                     3.000000         4.000000  \n",
       "v_topic_confidence                   0.781897         0.952719  \n",
       "comment_frequency                    1.000000     15740.000000  \n",
       "comment_repetitiveness               0.000000         0.007815  \n",
       "word_length                          2.197225         7.021976  \n",
       "MATTR                                1.000000         1.000000  \n",
       "TTR                                  1.000000         1.000000  \n",
       "engagementScore                      0.000000         0.571429  \n",
       "sentiment_magnitude                  0.863097         0.997534  \n",
       "aspect_count                         1.000000        16.000000  \n",
       "polarized_aspect_count               1.000000        12.000000  \n",
       "polarized_aspect_ratio               1.000000         1.000000  \n",
       "relevance_score_scaled               0.363327         1.000000  \n",
       "polarized_aspect_count_scaled        0.083333         1.000000  \n",
       "comment_repetitiveness_scaled        0.000000         1.000000  \n",
       "engagementScore_scaled               0.000000         1.000000  \n",
       "word_length_scaled                   0.237655         1.000000  "
      ]
     },
     "execution_count": 27,
     "metadata": {},
     "output_type": "execute_result"
    }
   ],
   "source": [
    "# Describe numeric columns\n",
    "df.describe(include='number').T"
   ]
  },
  {
   "cell_type": "markdown",
   "id": "2c399dbe",
   "metadata": {},
   "source": [
    "## Calculate KPI (Key Performance Indicator)\n",
    "This cell defines the weights for each scaled feature and computes a composite KPI score for each comment using a weighted sum."
   ]
  },
  {
   "cell_type": "code",
   "execution_count": 28,
   "id": "7fea6e6b",
   "metadata": {},
   "outputs": [],
   "source": [
    "# Define weights\n",
    "weights = {\n",
    "    'relevance_score_scaled': 0.25,\n",
    "    'engagementScore_scaled': 0.1,\n",
    "    'sentiment_magnitude': 0.15,\n",
    "    'comment_repetitiveness_scaled': 0.1,\n",
    "    'MATTR': 0.05,\n",
    "    'polarized_aspect_count_scaled': 0.0,\n",
    "    'polarized_aspect_ratio': 0.20,\n",
    "    'word_length_scaled':0.15\n",
    "}\n",
    "\n",
    "# Compute weighted KPI\n",
    "df['KPI'] = (\n",
    "    df['relevance_score_scaled'] * weights['relevance_score_scaled'] +\n",
    "    df['engagementScore_scaled'] * weights['engagementScore_scaled'] +\n",
    "    df['sentiment_magnitude'] * weights['sentiment_magnitude'] +\n",
    "    df['comment_repetitiveness_scaled'] * weights['comment_repetitiveness_scaled'] +\n",
    "    df['MATTR'] * weights['MATTR'] +\n",
    "    df['polarized_aspect_count_scaled'] * weights['polarized_aspect_count_scaled'] +\n",
    "    df['polarized_aspect_ratio'] * weights['polarized_aspect_ratio'] + \n",
    "    df['word_length_scaled'] * weights['word_length_scaled']\n",
    ")\n"
   ]
  },
  {
   "cell_type": "markdown",
   "id": "f4f428b6",
   "metadata": {},
   "source": [
    "## Summarize KPI Distribution\n",
    "This cell provides descriptive statistics for the calculated KPI values across all comments."
   ]
  },
  {
   "cell_type": "code",
   "execution_count": 29,
   "id": "b4b522f8",
   "metadata": {},
   "outputs": [
    {
     "data": {
      "text/plain": [
       "count   2014093.000000\n",
       "mean          0.312134\n",
       "std           0.121477\n",
       "min           0.062030\n",
       "25%           0.212738\n",
       "50%           0.270543\n",
       "75%           0.427181\n",
       "max           0.685384\n",
       "Name: KPI, dtype: float64"
      ]
     },
     "execution_count": 29,
     "metadata": {},
     "output_type": "execute_result"
    }
   ],
   "source": [
    "df['KPI'].describe().T"
   ]
  },
  {
   "cell_type": "markdown",
   "id": "7dbf68d4",
   "metadata": {},
   "source": [
    "## Visualize KPI Distribution\n",
    "This cell plots a histogram of the KPI values to visualize their distribution across all comments."
   ]
  },
  {
   "cell_type": "code",
   "execution_count": 30,
   "id": "bb77ecad",
   "metadata": {},
   "outputs": [
    {
     "data": {
      "image/png": "[encoded data removed]",
      "text/plain": [
       "<Figure size 640x480 with 1 Axes>"
      ]
     },
     "metadata": {},
     "output_type": "display_data"
    }
   ],
   "source": [
    "# distribution of KPI \n",
    "df['KPI'].plot(kind='hist', bins=30, edgecolor='black')\n",
    "plt.title('Histogram of KPI')\n",
    "plt.xlabel('KPI')\n",
    "plt.ylabel('Frequency')\n",
    "plt.show()"
   ]
  },
  {
   "cell_type": "markdown",
   "id": "9d9875ad",
   "metadata": {},
   "source": [
    "## Export High-KPI Comments\n",
    "This cell exports comments with a KPI greater than 0.60 to a CSV file for further analysis."
   ]
  },
  {
   "cell_type": "code",
   "execution_count": 57,
   "id": "f5318e25",
   "metadata": {},
   "outputs": [],
   "source": [
    "df.loc[df['KPI']>0.60][['textOriginal', \"v_title\"]].to_csv(\"dataset/KPI_high.csv\", index = False)"
   ]
  },
  {
   "cell_type": "markdown",
   "id": "8925a2a1",
   "metadata": {},
   "source": [
    "## Count High-KPI Comments\n",
    "This cell counts the number of comments with a KPI greater than 0.65."
   ]
  },
  {
   "cell_type": "code",
   "execution_count": 32,
   "id": "27749328",
   "metadata": {},
   "outputs": [
    {
     "data": {
      "text/plain": [
       "(25, 53)"
      ]
     },
     "execution_count": 32,
     "metadata": {},
     "output_type": "execute_result"
    }
   ],
   "source": [
    "df.loc[df['KPI']>0.65].shape"
   ]
  },
  {
   "cell_type": "markdown",
   "id": "fef11d2a",
   "metadata": {},
   "source": [
    "## Sort Comments by KPI\n",
    "This cell sorts the DataFrame in descending order of KPI, so the most impactful comments appear first."
   ]
  },
  {
   "cell_type": "code",
   "execution_count": 37,
   "id": "756fd1a8",
   "metadata": {},
   "outputs": [],
   "source": [
    "df.sort_values(by = 'KPI', ascending = False, inplace = True)"
   ]
  },
  {
   "cell_type": "markdown",
   "id": "301ee9cd",
   "metadata": {},
   "source": [
    "## Bin and Count KPI Values\n",
    "This cell bins the KPI values into intervals of 0.1 and counts the number of comments in each bin, providing a summary of KPI distribution."
   ]
  },
  {
   "cell_type": "code",
   "execution_count": 51,
   "id": "f77dd2c6",
   "metadata": {},
   "outputs": [
    {
     "data": {
      "text/html": [
       "<div>\n",
       "<style scoped>\n",
       "    .dataframe tbody tr th:only-of-type {\n",
       "        vertical-align: middle;\n",
       "    }\n",
       "\n",
       "    .dataframe tbody tr th {\n",
       "        vertical-align: top;\n",
       "    }\n",
       "\n",
       "    .dataframe thead th {\n",
       "        text-align: right;\n",
       "    }\n",
       "</style>\n",
       "<table border=\"1\" class=\"dataframe\">\n",
       "  <thead>\n",
       "    <tr style=\"text-align: right;\">\n",
       "      <th></th>\n",
       "      <th>count</th>\n",
       "    </tr>\n",
       "    <tr>\n",
       "      <th>KPI</th>\n",
       "      <th></th>\n",
       "    </tr>\n",
       "  </thead>\n",
       "  <tbody>\n",
       "    <tr>\n",
       "      <th>(-0.001, 0.1]</th>\n",
       "      <td>314</td>\n",
       "    </tr>\n",
       "    <tr>\n",
       "      <th>(0.1, 0.2]</th>\n",
       "      <td>385060</td>\n",
       "    </tr>\n",
       "    <tr>\n",
       "      <th>(0.2, 0.3]</th>\n",
       "      <td>778798</td>\n",
       "    </tr>\n",
       "    <tr>\n",
       "      <th>(0.3, 0.4]</th>\n",
       "      <td>249440</td>\n",
       "    </tr>\n",
       "    <tr>\n",
       "      <th>(0.4, 0.5]</th>\n",
       "      <td>420679</td>\n",
       "    </tr>\n",
       "    <tr>\n",
       "      <th>(0.5, 0.6]</th>\n",
       "      <td>175997</td>\n",
       "    </tr>\n",
       "    <tr>\n",
       "      <th>(0.6, 0.7]</th>\n",
       "      <td>3805</td>\n",
       "    </tr>\n",
       "    <tr>\n",
       "      <th>(0.7, 0.8]</th>\n",
       "      <td>0</td>\n",
       "    </tr>\n",
       "    <tr>\n",
       "      <th>(0.8, 0.9]</th>\n",
       "      <td>0</td>\n",
       "    </tr>\n",
       "    <tr>\n",
       "      <th>(0.9, 1.0]</th>\n",
       "      <td>0</td>\n",
       "    </tr>\n",
       "  </tbody>\n",
       "</table>\n",
       "</div>"
      ],
      "text/plain": [
       "                count\n",
       "KPI                  \n",
       "(-0.001, 0.1]     314\n",
       "(0.1, 0.2]     385060\n",
       "(0.2, 0.3]     778798\n",
       "(0.3, 0.4]     249440\n",
       "(0.4, 0.5]     420679\n",
       "(0.5, 0.6]     175997\n",
       "(0.6, 0.7]       3805\n",
       "(0.7, 0.8]          0\n",
       "(0.8, 0.9]          0\n",
       "(0.9, 1.0]          0"
      ]
     },
     "execution_count": 51,
     "metadata": {},
     "output_type": "execute_result"
    }
   ],
   "source": [
    "# Define bins from 0 to 1 with step size 0.1\n",
    "bins = np.arange(0, 1.1, 0.1)   # [0.0, 0.1, 0.2, ..., 1.0]\n",
    "\n",
    "# Bin KPI values\n",
    "kpi_bins = pd.cut(df['KPI'], bins=bins, include_lowest=True)\n",
    "\n",
    "# Count values per bin, sorted by range\n",
    "kpi_bins.value_counts(sort=False).to_frame()"
   ]
  },
  {
   "cell_type": "markdown",
   "id": "a0add729",
   "metadata": {},
   "source": [
    "##### Generating output "
   ]
  },
  {
   "cell_type": "markdown",
   "id": "c28f25ad",
   "metadata": {},
   "source": [
    "## Prepare Final Output DataFrame\n",
    "This cell drops unnecessary columns and prepares the final DataFrame for export, then displays its structure using the `info()` method."
   ]
  },
  {
   "cell_type": "code",
   "execution_count": null,
   "id": "b9da2979",
   "metadata": {},
   "outputs": [
    {
     "name": "stdout",
     "output_type": "stream",
     "text": [
      "<class 'pandas.core.frame.DataFrame'>\n",
      "Index: 2014093 entries, 1504448 to 306536\n",
      "Data columns (total 23 columns):\n",
      " #   Column                Dtype  \n",
      "---  ------                -----  \n",
      " 0   commentId             int64  \n",
      " 1   channelId             int64  \n",
      " 2   videoId               int64  \n",
      " 3   authorId              int64  \n",
      " 4   textOriginal          object \n",
      " 5   parentCommentId       float64\n",
      " 6   likeCount             int64  \n",
      " 7   publishedAt           object \n",
      " 8   updatedAt             object \n",
      " 9   duplicatedFlag        int64  \n",
      " 10  cleanedText           object \n",
      " 11  cleanedTextSentiment  object \n",
      " 12  regex_spam            int64  \n",
      " 13  predicted_spam        float64\n",
      " 14  isSpam                int64  \n",
      " 15  is_english            int64  \n",
      " 16  relevance_score       float64\n",
      " 17  negative              float64\n",
      " 18  neutral               float64\n",
      " 19  positive              float64\n",
      " 20  aspect                object \n",
      " 21  sentiment             object \n",
      " 22  KPI                   float64\n",
      "dtypes: float64(7), int64(9), object(7)\n",
      "memory usage: 368.8+ MB\n"
     ]
    }
   ],
   "source": [
    "df_output = df.drop(columns=['v_videoId',\n",
    "       'v_publishedAt', 'v_channelId', 'v_title', 'v_description', 'v_tags',\n",
    "       'v_viewCount', 'v_likeCount', 'v_commentCount', 'v_translated',\n",
    "       'v_extracted_topicCategories_str', 'comment_frequency',\n",
    "       'comment_repetitiveness', 'word_length', 'MATTR', 'TTR',\n",
    "       'engagementScore', 'sentiment_magnitude', 'sentiment_label',\n",
    "       'aspect_count', 'polarized_aspect_count', 'polarized_aspect_ratio',\n",
    "       'relevance_score_scaled', 'polarized_aspect_count_scaled',\n",
    "       'comment_repetitiveness_scaled', 'engagementScore_scaled',\n",
    "       'word_length_scaled'])\n",
    "\n",
    "df_output.info()"
   ]
  },
  {
   "cell_type": "markdown",
   "id": "54696a74",
   "metadata": {},
   "source": [
    "## Export Final DataFrame to CSV\n",
    "This cell exports the final DataFrame with KPI and selected features to a CSV file for downstream analysis or reporting."
   ]
  },
  {
   "cell_type": "code",
   "execution_count": 39,
   "id": "3b3b5277",
   "metadata": {},
   "outputs": [],
   "source": [
    "df_output.to_csv(\"dataset/final_dataset_with_kpi.csv\", index=False)"
   ]
  }
 ],
 "metadata": {
  "kernelspec": {
   "display_name": "base",
   "language": "python",
   "name": "python3"
  },
  "language_info": {
   "codemirror_mode": {
    "name": "ipython",
    "version": 3
   },
   "file_extension": ".py",
   "mimetype": "text/x-python",
   "name": "python",
   "nbconvert_exporter": "python",
   "pygments_lexer": "ipython3",
   "version": "3.12.4"
  }
 },
 "nbformat": 4,
 "nbformat_minor": 5
}
